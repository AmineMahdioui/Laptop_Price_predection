{
 "cells": [
  {
   "cell_type": "markdown",
   "metadata": {},
   "source": [
    "# Laptop price predictor \n",
    "In this note book we will make a predictor to predict the price of a laptop giving some characteristics. In this project we will perform a lot of preprocessing and exploratory data analysis."
   ]
  },
  {
   "cell_type": "code",
   "execution_count": 97,
   "metadata": {},
   "outputs": [],
   "source": [
    "import pandas as pd\n",
    "import numpy as np\n",
    "import matplotlib.pyplot as plt\n",
    "import seaborn as sn\n",
    "import re\n"
   ]
  },
  {
   "cell_type": "markdown",
   "metadata": {},
   "source": [
    "Importing the data from csv"
   ]
  },
  {
   "cell_type": "code",
   "execution_count": 98,
   "metadata": {},
   "outputs": [
    {
     "data": {
      "text/html": [
       "<div>\n",
       "<style scoped>\n",
       "    .dataframe tbody tr th:only-of-type {\n",
       "        vertical-align: middle;\n",
       "    }\n",
       "\n",
       "    .dataframe tbody tr th {\n",
       "        vertical-align: top;\n",
       "    }\n",
       "\n",
       "    .dataframe thead th {\n",
       "        text-align: right;\n",
       "    }\n",
       "</style>\n",
       "<table border=\"1\" class=\"dataframe\">\n",
       "  <thead>\n",
       "    <tr style=\"text-align: right;\">\n",
       "      <th></th>\n",
       "      <th>laptop_ID</th>\n",
       "      <th>Company</th>\n",
       "      <th>Product</th>\n",
       "      <th>TypeName</th>\n",
       "      <th>Inches</th>\n",
       "      <th>ScreenResolution</th>\n",
       "      <th>Cpu</th>\n",
       "      <th>Ram</th>\n",
       "      <th>Memory</th>\n",
       "      <th>Gpu</th>\n",
       "      <th>OpSys</th>\n",
       "      <th>Weight</th>\n",
       "      <th>Price_euros</th>\n",
       "    </tr>\n",
       "  </thead>\n",
       "  <tbody>\n",
       "    <tr>\n",
       "      <th>0</th>\n",
       "      <td>1</td>\n",
       "      <td>Apple</td>\n",
       "      <td>MacBook Pro</td>\n",
       "      <td>Ultrabook</td>\n",
       "      <td>13.3</td>\n",
       "      <td>IPS Panel Retina Display 2560x1600</td>\n",
       "      <td>Intel Core i5 2.3GHz</td>\n",
       "      <td>8GB</td>\n",
       "      <td>128GB SSD</td>\n",
       "      <td>Intel Iris Plus Graphics 640</td>\n",
       "      <td>macOS</td>\n",
       "      <td>1.37kg</td>\n",
       "      <td>1339.69</td>\n",
       "    </tr>\n",
       "    <tr>\n",
       "      <th>1</th>\n",
       "      <td>2</td>\n",
       "      <td>Apple</td>\n",
       "      <td>Macbook Air</td>\n",
       "      <td>Ultrabook</td>\n",
       "      <td>13.3</td>\n",
       "      <td>1440x900</td>\n",
       "      <td>Intel Core i5 1.8GHz</td>\n",
       "      <td>8GB</td>\n",
       "      <td>128GB Flash Storage</td>\n",
       "      <td>Intel HD Graphics 6000</td>\n",
       "      <td>macOS</td>\n",
       "      <td>1.34kg</td>\n",
       "      <td>898.94</td>\n",
       "    </tr>\n",
       "  </tbody>\n",
       "</table>\n",
       "</div>"
      ],
      "text/plain": [
       "   laptop_ID Company      Product   TypeName  Inches  \\\n",
       "0          1   Apple  MacBook Pro  Ultrabook    13.3   \n",
       "1          2   Apple  Macbook Air  Ultrabook    13.3   \n",
       "\n",
       "                     ScreenResolution                   Cpu  Ram  \\\n",
       "0  IPS Panel Retina Display 2560x1600  Intel Core i5 2.3GHz  8GB   \n",
       "1                            1440x900  Intel Core i5 1.8GHz  8GB   \n",
       "\n",
       "                Memory                           Gpu  OpSys  Weight  \\\n",
       "0            128GB SSD  Intel Iris Plus Graphics 640  macOS  1.37kg   \n",
       "1  128GB Flash Storage        Intel HD Graphics 6000  macOS  1.34kg   \n",
       "\n",
       "   Price_euros  \n",
       "0      1339.69  \n",
       "1       898.94  "
      ]
     },
     "execution_count": 98,
     "metadata": {},
     "output_type": "execute_result"
    }
   ],
   "source": [
    "df = pd.read_csv(\"laptop_price.csv\",encoding='latin-1')\n",
    "df.head(2)"
   ]
  },
  {
   "cell_type": "code",
   "execution_count": 99,
   "metadata": {},
   "outputs": [
    {
     "data": {
      "text/plain": [
       "Index(['laptop_ID', 'Company', 'Product', 'TypeName', 'Inches',\n",
       "       'ScreenResolution', 'Cpu', 'Ram', 'Memory', 'Gpu', 'OpSys', 'Weight',\n",
       "       'Price_euros'],\n",
       "      dtype='object')"
      ]
     },
     "execution_count": 99,
     "metadata": {},
     "output_type": "execute_result"
    }
   ],
   "source": [
    "df.columns"
   ]
  },
  {
   "cell_type": "code",
   "execution_count": 100,
   "metadata": {},
   "outputs": [
    {
     "data": {
      "text/plain": [
       "(1303, 13)"
      ]
     },
     "execution_count": 100,
     "metadata": {},
     "output_type": "execute_result"
    }
   ],
   "source": [
    "df.shape"
   ]
  },
  {
   "cell_type": "markdown",
   "metadata": {},
   "source": [
    "We have 11 characteristics on this dataset, but some of them are really noicy, we will deal with them in the EDA."
   ]
  },
  {
   "cell_type": "markdown",
   "metadata": {},
   "source": [
    "Lets get some more information about this dataset."
   ]
  },
  {
   "cell_type": "code",
   "execution_count": 101,
   "metadata": {},
   "outputs": [
    {
     "name": "stdout",
     "output_type": "stream",
     "text": [
      "<class 'pandas.core.frame.DataFrame'>\n",
      "RangeIndex: 1303 entries, 0 to 1302\n",
      "Data columns (total 13 columns):\n",
      " #   Column            Non-Null Count  Dtype  \n",
      "---  ------            --------------  -----  \n",
      " 0   laptop_ID         1303 non-null   int64  \n",
      " 1   Company           1303 non-null   object \n",
      " 2   Product           1303 non-null   object \n",
      " 3   TypeName          1303 non-null   object \n",
      " 4   Inches            1303 non-null   float64\n",
      " 5   ScreenResolution  1303 non-null   object \n",
      " 6   Cpu               1303 non-null   object \n",
      " 7   Ram               1303 non-null   object \n",
      " 8   Memory            1303 non-null   object \n",
      " 9   Gpu               1303 non-null   object \n",
      " 10  OpSys             1303 non-null   object \n",
      " 11  Weight            1303 non-null   object \n",
      " 12  Price_euros       1303 non-null   float64\n",
      "dtypes: float64(2), int64(1), object(10)\n",
      "memory usage: 132.5+ KB\n"
     ]
    }
   ],
   "source": [
    "df.info()"
   ]
  },
  {
   "cell_type": "markdown",
   "metadata": {},
   "source": [
    "It looks like we have no null values"
   ]
  },
  {
   "cell_type": "code",
   "execution_count": 102,
   "metadata": {},
   "outputs": [
    {
     "data": {
      "text/plain": [
       "laptop_ID           0\n",
       "Company             0\n",
       "Product             0\n",
       "TypeName            0\n",
       "Inches              0\n",
       "ScreenResolution    0\n",
       "Cpu                 0\n",
       "Ram                 0\n",
       "Memory              0\n",
       "Gpu                 0\n",
       "OpSys               0\n",
       "Weight              0\n",
       "Price_euros         0\n",
       "dtype: int64"
      ]
     },
     "execution_count": 102,
     "metadata": {},
     "output_type": "execute_result"
    }
   ],
   "source": [
    "df.isnull().sum()"
   ]
  },
  {
   "cell_type": "markdown",
   "metadata": {},
   "source": [
    "So this is a near perfect dataset, its awsome for academic research and to get some knowledge on how things work, the only problem is that you rarely come across data like this as it usually needs to be cleaned and processed"
   ]
  },
  {
   "cell_type": "markdown",
   "metadata": {},
   "source": [
    "Now lets see the unique values that we have"
   ]
  },
  {
   "cell_type": "code",
   "execution_count": 103,
   "metadata": {},
   "outputs": [
    {
     "name": "stdout",
     "output_type": "stream",
     "text": [
      "laptop_ID colum has 1303 unique elements________________________________________ \n",
      "Unique values in laptop_ID:\n",
      " [   1    2    3 ... 1318 1319 1320]\n",
      "\n",
      "Company colum has 19 unique elements________________________________________ \n",
      "Unique values in Company:\n",
      " ['Apple' 'HP' 'Acer' 'Asus' 'Dell' 'Lenovo' 'Chuwi' 'MSI' 'Microsoft'\n",
      " 'Toshiba' 'Huawei' 'Xiaomi' 'Vero' 'Razer' 'Mediacom' 'Samsung' 'Google'\n",
      " 'Fujitsu' 'LG']\n",
      "\n",
      "Product colum has 618 unique elements________________________________________ \n",
      "Unique values in Product:\n",
      " ['MacBook Pro' 'Macbook Air' '250 G6' 'Aspire 3' 'ZenBook UX430UN'\n",
      " 'Swift 3' 'Inspiron 3567' 'MacBook 12\"' 'IdeaPad 320-15IKB' 'XPS 13'\n",
      " 'Vivobook E200HA' 'Legion Y520-15IKBN' '255 G6' 'Inspiron 5379'\n",
      " '15-BS101nv (i7-8550U/8GB/256GB/FHD/W10)' 'MacBook Air' 'Inspiron 5570'\n",
      " 'Latitude 5590' 'ProBook 470' 'LapBook 15.6\"'\n",
      " 'E402WA-GA010T (E2-6110/2GB/32GB/W10)'\n",
      " '17-ak001nv (A6-9220/4GB/500GB/Radeon' 'IdeaPad 120S-14IAP'\n",
      " 'Inspiron 5770' 'ProBook 450' 'X540UA-DM186 (i3-6006U/4GB/1TB/FHD/Linux)'\n",
      " 'Inspiron 7577' 'X542UQ-GO005 (i5-7200U/8GB/1TB/GeForce'\n",
      " 'Aspire A515-51G' 'Inspiron 7773' 'IdeaPad 320-15ISK' 'Rog Strix'\n",
      " 'X751NV-TY001T (N4200/4GB/1TB/GeForce' 'Yoga Book' 'ProBook 430'\n",
      " 'Inspiron 3576' '15-bs002nv (i3-6006U/4GB/128GB/FHD/W10)' 'VivoBook Max'\n",
      " 'GS73VR 7RG' 'X541UA-DM1897 (i3-6006U/4GB/256GB/FHD/Linux)' 'Vostro 5471'\n",
      " 'IdeaPad 520S-14IKB' 'UX410UA-GV350T (i5-8250U/8GB/256GB/FHD/W10)'\n",
      " 'ZenBook Pro' 'Stream 14-AX040wm' 'V310-15ISK (i5-7200U/4GB/1TB/FHD/W10)'\n",
      " 'FX753VE-GC093 (i7-7700HQ/12GB/1TB/GeForce' 'Surface Laptop'\n",
      " 'Inspiron 5370' 'GL72M 7RDX' 'Aspire E5-475'\n",
      " 'FX503VD-E4022T (i7-7700HQ/8GB/1TB/GeForce' 'IdeaPad 320-15IKBN'\n",
      " 'Aspire A515-51G-32MX' 'ProBook 440' 'IdeaPad 320-15AST'\n",
      " 'Pavilion 15-CK000nv' 'FX503VM-E4007T (i7-7700HQ/16GB/1TB'\n",
      " 'FX550IK-DM018T (FX-9830P/8GB/1TB/Radeon' 'Aspire 5' 'Probook 430'\n",
      " 'Zenbook UX430UA' 'Spin 5' 'X541UV-DM1439T (i3-7100U/6GB/256GB/GeForce'\n",
      " 'Omen 15-ce007nv' '15-bs017nv (i7-7500U/8GB/256GB/Radeon'\n",
      " '15-bw000nv (E2-9000e/4GB/500GB/Radeon' 'Envy 13-ad009n'\n",
      " 'Pavilion 14-BK001nv' 'Ideapad 310-15ISK'\n",
      " 'UX430UQ-GV209R (i7-7500U/8GB/256GB/GeForce' 'GP62M 7REX' 'Thinkpad T470'\n",
      " 'VivoBook S15' 'ThinkPad Yoga' 'Probook 440' 'Spectre x360'\n",
      " 'Inspiron 7570' 'X705UV-BX074T (i3-6006U/4GB/1TB/GeForce' 'Spin 3'\n",
      " 'GS63VR 7RG' 'Probook 470' 'E402WA-GA007T (E2-6110/4GB/64GB/W10'\n",
      " 'Inspiron 5567' 'Aspire A515-51G-37JS'\n",
      " '15-BS078nr (i7-7500U/8GB/1TB/W10)' 'V110-15IAP (N3350/4GB/1TB/No'\n",
      " 'FX753VD-GC086T (i5-7300HQ/8GB/1TB' 'Envy 13-AD007nv' 'ThinkPad E480'\n",
      " 'Satellite Pro' 'ZenBook UX430UA' 'EliteBook Folio'\n",
      " 'X541NA (N3350/4GB/1TB/FHD/W10)' 'GE72MVR 7RG' 'Aspire A315-51'\n",
      " 'Inspiron 5577' 'Inspiron 7567' 'V110-15IKB (i5-7200U/4GB/128GB/W10)'\n",
      " 'GE73VR 7RE' 'EliteBook 840' '15-BS103nv (i5-8250U/6GB/256GB/Radeon'\n",
      " 'Yoga 520-14IKB' 'ZenBook Flip' 'Inspiron 5579'\n",
      " 'X555BP-XX180T (A9-9420/4GB/1TB/Radeon' 'Aspire A517-51G'\n",
      " 'Aspire A315-31' 'GE63VR 7RE' 'MateBook X'\n",
      " '17-bs001nv (i5-7200U/6GB/2TB/Radeon' 'GT80S 6QF-074US'\n",
      " 'V310-15IKB (i5-7200U/8GB/1TB' 'Yoga 920-13IKB' 'Mi Notebook' 'XPS 15'\n",
      " 'Swift 7' 'Thinkpad Yoga' 'K147 (N3350/4GB/32GB/FHD/W10)'\n",
      " 'IdeaPad 320-17IKBR' 'Blade Pro' 'Omen 17-W295'\n",
      " 'V110-15ISK (i5-6200U/4GB/128GB/W10)' 'Aspire E5-576G'\n",
      " 'Legion Y720-15IKB' 'Precision 7520' 'Aspire 7' 'ROG GL703VD-GC028T'\n",
      " '15-bs018nq (i3-6006U/4GB/500GB/FHD/No' 'IdeaPad 320-17IKB'\n",
      " 'Latitude 5490' 'Portege Z30-C-16L' 'Alienware 17'\n",
      " 'Vivobook X541UV-DM1217T' 'K756UX-T4340T (i5-7200U/8GB/500GB' 'ZBook 15u'\n",
      " 'Pro P2540UA-XO0198T' '15-rb013nv (E2-9000e/4GB/500GB/W10)' 'Vostro 5468'\n",
      " 'Aspire R7' 'X555QG-DM242T (A10-9620P/4GB/1TB' 'ROG G703VI-E5062T'\n",
      " 'Nitro AN515-51' 'VivoBook Pro' 'F756UX-T4201D (i7-7500U/8GB/128GB'\n",
      " 'Yoga 910-13IKB' '15-bs015dx (i5-7200U/8GB/1TB/W10)' 'Rog G701VIK-BA060T'\n",
      " 'ROG G752VSK-GC493T' 'X505BP-BR019T (A9-9420/4GB/1TB/Radeon'\n",
      " 'Vostro 5370' '15-BW094nd (A6-9220/8GB/128GB/W10)' 'Envy 17-U275cl'\n",
      " 'GT73EVR 7RE' 'Yoga 720-15IKB' 'Vostro 3568'\n",
      " 'V330-15IKB (i7-8550U/8GB/256GB/FHD/W10)' 'ThinkPad X1'\n",
      " 'IdeaPad 320-17ISK' 'Ideapad 320-15IKBN'\n",
      " 'SP315-51 (i7-7500U/12GB/1TB/FHD/W10)' 'Thinkpad T570'\n",
      " 'Chromebook C910-C2ST' 'FX753VD-GC071T (i7-7700HQ/8GB/1TB/GeForce'\n",
      " '17-BS037cl (i3-6006U/8GB/1TB/W10)'\n",
      " 'V330-15IKB (i5-8250U/8GB/256GB/FHD/W10)' 'Aspire A715-71G'\n",
      " 'Precision 7720' 'IdeaPad 310-15ABR' 'ZenBook UX530UQ-PRO' 'VivoBook S14'\n",
      " 'Rog GL702VS-GC095T' 'GL553VE-FY082T (i7-7700HQ/8GB/1TB'\n",
      " 'IdeaPad 320-15IAP' 'EliteBook x360' 'IdeaPad 720S-13IKB' 'GE63VR 7RF'\n",
      " 'ES1-523-84K7 (A8-7410/8GB/256GB/FHD/W10)' 'VivoBook Flip' 'ThinkPad 13'\n",
      " 'ProBook 640' 'TravelMate B' 'Elitebook 840' 'ZenBook UX410UA-GV183T'\n",
      " 'Aspire E5-575' 'Elitebook 820' 'GL72M 7REX'\n",
      " 'UX510UX-CN269T (i7-7500U/8GB/256GB'\n",
      " 'V310-15ISK (i3-6006U/4GB/1TB/FHD/W10)'\n",
      " 'FX553VD-FY647T (i7-7700HQ/8GB/256GB/GeForce' 'Elitebook 850'\n",
      " 'X541NA (N3350/4GB/1TB/Linux)' 'Inspiron 3552' 'IdeaPad 320-15ABR'\n",
      " 'Stream 14-AX001nv' 'GP72MVR 7RFX' 'Zbook 15' 'Tecra A50-C-21G'\n",
      " 'Latitude 7480' 'Zenbook UX410UA-GV027T' '15-AY023na (N3710/8GB/2TB/W10)'\n",
      " 'Elitebook 1040' 'IdeaPad 110-17ACL'\n",
      " '15-bw003nv (A9-Series-9420/4GB/256GB/FHD/W10)' 'Yoga 11e'\n",
      " 'VivoBook E403NA' 'Omen 17-w212nv'\n",
      " 'V310-15ISK (i3-6006U/4GB/128GB/FHD/No' 'ROG Strix' 'IdeaPad 720S-14IKB'\n",
      " 'Zenbook Flip' 'Thinkpad X1' 'Ideapad 510S-13IKB' 'Precision 3510'\n",
      " 'Precision 5520' 'Rog GL753VD-GC042T' 'Rog GL753VE-GC070T'\n",
      " 'Leopard GP72M' '15-BW004nv (A9-9420/4GB/256GB/Radeon' 'ThinkPad E580'\n",
      " 'ThinkPad L470' 'Precision M5520' 'FX753VD-GC461T (i7-7700HQ/16GB/1TB'\n",
      " 'GE73VR 7RF' 'Zenbook 3' 'Portege Z30-C-16P' 'Lenovo IdeaPad'\n",
      " 'ThinkPad P51' 'Thinkpad T470p' '15-BS028nv (i3-6006U/4GB/1TB/Radeon'\n",
      " 'Latitude 3380' 'EliteBook 1040' 'LapBook 12.3' 'ProBook 650'\n",
      " 'X542UQ-DM117 (i3-7100U/8GB/1TB/GeForce' 'Latitude 5480' 'Omen 17-w207nv'\n",
      " 'FlexBook Edge' 'Chromebook 3' 'Thinkpad 13' 'IdeaPad 320s-14IKB'\n",
      " 'Thinkpad P51' '15-ra044nv (N3060/4GB/500GB/W10)' 'Pixelbook (Core'\n",
      " 'ThinkPad T470s' 'ThinkPad X270' 'Omen 15-AX205na' 'Aspire ES1-572'\n",
      " 'Precision 3520' 'GV62 7RD-1686NL' '15-bs024nv (i5-7200U/8GB/128GB/W10)'\n",
      " 'ThinkPad T470' 'Inspiron 3168' '17-BS092ND (i3-6006U/8GB/256GB/W10)'\n",
      " 'Pro P2540UA-AB51' 'IdeaPad 510s-14IKB'\n",
      " 'X541NA-PD1003Y (N4200/4GB/500GB/W10)' 'Omen 17-an006nv' 'Thinkpad T460s'\n",
      " 'Latitude 7390' 'Latitude E5470' 'Portege X30-D-10J' 'Lapbook 15,6'\n",
      " 'ThinkPad E570' 'Thinkpad X270' 'Zenbook UX390UA' 'Thinkpad E570'\n",
      " 'Portege X30-D-10L' 'Rog G752VL-UH71T' 'Thinkpad X260'\n",
      " 'Ideapad 520-15IKBR' 'ThinkPad L570' 'VivoBook E201NA'\n",
      " '15-BS026nv (i5-7200U/8GB/256GB/Radeon' 'IdeaPad 320-14IAP'\n",
      " 'Chromebook N23' 'ZenBook UX510UX-CN211T' 'Aspire A515-51G-59QF'\n",
      " 'Envy 13-AB002nv' 'Vostro 5568' 'VivoBook E12'\n",
      " '15-bs190od (i5-8250U/4GB/1TB/W10)' 'ROG Zephyrus' 'Probook 450'\n",
      " 'FX753VE-GC155T (i7-7700HQ/16GB/1TB' 'Spectre X360' 'Latitude 5580'\n",
      " 'Zenbook UX510UW-FI095T' 'SmartBook Edge' 'Omen 15-ce006nv'\n",
      " 'Thinkpad E470' 'Envy 13-AB020nr' 'VivoBook X540YA-XX519T'\n",
      " 'ThinkPad E470' 'V310-15ISK (i5-6200U/4GB/1TB/FHD/No' 'ThinkPad T570'\n",
      " '17-X047na (i3-6006U/8GB/1TB/W10)' 'A541NA-GO342 (N3350/4GB/500GB/Linux)'\n",
      " 'SmartBook 130' '15-bw007nv (A10-9620P/6GB/128GB/Radeon' 'Spin SP111-31'\n",
      " 'V330-15IKB (i3-7130U/4GB/128GB/FHD/W10)' 'EliteBook 1030' 'Thinkpad P71'\n",
      " 'FX553VD-DM627T (i5-7300HQ/8GB/1TB' 'Lifebook A557' 'ZBook 17'\n",
      " '14-am079na (N3710/8GB/2TB/W10)' '15-cd005nv (A9-9420/6GB/256GB/Radeon'\n",
      " 'V330-15IKB (i5-8250U/4GB/500GB/FHD/W10)' 'SmartBook 141'\n",
      " 'Tecra X40-D-10H' 'IdeaPad Y910-17ISK' 'GT73VR Titan' 'Chromebook 11'\n",
      " 'GT80S 6QE' 'Omen 17-AN010nv' 'Ideapad 320-15IKBR'\n",
      " 'TP501UA-CJ131T (i5-7200U/8GB/1TB/W10)' 'Inspiron 3179'\n",
      " 'Notebook Odyssey' 'V320-17ISK (i3-6006U/4GB/500GB/FHD/No'\n",
      " 'IdeaPad 110-15ISK' 'Latitude 5289' 'EliteBook 850' 'Aspire 1'\n",
      " 'Laptop MSI' 'GS63VR 7RF' 'Tecra Z50-C-144' 'IdeaPad 310-15IKB'\n",
      " 'Swift SF114-31-P5HY' 'Inspiron 7559' 'FX753VD-GC007T (i7-7700HQ/8GB/1TB'\n",
      " 'GT62VR 7RE' 'CB5-132T-C9KK (N3160/4GB/32GB/Chrome' 'LifeBook A557'\n",
      " 'SmartBook 140' 'Q304UA-BHI5T11 (i5-7200U/6GB/1TB/FHD/W10)' 'ZenBook 3'\n",
      " 'V330-15IKB (i5-8250U/4GB/256GB/FHD/W10)' 'Ideapad 320-15ISK'\n",
      " 'X541NA-GO414T (N3350/8GB/1TB/W10)' 'IdeaPad 100S-14IBR'\n",
      " '17-AK091ND (A9-9420/8GB/1TB/W10)' 'ROG GL553VE-FY022' 'Extensa EX2540'\n",
      " 'Portege Z30-C-16J' 'ROG G701VI'\n",
      " 'A715-71G-59DH (i5-7300HQ/8GB/1TB/GeForce' 'GL62M 7REX' 'Tecra A50-D-11M'\n",
      " 'IdeaPad Y700-15ISK' 'Latitude E7470' 'Ideapad 320-15IAP'\n",
      " '15-ay047nv (i3-6006U/6GB/1TB/Radeon' 'GP72VR Leopard' 'Latitude 3580'\n",
      " '15-bs012nv (i7-7500U/8GB/1TB/Radeon' 'Tecra Z50-D-10E'\n",
      " 'V310-15ISK (i5-7200U/8GB/1TB' 'Yoga 720-13IKB' 'Pavilion X360'\n",
      " 'GP62 7RDX' 'Chromebook X360' 'Gram 15Z975' 'Aspire VX5-591G' 'GV62M 7RD'\n",
      " 'L502NA-GO052T (N3350/4GB/128GB/W10)' 'Alienware 15' '17-bs000nv I3'\n",
      " 'Yoga 730' '17-Y002nv (A10-9600P/6GB/2TB/Radeon'\n",
      " 'V110-15ISK (3855U/4GB/500GB/W10)' 'Chromebook 14' 'IdeaPad 520s-14IKB'\n",
      " 'TravelMate B117-M' 'Chromebook Flip' 'Portege Z30T-C-133'\n",
      " '15-bs011nv (i7-7500U/4GB/500GB/Radeon'\n",
      " 'V310-15IKB (i5-7200U/4GB/1TB/FHD/W10)'\n",
      " 'V310-15ISK (i3-6006U/4GB/500GB/No' 'ThinkPad P51s' 'Thinkpad T460p'\n",
      " '17-ak002nv (A10-9620P/6GB/2TB/Radeon'\n",
      " '110-15ACL (A6-7310/4GB/500GB/W10)' 'Smartbook 142'\n",
      " 'V310-15IKB (i5-7200U/4GB/1TB/No' 'Inspiron 5378'\n",
      " '15-BW037na (A9-9420/4GB/1TB/Radeon' 'Predator 17'\n",
      " '15-BW091ND (A9-9420/6GB/1TB' 'Extensa EX2540-58KR'\n",
      " 'V310-15IKB (i7-7500U/4GB/1TB/FHD/W10)' 'ZBook 15' 'Inspiron 7560'\n",
      " 'Tecra X40-D-10G' 'Flex 5' 'Thinkpad P51s' 'Notebook 9' 'Zbook 17'\n",
      " 'N23 (N3060/4GB/128GB/W10)' 'X550VX-XX015D (i5-6300HQ/4GB/1TB/GeForce'\n",
      " 'Thinkpad T460' 'Pro P2540UA-XO0192R' 'Yoga 900-13ISK'\n",
      " '15-cb003na (i5-7300HQ/8GB/1TB' 'Latitude 7280' 'Zenbook UX330UA-AH5Q'\n",
      " 'TravelMate P238-M' 'X751NV-TY001 (N4200/4GB/1TB/GeForce'\n",
      " 'Tecra A40-C-1E5' 'EliteBook 820'\n",
      " 'Q524UQ-BHI7T15 (i7-7500U/12GB/2TB/GeForce' 'Thinkpad P50' 'Vivobook Max'\n",
      " 'Rog G752VS-BA171T' 'Tecra Z40-C-161' 'IdeaPad 110-15IBR' 'GS43VR 7RE'\n",
      " 'GL62M (i5-7300HQ/8GB/1TB' 'Predator G9-793'\n",
      " 'FX502VM-DM560T (i7-7700HQ/8GB/1TB' 'K146 (N3350/4GB/32GB/W10)'\n",
      " 'Yoga 510-15IKB' 'R417NA-RS01 (N3350/4GB/32GB/W10)' 'Pro P2540UA-XS51'\n",
      " 'Latitude 3180' '15-ba043na (A12-9700P/8GB/2TB/W10)' 'Omen 17-an012dx'\n",
      " 'Thinkpad T470s' 'Blade Stealth' 'Latitude 3480'\n",
      " 'V110-15ISK (i3-6006U/4GB/500GB/W10)' 'Tecra X40-D-10Z' 'GL62M 7RD'\n",
      " 'Rog GL702VS-BA023T' 'N42-20 Chromebook'\n",
      " 'R558UA-DM966T (i5-7200U/8GB/128GB/FHD/W10)' 'Rog GL702VM-GC017T'\n",
      " 'ZenBook UX310UQ-GL026T' 'Rog GL502VM-DS74' 'Inspiron 5767'\n",
      " 'ThinkPad T470p' 'K556UR-DM621T (i7-7500U/8GB/256GB/GeForce'\n",
      " 'X541NA (N4200/4GB/1TB/W10)' 'Inspiron 5368' 'Portege X30-D-10X'\n",
      " 'Portégé Z30-C-188' 'TMX349-G2-M-50FS (i5-7200U/8GB/256GB/FHD/W10)'\n",
      " 'Tecra A50-D-11D' 'X541NA-GO121 (N4200/4GB/1TB/Linux)' 'Pavilion x360'\n",
      " 'VivoBook L402NA' 'IdeaPad 510-15ISK' 'Rog GL753VD-GC082T'\n",
      " 'Chromebook C731-C78G' 'Probook 640' 'Envy x360' 'GS73VR Stealth'\n",
      " 'Portege X30-D-10V' 'G701VO-IH74K (i7-6820HK/32GB/2x' 'Gram 15Z970'\n",
      " 'Chromebook CB5-571-C1DZ' 'Gram 14Z970' 'Elitebook Folio'\n",
      " 'IdeaPad 510-15IKB' 'GE72VR 6RF' 'Envy 13-AB077cl' 'Tecra Z50-C-140'\n",
      " 'Probook 650' 'Tecra Z40-C-12X' 'GP62M Leopard' 'Omen 17-W006na'\n",
      " 'X751SV-TY001T (N3710/4GB/1TB/GeForce' 'TravelMate P259-G2'\n",
      " 'Tecra A50-C-1ZV' 'Yoga 700-11ISK' 'IdeaPad Y700-15ACZ' 'Insprion 5767'\n",
      " 'ZBook Studio' 'Portege Z30-C-1CW' 'ProBook x360' 'Chromebook C738T-C2EJ'\n",
      " 'Portege Z30-C-16Z' 'Aspire F5-573G-510L' 'Portege X20W-D-10V'\n",
      " 'Tecra A40-C-1DF' 'ThinkPad T460' 'Q534UX-BHI7T19 (i7-7500U/16GB/2TB'\n",
      " '15-bs053od (i7-7500U/6GB/1TB/W10)' 'Rog GL753VE-DS74' 'Inspiron 7579'\n",
      " 'Portege Z30-C-1CV' 'LifeBook A556' 'Tecra A40-C-1KF'\n",
      " '15-bs005nv (i3-6006U/4GB/1TB' 'V110-15IAP (N3350/4GB/128GB/No'\n",
      " 'ThinkPad T560' 'ZenBook UX310UA-FB485T' 'Spectre 13-V111dx'\n",
      " 'Aspire ES1-533' 'Rog GL553VE-DS74' 'Nitro 5' 'ENVY -'\n",
      " 'Portege Z30-C-16H' 'Portege A30-C-1CZ' 'ThinkPad P70' 'Tecra Z40-C-12Z'\n",
      " 'Inspiron 5568' 'Portégé Z30-C-16K' 'Spectre 13-V100nv' 'Latitude E5570'\n",
      " 'Tecra Z40-C-136' 'Yoga 500-15ISK' 'V142 (X5-Z8350/2GB/32GB/W10)'\n",
      " 'Tecra A50-C-218' 'Thinkpad L560' 'GT72S Dominator' 'IdeaPad Y900-17ISK'\n",
      " 'Chromebook C202SA' 'Noteb Pav' 'Inspiron 5578' '250 G5' 'Aspire ES1-523'\n",
      " 'Inspiron 7378' 'GT62VR 6RD' 'Rog G752VL-GC088D' 'GS63VR 6RF'\n",
      " 'ROG G701VO' 'Latitude 3570' 'IdeaPad 300-17ISK' 'Ideapad 700-15ISK'\n",
      " 'GT72VR Dominator' 'V110-15ISK (i5-6200U/4GB/500GB/W10)'\n",
      " 'Yoga 900S-12ISK' 'Chromebook 13' 'Rog GL702VM-GC354T' 'Aspire F5-573G'\n",
      " 'GS70 Stealth' 'G752VY-GC162T (i7-6700HQ/16GB/1TB' 'Latitude E5270'\n",
      " 'Chromebook 15' 'GE72 Apache' '15-bw011nv (A6-9220/4GB/1TB/FHD/W10)'\n",
      " 'Rog GL552VW-CN470T' 'Vostro 3559' 'V110-15ISK (i3-6006U/4GB/128GB/W10)'\n",
      " 'Spectre Pro' 'Portege X30-D-10K' 'Rog GL752VW-T4308T'\n",
      " 'V131 (X5-Z8350/4GB/32GB/FHD/W10)' 'Omen -'\n",
      " '15-bs078cl (i7-7500U/8GB/2TB/W10)' 'ThinkPad P40'\n",
      " 'L403NA-GA013TS (N3350/4GB/32GB/W10)' 'IdeaPad 500-15ISK' 'GP62M 7RDX'\n",
      " 'V110-15ISK (i3-6006U/4GB/1TB/No' '15-BA015wm (E2-7110/4GB/500GB/W10)'\n",
      " 'B51-80 (i5-6200U/8GB/1TB/Radeon' '15-bw002nv (A6-9220/4GB/256GB/Radeon'\n",
      " 'GP72M 7REX' 'ThinkPad T460s' 'B51-80 (i5-6200U/8GB/1008GB/Radeon'\n",
      " 'GS40 Phantom' 'Pavilion 15-cb003nv' 'IdeaPad 310-15ISK' '250 G4'\n",
      " '320-15ISK (i3-6006U/4GB/1TB/GeForce' 'Stream 14-AX000nv' 'PL60 7RD'\n",
      " 'X553SA-XX021T (N3050/4GB/500GB/W10)' 'V110-15ISK (i5-6200U/4GB/500GB/No'\n",
      " 'UX410UA-GV097T (i3-7100U/4GB/256GB/FHD/W10)'\n",
      " 'B51-80 (i7-6500U/4GB/1008GB/FHD/W7)' 'GS60 Ghost' 'Pavilion 15-BC000nv'\n",
      " 'Rog GL552VW-DM201T' 'Chromebook Plus' 'Pavilion Power'\n",
      " 'V110-15ISK (i3-6006U/4GB/1TB/Radeon' 'Rog G752VY-GC229T' 'GS73VR 7RF'\n",
      " 'FX502VM-DM105T (i7-6700HQ/8GB/1TB/GeForce'\n",
      " '15-bs025nv (i5-7200U/8GB/256GB/W10)' 'Aspire E5-774G'\n",
      " 'FX502VM-AS73 (i7-7700HQ/16GB/1TB' 'C740-C9QX (3205U/2GB/32GB/Chrome'\n",
      " 'E5 774G' 'SP714-51 (i7-7Y75/8GB/256GB/FHD/W10)' 'Thinkpad T560'\n",
      " 'GP62MVR 6RF' '15-bw009nv (A12-9720P/6GB/1TB/Radeon' 'Latitude E7270'\n",
      " 'X540SA-RBPDN09 (N3710/4GB/1TB/W10)' 'GL62M 7RDX' 'GE72VR Apache'\n",
      " '15-bs023nv (i3-6006U/4GB/1TB/FHD/W10)' 'GL62 6QF' 'ZenBook UX310UA-WB71'\n",
      " 'Inspiron 7779' 'Rog GL553VE-FY052T' 'Rog GL502VS'\n",
      " 'V510-15IKB (i5-7200U/8GB/256GB/FHD/No' 'ThinkPad L460'\n",
      " 'X541NA-GO020T (N3350/4GB/1TB/W10)' 'Rog G752VT-GC073T'\n",
      " 'B51-80 (i7-6500U/8GB/1008GB/Radeon' 'GE62 Apache' 'Yoga 500-14IBD'\n",
      " 'ZenBook UX305CA-UBM1' 'Aspire ES1-531' 'Pavilion 15-AW003nv'\n",
      " 'Stream 11-Y000na' 'X556UJ-XO044T (i7-6500U/4GB/500GB/GeForce'\n",
      " 'Yoga 500-14ISK' '15-AC110nv (i7-6500U/6GB/1TB/Radeon'\n",
      " 'X553SA-XX031T (N3050/4GB/500GB/W10)']\n",
      "\n",
      "TypeName colum has 6 unique elements________________________________________ \n",
      "Unique values in TypeName:\n",
      " ['Ultrabook' 'Notebook' 'Netbook' 'Gaming' '2 in 1 Convertible'\n",
      " 'Workstation']\n",
      "\n",
      "Inches colum has 18 unique elements________________________________________ \n",
      "Unique values in Inches:\n",
      " [13.3 15.6 15.4 14.  12.  11.6 17.3 10.1 13.5 12.5 13.  18.4 13.9 12.3\n",
      " 17.  15.  14.1 11.3]\n",
      "\n",
      "ScreenResolution colum has 40 unique elements________________________________________ \n",
      "Unique values in ScreenResolution:\n",
      " ['IPS Panel Retina Display 2560x1600' '1440x900' 'Full HD 1920x1080'\n",
      " 'IPS Panel Retina Display 2880x1800' '1366x768'\n",
      " 'IPS Panel Full HD 1920x1080' 'IPS Panel Retina Display 2304x1440'\n",
      " 'IPS Panel Full HD / Touchscreen 1920x1080'\n",
      " 'Full HD / Touchscreen 1920x1080' 'Touchscreen / Quad HD+ 3200x1800'\n",
      " 'IPS Panel Touchscreen 1920x1200' 'Touchscreen 2256x1504'\n",
      " 'Quad HD+ / Touchscreen 3200x1800' 'IPS Panel 1366x768'\n",
      " 'IPS Panel 4K Ultra HD / Touchscreen 3840x2160'\n",
      " 'IPS Panel Full HD 2160x1440' '4K Ultra HD / Touchscreen 3840x2160'\n",
      " 'Touchscreen 2560x1440' '1600x900' 'IPS Panel 4K Ultra HD 3840x2160'\n",
      " '4K Ultra HD 3840x2160' 'Touchscreen 1366x768'\n",
      " 'IPS Panel Full HD 1366x768' 'IPS Panel 2560x1440'\n",
      " 'IPS Panel Full HD 2560x1440' 'IPS Panel Retina Display 2736x1824'\n",
      " 'Touchscreen 2400x1600' '2560x1440' 'IPS Panel Quad HD+ 2560x1440'\n",
      " 'IPS Panel Quad HD+ 3200x1800'\n",
      " 'IPS Panel Quad HD+ / Touchscreen 3200x1800'\n",
      " 'IPS Panel Touchscreen 1366x768' '1920x1080'\n",
      " 'IPS Panel Full HD 1920x1200'\n",
      " 'IPS Panel Touchscreen / 4K Ultra HD 3840x2160'\n",
      " 'IPS Panel Touchscreen 2560x1440' 'Touchscreen / Full HD 1920x1080'\n",
      " 'Quad HD+ 3200x1800' 'Touchscreen / 4K Ultra HD 3840x2160'\n",
      " 'IPS Panel Touchscreen 2400x1600']\n",
      "\n",
      "Cpu colum has 118 unique elements________________________________________ \n",
      "Unique values in Cpu:\n",
      " ['Intel Core i5 2.3GHz' 'Intel Core i5 1.8GHz'\n",
      " 'Intel Core i5 7200U 2.5GHz' 'Intel Core i7 2.7GHz'\n",
      " 'Intel Core i5 3.1GHz' 'AMD A9-Series 9420 3GHz' 'Intel Core i7 2.2GHz'\n",
      " 'Intel Core i7 8550U 1.8GHz' 'Intel Core i5 8250U 1.6GHz'\n",
      " 'Intel Core i3 6006U 2GHz' 'Intel Core i7 2.8GHz'\n",
      " 'Intel Core M m3 1.2GHz' 'Intel Core i7 7500U 2.7GHz'\n",
      " 'Intel Core i7 2.9GHz' 'Intel Core i3 7100U 2.4GHz'\n",
      " 'Intel Atom x5-Z8350 1.44GHz' 'Intel Core i5 7300HQ 2.5GHz'\n",
      " 'AMD E-Series E2-9000e 1.5GHz' 'Intel Core i5 1.6GHz'\n",
      " 'Intel Core i7 8650U 1.9GHz' 'Intel Atom x5-Z8300 1.44GHz'\n",
      " 'AMD E-Series E2-6110 1.5GHz' 'AMD A6-Series 9220 2.5GHz'\n",
      " 'Intel Celeron Dual Core N3350 1.1GHz' 'Intel Core i3 7130U 2.7GHz'\n",
      " 'Intel Core i7 7700HQ 2.8GHz' 'Intel Core i5 2.0GHz'\n",
      " 'AMD Ryzen 1700 3GHz' 'Intel Pentium Quad Core N4200 1.1GHz'\n",
      " 'Intel Atom x5-Z8550 1.44GHz' 'Intel Celeron Dual Core N3060 1.6GHz'\n",
      " 'Intel Core i5 1.3GHz' 'AMD FX 9830P 3GHz' 'Intel Core i7 7560U 2.4GHz'\n",
      " 'AMD E-Series 6110 1.5GHz' 'Intel Core i5 6200U 2.3GHz'\n",
      " 'Intel Core M 6Y75 1.2GHz' 'Intel Core i5 7500U 2.7GHz'\n",
      " 'Intel Core i3 6006U 2.2GHz' 'AMD A6-Series 9220 2.9GHz'\n",
      " 'Intel Core i7 6920HQ 2.9GHz' 'Intel Core i5 7Y54 1.2GHz'\n",
      " 'Intel Core i7 7820HK 2.9GHz' 'Intel Xeon E3-1505M V6 3GHz'\n",
      " 'Intel Core i7 6500U 2.5GHz' 'AMD E-Series 9000e 1.5GHz'\n",
      " 'AMD A10-Series A10-9620P 2.5GHz' 'AMD A6-Series A6-9220 2.5GHz'\n",
      " 'Intel Core i5 2.9GHz' 'Intel Core i7 6600U 2.6GHz'\n",
      " 'Intel Core i3 6006U 2.0GHz' 'Intel Celeron Dual Core 3205U 1.5GHz'\n",
      " 'Intel Core i7 7820HQ 2.9GHz' 'AMD A10-Series 9600P 2.4GHz'\n",
      " 'Intel Core i7 7600U 2.8GHz' 'AMD A8-Series 7410 2.2GHz'\n",
      " 'Intel Celeron Dual Core 3855U 1.6GHz'\n",
      " 'Intel Pentium Quad Core N3710 1.6GHz' 'AMD A12-Series 9720P 2.7GHz'\n",
      " 'Intel Core i5 7300U 2.6GHz' 'AMD A12-Series 9720P 3.6GHz'\n",
      " 'Intel Celeron Quad Core N3450 1.1GHz'\n",
      " 'Intel Celeron Dual Core N3060 1.60GHz' 'Intel Core i5 6440HQ 2.6GHz'\n",
      " 'Intel Core i7 6820HQ 2.7GHz' 'AMD Ryzen 1600 3.2GHz'\n",
      " 'Intel Core i7 7Y75 1.3GHz' 'Intel Core i5 7440HQ 2.8GHz'\n",
      " 'Intel Core i7 7660U 2.5GHz' 'Intel Core i7 7700HQ 2.7GHz'\n",
      " 'Intel Core M m3-7Y30 2.2GHz' 'Intel Core i5 7Y57 1.2GHz'\n",
      " 'Intel Core i7 6700HQ 2.6GHz' 'Intel Core i3 6100U 2.3GHz'\n",
      " 'AMD A10-Series 9620P 2.5GHz' 'AMD E-Series 7110 1.8GHz'\n",
      " 'Intel Celeron Dual Core N3350 2.0GHz' 'AMD A9-Series A9-9420 3GHz'\n",
      " 'Intel Core i7 6820HK 2.7GHz' 'Intel Core M 7Y30 1.0GHz'\n",
      " 'Intel Xeon E3-1535M v6 3.1GHz' 'Intel Celeron Quad Core N3160 1.6GHz'\n",
      " 'Intel Core i5 6300U 2.4GHz' 'Intel Core i3 6100U 2.1GHz'\n",
      " 'AMD E-Series E2-9000 2.2GHz' 'Intel Celeron Dual Core N3050 1.6GHz'\n",
      " 'Intel Core M M3-6Y30 0.9GHz' 'AMD A9-Series 9420 2.9GHz'\n",
      " 'Intel Core i5 6300HQ 2.3GHz' 'AMD A6-Series 7310 2GHz'\n",
      " 'Intel Atom Z8350 1.92GHz' 'Intel Xeon E3-1535M v5 2.9GHz'\n",
      " 'Intel Core i5 6260U 1.8GHz' 'Intel Pentium Dual Core N4200 1.1GHz'\n",
      " 'Intel Celeron Quad Core N3710 1.6GHz' 'Intel Core M 1.2GHz'\n",
      " 'AMD A12-Series 9700P 2.5GHz' 'Intel Core i7 7500U 2.5GHz'\n",
      " 'Intel Pentium Dual Core 4405U 2.1GHz' 'AMD A4-Series 7210 2.2GHz'\n",
      " 'Intel Core i7 6560U 2.2GHz' 'Intel Core M m7-6Y75 1.2GHz'\n",
      " 'AMD FX 8800P 2.1GHz' 'Intel Core M M7-6Y75 1.2GHz'\n",
      " 'Intel Core i5 7200U 2.50GHz' 'Intel Core i5 7200U 2.70GHz'\n",
      " 'Intel Atom X5-Z8350 1.44GHz' 'Intel Core i5 7200U 2.7GHz'\n",
      " 'Intel Core M 1.1GHz' 'Intel Pentium Dual Core 4405Y 1.5GHz'\n",
      " 'Intel Pentium Quad Core N3700 1.6GHz' 'Intel Core M 6Y54 1.1GHz'\n",
      " 'Intel Core i7 6500U 2.50GHz' 'Intel Celeron Dual Core N3350 2GHz'\n",
      " 'Samsung Cortex A72&A53 2.0GHz' 'AMD E-Series 9000 2.2GHz'\n",
      " 'Intel Core M 6Y30 0.9GHz' 'AMD A9-Series 9410 2.9GHz']\n",
      "\n",
      "Ram colum has 9 unique elements________________________________________ \n",
      "Unique values in Ram:\n",
      " ['8GB' '16GB' '4GB' '2GB' '12GB' '6GB' '32GB' '24GB' '64GB']\n",
      "\n",
      "Memory colum has 39 unique elements________________________________________ \n",
      "Unique values in Memory:\n",
      " ['128GB SSD' '128GB Flash Storage' '256GB SSD' '512GB SSD' '500GB HDD'\n",
      " '256GB Flash Storage' '1TB HDD' '32GB Flash Storage'\n",
      " '128GB SSD +  1TB HDD' '256GB SSD +  256GB SSD' '64GB Flash Storage'\n",
      " '256GB SSD +  1TB HDD' '256GB SSD +  2TB HDD' '32GB SSD' '2TB HDD'\n",
      " '64GB SSD' '1.0TB Hybrid' '512GB SSD +  1TB HDD' '1TB SSD'\n",
      " '256GB SSD +  500GB HDD' '128GB SSD +  2TB HDD' '512GB SSD +  512GB SSD'\n",
      " '16GB SSD' '16GB Flash Storage' '512GB SSD +  256GB SSD'\n",
      " '512GB SSD +  2TB HDD' '64GB Flash Storage +  1TB HDD' '180GB SSD'\n",
      " '1TB HDD +  1TB HDD' '32GB HDD' '1TB SSD +  1TB HDD'\n",
      " '512GB Flash Storage' '128GB HDD' '240GB SSD' '8GB SSD' '508GB Hybrid'\n",
      " '1.0TB HDD' '512GB SSD +  1.0TB Hybrid' '256GB SSD +  1.0TB Hybrid']\n",
      "\n",
      "Gpu colum has 110 unique elements________________________________________ \n",
      "Unique values in Gpu:\n",
      " ['Intel Iris Plus Graphics 640' 'Intel HD Graphics 6000'\n",
      " 'Intel HD Graphics 620' 'AMD Radeon Pro 455'\n",
      " 'Intel Iris Plus Graphics 650' 'AMD Radeon R5' 'Intel Iris Pro Graphics'\n",
      " 'Nvidia GeForce MX150' 'Intel UHD Graphics 620' 'Intel HD Graphics 520'\n",
      " 'AMD Radeon Pro 555' 'AMD Radeon R5 M430' 'Intel HD Graphics 615'\n",
      " 'AMD Radeon Pro 560' 'Nvidia GeForce 940MX' 'Intel HD Graphics 400'\n",
      " 'Nvidia GeForce GTX 1050' 'AMD Radeon R2' 'AMD Radeon 530'\n",
      " 'Nvidia GeForce 930MX' 'Intel HD Graphics' 'Intel HD Graphics 500'\n",
      " 'Nvidia GeForce 930MX ' 'Nvidia GeForce GTX 1060' 'Nvidia GeForce 150MX'\n",
      " 'Intel Iris Graphics 540' 'AMD Radeon RX 580' 'Nvidia GeForce 920MX'\n",
      " 'AMD Radeon R4 Graphics' 'AMD Radeon 520' 'Nvidia GeForce GTX 1070'\n",
      " 'Nvidia GeForce GTX 1050 Ti' 'Nvidia GeForce MX130' 'AMD R4 Graphics'\n",
      " 'Nvidia GeForce GTX 940MX' 'AMD Radeon RX 560' 'Nvidia GeForce 920M'\n",
      " 'AMD Radeon R7 M445' 'AMD Radeon RX 550' 'Nvidia GeForce GTX 1050M'\n",
      " 'Intel HD Graphics 515' 'AMD Radeon R5 M420' 'Intel HD Graphics 505'\n",
      " 'Nvidia GTX 980 SLI' 'AMD R17M-M1-70' 'Nvidia GeForce GTX 1080'\n",
      " 'Nvidia Quadro M1200' 'Nvidia GeForce 920MX ' 'Nvidia GeForce GTX 950M'\n",
      " 'AMD FirePro W4190M ' 'Nvidia GeForce GTX 980M' 'Intel Iris Graphics 550'\n",
      " 'Nvidia GeForce 930M' 'Intel HD Graphics 630' 'AMD Radeon R5 430'\n",
      " 'Nvidia GeForce GTX 940M' 'Intel HD Graphics 510' 'Intel HD Graphics 405'\n",
      " 'AMD Radeon RX 540' 'Nvidia GeForce GT 940MX' 'AMD FirePro W5130M'\n",
      " 'Nvidia Quadro M2200M' 'AMD Radeon R4' 'Nvidia Quadro M620'\n",
      " 'AMD Radeon R7 M460' 'Intel HD Graphics 530' 'Nvidia GeForce GTX 965M'\n",
      " 'Nvidia GeForce GTX1080' 'Nvidia GeForce GTX1050 Ti'\n",
      " 'Nvidia GeForce GTX 960M' 'AMD Radeon R2 Graphics' 'Nvidia Quadro M620M'\n",
      " 'Nvidia GeForce GTX 970M' 'Nvidia GeForce GTX 960<U+039C>'\n",
      " 'Intel Graphics 620' 'Nvidia GeForce GTX 960' 'AMD Radeon R5 520'\n",
      " 'AMD Radeon R7 M440' 'AMD Radeon R7' 'Nvidia Quadro M520M'\n",
      " 'Nvidia Quadro M2200' 'Nvidia Quadro M2000M' 'Intel HD Graphics 540'\n",
      " 'Nvidia Quadro M1000M' 'AMD Radeon 540' 'Nvidia GeForce GTX 1070M'\n",
      " 'Nvidia GeForce GTX1060' 'Intel HD Graphics 5300' 'AMD Radeon R5 M420X'\n",
      " 'AMD Radeon R7 Graphics' 'Nvidia GeForce 920' 'Nvidia GeForce 940M'\n",
      " 'Nvidia GeForce GTX 930MX' 'AMD Radeon R7 M465' 'AMD Radeon R3'\n",
      " 'Nvidia GeForce GTX 1050Ti' 'AMD Radeon R7 M365X' 'AMD Radeon R9 M385'\n",
      " 'Intel HD Graphics 620 ' 'Nvidia Quadro 3000M' 'Nvidia GeForce GTX 980 '\n",
      " 'AMD Radeon R5 M330' 'AMD FirePro W4190M' 'AMD FirePro W6150M'\n",
      " 'AMD Radeon R5 M315' 'Nvidia Quadro M500M' 'AMD Radeon R7 M360'\n",
      " 'Nvidia Quadro M3000M' 'Nvidia GeForce 960M' 'ARM Mali T860 MP4']\n",
      "\n",
      "OpSys colum has 9 unique elements________________________________________ \n",
      "Unique values in OpSys:\n",
      " ['macOS' 'No OS' 'Windows 10' 'Mac OS X' 'Linux' 'Android' 'Windows 10 S'\n",
      " 'Chrome OS' 'Windows 7']\n",
      "\n",
      "Weight colum has 179 unique elements________________________________________ \n",
      "Unique values in Weight:\n",
      " ['1.37kg' '1.34kg' '1.86kg' '1.83kg' '2.1kg' '2.04kg' '1.3kg' '1.6kg'\n",
      " '2.2kg' '0.92kg' '1.22kg' '0.98kg' '2.5kg' '1.62kg' '1.91kg' '2.3kg'\n",
      " '1.35kg' '1.88kg' '1.89kg' '1.65kg' '2.71kg' '1.2kg' '1.44kg' '2.8kg'\n",
      " '2kg' '2.65kg' '2.77kg' '3.2kg' '0.69kg' '1.49kg' '2.4kg' '2.13kg'\n",
      " '2.43kg' '1.7kg' '1.4kg' '1.8kg' '1.9kg' '3kg' '1.252kg' '2.7kg' '2.02kg'\n",
      " '1.63kg' '1.96kg' '1.21kg' '2.45kg' '1.25kg' '1.5kg' '2.62kg' '1.38kg'\n",
      " '1.58kg' '1.85kg' '1.23kg' '1.26kg' '2.16kg' '2.36kg' '2.05kg' '1.32kg'\n",
      " '1.75kg' '0.97kg' '2.9kg' '2.56kg' '1.48kg' '1.74kg' '1.1kg' '1.56kg'\n",
      " '2.03kg' '1.05kg' '4.4kg' '1.90kg' '1.29kg' '2.0kg' '1.95kg' '2.06kg'\n",
      " '1.12kg' '1.42kg' '3.49kg' '3.35kg' '2.23kg' '4.42kg' '2.69kg' '2.37kg'\n",
      " '4.7kg' '3.6kg' '2.08kg' '4.3kg' '1.68kg' '1.41kg' '4.14kg' '2.18kg'\n",
      " '2.24kg' '2.67kg' '2.14kg' '1.36kg' '2.25kg' '2.15kg' '2.19kg' '2.54kg'\n",
      " '3.42kg' '1.28kg' '2.33kg' '1.45kg' '2.79kg' '1.84kg' '2.6kg' '2.26kg'\n",
      " '3.25kg' '1.59kg' '1.13kg' '1.78kg' '1.10kg' '1.15kg' '1.27kg' '1.43kg'\n",
      " '2.31kg' '1.16kg' '1.64kg' '2.17kg' '1.47kg' '3.78kg' '1.79kg' '0.91kg'\n",
      " '1.99kg' '4.33kg' '1.93kg' '1.87kg' '2.63kg' '3.4kg' '3.14kg' '1.94kg'\n",
      " '1.24kg' '4.6kg' '4.5kg' '2.73kg' '1.39kg' '2.29kg' '2.59kg' '2.94kg'\n",
      " '1.14kg' '3.8kg' '3.31kg' '1.09kg' '3.21kg' '1.19kg' '1.98kg' '1.17kg'\n",
      " '4.36kg' '1.71kg' '2.32kg' '4.2kg' '1.55kg' '0.81kg' '1.18kg' '2.72kg'\n",
      " '1.31kg' '0.920kg' '3.74kg' '1.76kg' '1.54kg' '2.83kg' '2.07kg' '2.38kg'\n",
      " '3.58kg' '1.08kg' '2.20kg' '2.75kg' '1.70kg' '2.99kg' '1.11kg' '2.09kg'\n",
      " '4kg' '3.0kg' '0.99kg' '3.52kg' '2.591kg' '2.21kg' '3.3kg' '2.191kg'\n",
      " '2.34kg' '4.0kg']\n",
      "\n"
     ]
    }
   ],
   "source": [
    "for col in df.columns:\n",
    "    if col!='Price_euros':\n",
    "        print(f'{col} colum has {df[col].unique().size} unique elements'+'__'*20,f'\\nUnique values in {col}:\\n {df[col].unique()}\\n')"
   ]
  },
  {
   "cell_type": "markdown",
   "metadata": {},
   "source": [
    "\n",
    "As we can observe; `Ram`, `Memory` and `Weight` are numerical data but have a unit attached, lets fix that"
   ]
  },
  {
   "cell_type": "code",
   "execution_count": 104,
   "metadata": {},
   "outputs": [],
   "source": [
    "df['Ram']=df['Ram'].str.replace('GB','')\n",
    "df['Ram']=df['Ram'].astype('int32')\n",
    "df=df.rename(columns={\"Ram\": \"Ram (GB)\"})\n",
    "df['Weight']=df['Weight'].str.replace('kg','')\n",
    "df['Weight']=df['Weight'].astype('float64')\n",
    "\n",
    "df=df.rename(columns={\"Weight\": \"Weight (kg)\"})"
   ]
  },
  {
   "cell_type": "code",
   "execution_count": 105,
   "metadata": {},
   "outputs": [
    {
     "data": {
      "text/html": [
       "<div>\n",
       "<style scoped>\n",
       "    .dataframe tbody tr th:only-of-type {\n",
       "        vertical-align: middle;\n",
       "    }\n",
       "\n",
       "    .dataframe tbody tr th {\n",
       "        vertical-align: top;\n",
       "    }\n",
       "\n",
       "    .dataframe thead th {\n",
       "        text-align: right;\n",
       "    }\n",
       "</style>\n",
       "<table border=\"1\" class=\"dataframe\">\n",
       "  <thead>\n",
       "    <tr style=\"text-align: right;\">\n",
       "      <th></th>\n",
       "      <th>laptop_ID</th>\n",
       "      <th>Company</th>\n",
       "      <th>Product</th>\n",
       "      <th>TypeName</th>\n",
       "      <th>Inches</th>\n",
       "      <th>ScreenResolution</th>\n",
       "      <th>Cpu</th>\n",
       "      <th>Ram (GB)</th>\n",
       "      <th>Memory</th>\n",
       "      <th>Gpu</th>\n",
       "      <th>OpSys</th>\n",
       "      <th>Weight (kg)</th>\n",
       "      <th>Price_euros</th>\n",
       "    </tr>\n",
       "  </thead>\n",
       "  <tbody>\n",
       "    <tr>\n",
       "      <th>0</th>\n",
       "      <td>1</td>\n",
       "      <td>Apple</td>\n",
       "      <td>MacBook Pro</td>\n",
       "      <td>Ultrabook</td>\n",
       "      <td>13.3</td>\n",
       "      <td>IPS Panel Retina Display 2560x1600</td>\n",
       "      <td>Intel Core i5 2.3GHz</td>\n",
       "      <td>8</td>\n",
       "      <td>128GB SSD</td>\n",
       "      <td>Intel Iris Plus Graphics 640</td>\n",
       "      <td>macOS</td>\n",
       "      <td>1.37</td>\n",
       "      <td>1339.69</td>\n",
       "    </tr>\n",
       "    <tr>\n",
       "      <th>1</th>\n",
       "      <td>2</td>\n",
       "      <td>Apple</td>\n",
       "      <td>Macbook Air</td>\n",
       "      <td>Ultrabook</td>\n",
       "      <td>13.3</td>\n",
       "      <td>1440x900</td>\n",
       "      <td>Intel Core i5 1.8GHz</td>\n",
       "      <td>8</td>\n",
       "      <td>128GB Flash Storage</td>\n",
       "      <td>Intel HD Graphics 6000</td>\n",
       "      <td>macOS</td>\n",
       "      <td>1.34</td>\n",
       "      <td>898.94</td>\n",
       "    </tr>\n",
       "    <tr>\n",
       "      <th>2</th>\n",
       "      <td>3</td>\n",
       "      <td>HP</td>\n",
       "      <td>250 G6</td>\n",
       "      <td>Notebook</td>\n",
       "      <td>15.6</td>\n",
       "      <td>Full HD 1920x1080</td>\n",
       "      <td>Intel Core i5 7200U 2.5GHz</td>\n",
       "      <td>8</td>\n",
       "      <td>256GB SSD</td>\n",
       "      <td>Intel HD Graphics 620</td>\n",
       "      <td>No OS</td>\n",
       "      <td>1.86</td>\n",
       "      <td>575.00</td>\n",
       "    </tr>\n",
       "    <tr>\n",
       "      <th>3</th>\n",
       "      <td>4</td>\n",
       "      <td>Apple</td>\n",
       "      <td>MacBook Pro</td>\n",
       "      <td>Ultrabook</td>\n",
       "      <td>15.4</td>\n",
       "      <td>IPS Panel Retina Display 2880x1800</td>\n",
       "      <td>Intel Core i7 2.7GHz</td>\n",
       "      <td>16</td>\n",
       "      <td>512GB SSD</td>\n",
       "      <td>AMD Radeon Pro 455</td>\n",
       "      <td>macOS</td>\n",
       "      <td>1.83</td>\n",
       "      <td>2537.45</td>\n",
       "    </tr>\n",
       "    <tr>\n",
       "      <th>4</th>\n",
       "      <td>5</td>\n",
       "      <td>Apple</td>\n",
       "      <td>MacBook Pro</td>\n",
       "      <td>Ultrabook</td>\n",
       "      <td>13.3</td>\n",
       "      <td>IPS Panel Retina Display 2560x1600</td>\n",
       "      <td>Intel Core i5 3.1GHz</td>\n",
       "      <td>8</td>\n",
       "      <td>256GB SSD</td>\n",
       "      <td>Intel Iris Plus Graphics 650</td>\n",
       "      <td>macOS</td>\n",
       "      <td>1.37</td>\n",
       "      <td>1803.60</td>\n",
       "    </tr>\n",
       "  </tbody>\n",
       "</table>\n",
       "</div>"
      ],
      "text/plain": [
       "   laptop_ID Company      Product   TypeName  Inches  \\\n",
       "0          1   Apple  MacBook Pro  Ultrabook    13.3   \n",
       "1          2   Apple  Macbook Air  Ultrabook    13.3   \n",
       "2          3      HP       250 G6   Notebook    15.6   \n",
       "3          4   Apple  MacBook Pro  Ultrabook    15.4   \n",
       "4          5   Apple  MacBook Pro  Ultrabook    13.3   \n",
       "\n",
       "                     ScreenResolution                         Cpu  Ram (GB)  \\\n",
       "0  IPS Panel Retina Display 2560x1600        Intel Core i5 2.3GHz         8   \n",
       "1                            1440x900        Intel Core i5 1.8GHz         8   \n",
       "2                   Full HD 1920x1080  Intel Core i5 7200U 2.5GHz         8   \n",
       "3  IPS Panel Retina Display 2880x1800        Intel Core i7 2.7GHz        16   \n",
       "4  IPS Panel Retina Display 2560x1600        Intel Core i5 3.1GHz         8   \n",
       "\n",
       "                Memory                           Gpu  OpSys  Weight (kg)  \\\n",
       "0            128GB SSD  Intel Iris Plus Graphics 640  macOS         1.37   \n",
       "1  128GB Flash Storage        Intel HD Graphics 6000  macOS         1.34   \n",
       "2            256GB SSD         Intel HD Graphics 620  No OS         1.86   \n",
       "3            512GB SSD            AMD Radeon Pro 455  macOS         1.83   \n",
       "4            256GB SSD  Intel Iris Plus Graphics 650  macOS         1.37   \n",
       "\n",
       "   Price_euros  \n",
       "0      1339.69  \n",
       "1       898.94  \n",
       "2       575.00  \n",
       "3      2537.45  \n",
       "4      1803.60  "
      ]
     },
     "execution_count": 105,
     "metadata": {},
     "output_type": "execute_result"
    }
   ],
   "source": [
    "df.head()"
   ]
  },
  {
   "cell_type": "markdown",
   "metadata": {},
   "source": [
    "## Exploratory Data Analysis"
   ]
  },
  {
   "cell_type": "markdown",
   "metadata": {},
   "source": [
    "### Numerical data"
   ]
  },
  {
   "cell_type": "code",
   "execution_count": 106,
   "metadata": {},
   "outputs": [
    {
     "data": {
      "text/html": [
       "<div>\n",
       "<style scoped>\n",
       "    .dataframe tbody tr th:only-of-type {\n",
       "        vertical-align: middle;\n",
       "    }\n",
       "\n",
       "    .dataframe tbody tr th {\n",
       "        vertical-align: top;\n",
       "    }\n",
       "\n",
       "    .dataframe thead th {\n",
       "        text-align: right;\n",
       "    }\n",
       "</style>\n",
       "<table border=\"1\" class=\"dataframe\">\n",
       "  <thead>\n",
       "    <tr style=\"text-align: right;\">\n",
       "      <th></th>\n",
       "      <th>laptop_ID</th>\n",
       "      <th>Inches</th>\n",
       "      <th>Ram (GB)</th>\n",
       "      <th>Weight (kg)</th>\n",
       "      <th>Price_euros</th>\n",
       "    </tr>\n",
       "  </thead>\n",
       "  <tbody>\n",
       "    <tr>\n",
       "      <th>count</th>\n",
       "      <td>1303.000000</td>\n",
       "      <td>1303.000000</td>\n",
       "      <td>1303.000000</td>\n",
       "      <td>1303.000000</td>\n",
       "      <td>1303.000000</td>\n",
       "    </tr>\n",
       "    <tr>\n",
       "      <th>mean</th>\n",
       "      <td>660.155794</td>\n",
       "      <td>15.017191</td>\n",
       "      <td>8.382195</td>\n",
       "      <td>2.038734</td>\n",
       "      <td>1123.686992</td>\n",
       "    </tr>\n",
       "    <tr>\n",
       "      <th>std</th>\n",
       "      <td>381.172104</td>\n",
       "      <td>1.426304</td>\n",
       "      <td>5.084665</td>\n",
       "      <td>0.665475</td>\n",
       "      <td>699.009043</td>\n",
       "    </tr>\n",
       "    <tr>\n",
       "      <th>min</th>\n",
       "      <td>1.000000</td>\n",
       "      <td>10.100000</td>\n",
       "      <td>2.000000</td>\n",
       "      <td>0.690000</td>\n",
       "      <td>174.000000</td>\n",
       "    </tr>\n",
       "    <tr>\n",
       "      <th>25%</th>\n",
       "      <td>331.500000</td>\n",
       "      <td>14.000000</td>\n",
       "      <td>4.000000</td>\n",
       "      <td>1.500000</td>\n",
       "      <td>599.000000</td>\n",
       "    </tr>\n",
       "    <tr>\n",
       "      <th>50%</th>\n",
       "      <td>659.000000</td>\n",
       "      <td>15.600000</td>\n",
       "      <td>8.000000</td>\n",
       "      <td>2.040000</td>\n",
       "      <td>977.000000</td>\n",
       "    </tr>\n",
       "    <tr>\n",
       "      <th>75%</th>\n",
       "      <td>990.500000</td>\n",
       "      <td>15.600000</td>\n",
       "      <td>8.000000</td>\n",
       "      <td>2.300000</td>\n",
       "      <td>1487.880000</td>\n",
       "    </tr>\n",
       "    <tr>\n",
       "      <th>max</th>\n",
       "      <td>1320.000000</td>\n",
       "      <td>18.400000</td>\n",
       "      <td>64.000000</td>\n",
       "      <td>4.700000</td>\n",
       "      <td>6099.000000</td>\n",
       "    </tr>\n",
       "  </tbody>\n",
       "</table>\n",
       "</div>"
      ],
      "text/plain": [
       "         laptop_ID       Inches     Ram (GB)  Weight (kg)  Price_euros\n",
       "count  1303.000000  1303.000000  1303.000000  1303.000000  1303.000000\n",
       "mean    660.155794    15.017191     8.382195     2.038734  1123.686992\n",
       "std     381.172104     1.426304     5.084665     0.665475   699.009043\n",
       "min       1.000000    10.100000     2.000000     0.690000   174.000000\n",
       "25%     331.500000    14.000000     4.000000     1.500000   599.000000\n",
       "50%     659.000000    15.600000     8.000000     2.040000   977.000000\n",
       "75%     990.500000    15.600000     8.000000     2.300000  1487.880000\n",
       "max    1320.000000    18.400000    64.000000     4.700000  6099.000000"
      ]
     },
     "execution_count": 106,
     "metadata": {},
     "output_type": "execute_result"
    }
   ],
   "source": [
    "df.describe()"
   ]
  },
  {
   "cell_type": "markdown",
   "metadata": {},
   "source": [
    "#### Discrete data \n"
   ]
  },
  {
   "cell_type": "code",
   "execution_count": 107,
   "metadata": {},
   "outputs": [
    {
     "data": {
      "image/png": "[encoded data removed]",
      "text/plain": [
       "<Figure size 1080x504 with 1 Axes>"
      ]
     },
     "metadata": {
      "needs_background": "light"
     },
     "output_type": "display_data"
    },
    {
     "data": {
      "image/png": "[encoded data removed]",
      "text/plain": [
       "<Figure size 1080x504 with 1 Axes>"
      ]
     },
     "metadata": {
      "needs_background": "light"
     },
     "output_type": "display_data"
    }
   ],
   "source": [
    "for variable in ['Inches','Ram (GB)']:\n",
    "       plt.figure(figsize=(15,7))\n",
    "       sn.countplot(x=variable,data = df)"
   ]
  },
  {
   "cell_type": "markdown",
   "metadata": {},
   "source": [
    "These graphs tell us that people prefere laptops with 15.6\" displays, and laptops with 8GB of Ram are the most bought."
   ]
  },
  {
   "cell_type": "markdown",
   "metadata": {},
   "source": [
    "#### Continuous data "
   ]
  },
  {
   "cell_type": "markdown",
   "metadata": {},
   "source": [
    "Let's take a plot the Price and weight counts"
   ]
  },
  {
   "cell_type": "code",
   "execution_count": 108,
   "metadata": {},
   "outputs": [
    {
     "data": {
      "text/plain": [
       "[<matplotlib.lines.Line2D at 0x148693bfa90>]"
      ]
     },
     "execution_count": 108,
     "metadata": {},
     "output_type": "execute_result"
    },
    {
     "data": {
      "image/png": "[encoded data removed]",
      "text/plain": [
       "<Figure size 360x360 with 1 Axes>"
      ]
     },
     "metadata": {
      "needs_background": "light"
     },
     "output_type": "display_data"
    }
   ],
   "source": [
    "sn.displot(df['Price_euros'])\n",
    "plt.plot([df['Price_euros'].mean(), df['Price_euros'].mean()], [160, 0],color='red', linewidth=2)"
   ]
  },
  {
   "cell_type": "code",
   "execution_count": 109,
   "metadata": {},
   "outputs": [
    {
     "data": {
      "text/plain": [
       "<seaborn.axisgrid.FacetGrid at 0x14869437df0>"
      ]
     },
     "execution_count": 109,
     "metadata": {},
     "output_type": "execute_result"
    },
    {
     "data": {
      "image/png": "[encoded data removed]",
      "text/plain": [
       "<Figure size 360x360 with 1 Axes>"
      ]
     },
     "metadata": {
      "needs_background": "light"
     },
     "output_type": "display_data"
    }
   ],
   "source": [
    "sn.displot(np.log1p(df['Price_euros']),kind='kde')"
   ]
  },
  {
   "cell_type": "code",
   "execution_count": 110,
   "metadata": {},
   "outputs": [
    {
     "data": {
      "text/plain": [
       "[<matplotlib.lines.Line2D at 0x148693bfeb0>]"
      ]
     },
     "execution_count": 110,
     "metadata": {},
     "output_type": "execute_result"
    },
    {
     "data": {
      "image/png": "[encoded data removed]",
      "text/plain": [
       "<Figure size 360x360 with 1 Axes>"
      ]
     },
     "metadata": {
      "needs_background": "light"
     },
     "output_type": "display_data"
    }
   ],
   "source": [
    "sn.displot(df['Weight (kg)'])\n",
    "plt.plot([df['Weight (kg)'].mean(), df['Weight (kg)'].mean()], [180, 0],color='red' ,linewidth=2)\n"
   ]
  },
  {
   "cell_type": "markdown",
   "metadata": {},
   "source": [
    "We observer that weight is unevenly spread so the mean doesn't give a useful information, we can see that this data has a some laptops whos weight is more than 4kg but are still sold, we can probably say that these laptops are the workstation."
   ]
  },
  {
   "cell_type": "markdown",
   "metadata": {},
   "source": [
    "### Categorical data"
   ]
  },
  {
   "cell_type": "markdown",
   "metadata": {},
   "source": [
    "Let's plot some of these variables"
   ]
  },
  {
   "cell_type": "code",
   "execution_count": 111,
   "metadata": {},
   "outputs": [
    {
     "data": {
      "image/png": "[encoded data removed]",
      "text/plain": [
       "<Figure size 1440x504 with 1 Axes>"
      ]
     },
     "metadata": {
      "needs_background": "light"
     },
     "output_type": "display_data"
    },
    {
     "data": {
      "image/png": "[encoded data removed]",
      "text/plain": [
       "<Figure size 1440x504 with 1 Axes>"
      ]
     },
     "metadata": {
      "needs_background": "light"
     },
     "output_type": "display_data"
    },
    {
     "data": {
      "image/png": "[encoded data removed]",
      "text/plain": [
       "<Figure size 1440x504 with 1 Axes>"
      ]
     },
     "metadata": {
      "needs_background": "light"
     },
     "output_type": "display_data"
    }
   ],
   "source": [
    "Categorical=['Company', 'TypeName', 'OpSys']\n",
    "\n",
    "for variable in Categorical:\n",
    "       plt.figure(figsize=(20,7))\n",
    "       sn.countplot(x=variable,data = df, order =df[variable].value_counts().index)"
   ]
  },
  {
   "cell_type": "markdown",
   "metadata": {},
   "source": [
    "From these graphs we can see that windows 10 is the most popular OS in the dataset. We can also observe that Dell and Lenovo are fighting for the most popular brand, notebooks are the most popular type sold."
   ]
  },
  {
   "cell_type": "markdown",
   "metadata": {},
   "source": [
    "Let's explore more about each company and their prices"
   ]
  },
  {
   "cell_type": "code",
   "execution_count": 112,
   "metadata": {},
   "outputs": [
    {
     "data": {
      "text/plain": [
       "<AxesSubplot:xlabel='Company', ylabel='Price_euros'>"
      ]
     },
     "execution_count": 112,
     "metadata": {},
     "output_type": "execute_result"
    },
    {
     "data": {
      "image/png": "[encoded data removed]",
      "text/plain": [
       "<Figure size 1080x504 with 1 Axes>"
      ]
     },
     "metadata": {
      "needs_background": "light"
     },
     "output_type": "display_data"
    }
   ],
   "source": [
    "plt.figure(figsize=(15,7))\n",
    "plt.xticks(rotation=20)\n",
    "sn.barplot(x = df['Company'],y = df['Price_euros'],order=df['Company'].value_counts().index)"
   ]
  },
  {
   "cell_type": "markdown",
   "metadata": {},
   "source": [
    "We observe that Razor product have the most variation in price; peaking at 42244.11 MAD and reaching a bottom at 7127.26 MAD with a mean of 23176.72 MAD."
   ]
  },
  {
   "cell_type": "markdown",
   "metadata": {},
   "source": [
    "Now let's see the price variation based on laptop type."
   ]
  },
  {
   "cell_type": "code",
   "execution_count": 113,
   "metadata": {},
   "outputs": [
    {
     "data": {
      "text/plain": [
       "<AxesSubplot:xlabel='TypeName', ylabel='count'>"
      ]
     },
     "execution_count": 113,
     "metadata": {},
     "output_type": "execute_result"
    },
    {
     "data": {
      "image/png": "[encoded data removed]",
      "text/plain": [
       "<Figure size 1080x504 with 1 Axes>"
      ]
     },
     "metadata": {
      "needs_background": "light"
     },
     "output_type": "display_data"
    }
   ],
   "source": [
    "plt.figure(figsize=(15,7))\n",
    "sn.countplot(x=df['TypeName'],order=df['TypeName'].value_counts().index)"
   ]
  },
  {
   "cell_type": "code",
   "execution_count": 114,
   "metadata": {},
   "outputs": [
    {
     "data": {
      "text/plain": [
       "<AxesSubplot:xlabel='TypeName', ylabel='Price_euros'>"
      ]
     },
     "execution_count": 114,
     "metadata": {},
     "output_type": "execute_result"
    },
    {
     "data": {
      "image/png": "[encoded data removed]",
      "text/plain": [
       "<Figure size 1080x504 with 1 Axes>"
      ]
     },
     "metadata": {
      "needs_background": "light"
     },
     "output_type": "display_data"
    }
   ],
   "source": [
    "plt.figure(figsize=(15,7))\n",
    "x = df.groupby(['TypeName']).Price_euros.max().sort_values().keys()\n",
    "sn.barplot(x = 'TypeName',y= 'Price_euros',data=df,order=x)"
   ]
  },
  {
   "cell_type": "markdown",
   "metadata": {},
   "source": [
    "Notebooks have the least amount of variation in price compared to other laptop types, this is probably a results from the high number of notebooks and competitors in the market.\n",
    "Also the high price of workstation and the low number of units sold shows that workstations are more of a niche product."
   ]
  },
  {
   "cell_type": "markdown",
   "metadata": {},
   "source": [
    "#### Deep dive to `ScreenResolution` column"
   ]
  },
  {
   "cell_type": "code",
   "execution_count": 115,
   "metadata": {},
   "outputs": [
    {
     "data": {
      "text/plain": [
       "Full HD 1920x1080                                507\n",
       "1366x768                                         281\n",
       "IPS Panel Full HD 1920x1080                      230\n",
       "IPS Panel Full HD / Touchscreen 1920x1080         53\n",
       "Full HD / Touchscreen 1920x1080                   47\n",
       "1600x900                                          23\n",
       "Touchscreen 1366x768                              16\n",
       "Quad HD+ / Touchscreen 3200x1800                  15\n",
       "IPS Panel 4K Ultra HD 3840x2160                   12\n",
       "IPS Panel 4K Ultra HD / Touchscreen 3840x2160     11\n",
       "4K Ultra HD / Touchscreen 3840x2160               10\n",
       "4K Ultra HD 3840x2160                              7\n",
       "Touchscreen 2560x1440                              7\n",
       "IPS Panel 1366x768                                 7\n",
       "IPS Panel Quad HD+ / Touchscreen 3200x1800         6\n",
       "IPS Panel Retina Display 2560x1600                 6\n",
       "IPS Panel Retina Display 2304x1440                 6\n",
       "Touchscreen 2256x1504                              6\n",
       "IPS Panel Touchscreen 2560x1440                    5\n",
       "IPS Panel Retina Display 2880x1800                 4\n",
       "IPS Panel Touchscreen 1920x1200                    4\n",
       "1440x900                                           4\n",
       "IPS Panel 2560x1440                                4\n",
       "IPS Panel Quad HD+ 2560x1440                       3\n",
       "Quad HD+ 3200x1800                                 3\n",
       "1920x1080                                          3\n",
       "Touchscreen 2400x1600                              3\n",
       "2560x1440                                          3\n",
       "IPS Panel Touchscreen 1366x768                     3\n",
       "IPS Panel Touchscreen / 4K Ultra HD 3840x2160      2\n",
       "IPS Panel Full HD 2160x1440                        2\n",
       "IPS Panel Quad HD+ 3200x1800                       2\n",
       "IPS Panel Retina Display 2736x1824                 1\n",
       "IPS Panel Full HD 1920x1200                        1\n",
       "IPS Panel Full HD 2560x1440                        1\n",
       "IPS Panel Full HD 1366x768                         1\n",
       "Touchscreen / Full HD 1920x1080                    1\n",
       "Touchscreen / Quad HD+ 3200x1800                   1\n",
       "Touchscreen / 4K Ultra HD 3840x2160                1\n",
       "IPS Panel Touchscreen 2400x1600                    1\n",
       "Name: ScreenResolution, dtype: int64"
      ]
     },
     "execution_count": 115,
     "metadata": {},
     "output_type": "execute_result"
    }
   ],
   "source": [
    "df['ScreenResolution'].value_counts()"
   ]
  },
  {
   "cell_type": "markdown",
   "metadata": {},
   "source": [
    "This column has three type of data in it:\n",
    "- _TouchScreen_,\n",
    "- _display panel_ (IPS or TN Panels)\n",
    "- and _Max Screen Resolution_ (i.e. Full HD 2560x1440 ...).\n",
    "\n",
    "We need to separate this information into different columns. To do that we will one-hot encode some of this data, meaning we will convert each categorical (Touchscreen and Display) value into a new categorical column and assign a binary value of 'Yes' or 'No', for `TouchScreen` and 'TN' or 'IPS' for display panel.\n"
   ]
  },
  {
   "cell_type": "markdown",
   "metadata": {},
   "source": [
    "##### Starting with _TouchScreen_:"
   ]
  },
  {
   "cell_type": "code",
   "execution_count": 116,
   "metadata": {},
   "outputs": [
    {
     "data": {
      "text/html": [
       "<div>\n",
       "<style scoped>\n",
       "    .dataframe tbody tr th:only-of-type {\n",
       "        vertical-align: middle;\n",
       "    }\n",
       "\n",
       "    .dataframe tbody tr th {\n",
       "        vertical-align: top;\n",
       "    }\n",
       "\n",
       "    .dataframe thead th {\n",
       "        text-align: right;\n",
       "    }\n",
       "</style>\n",
       "<table border=\"1\" class=\"dataframe\">\n",
       "  <thead>\n",
       "    <tr style=\"text-align: right;\">\n",
       "      <th></th>\n",
       "      <th>laptop_ID</th>\n",
       "      <th>Company</th>\n",
       "      <th>Product</th>\n",
       "      <th>TypeName</th>\n",
       "      <th>Inches</th>\n",
       "      <th>ScreenResolution</th>\n",
       "      <th>Cpu</th>\n",
       "      <th>Ram (GB)</th>\n",
       "      <th>Memory</th>\n",
       "      <th>Gpu</th>\n",
       "      <th>OpSys</th>\n",
       "      <th>Weight (kg)</th>\n",
       "      <th>Price_euros</th>\n",
       "      <th>TouchScreen</th>\n",
       "    </tr>\n",
       "  </thead>\n",
       "  <tbody>\n",
       "    <tr>\n",
       "      <th>1298</th>\n",
       "      <td>1316</td>\n",
       "      <td>Lenovo</td>\n",
       "      <td>Yoga 500-14ISK</td>\n",
       "      <td>2 in 1 Convertible</td>\n",
       "      <td>14.0</td>\n",
       "      <td>IPS Panel Full HD 1920x1080</td>\n",
       "      <td>Intel Core i7 6500U 2.5GHz</td>\n",
       "      <td>4</td>\n",
       "      <td>128GB SSD</td>\n",
       "      <td>Intel HD Graphics 520</td>\n",
       "      <td>Windows 10</td>\n",
       "      <td>1.80</td>\n",
       "      <td>638.0</td>\n",
       "      <td>Yes</td>\n",
       "    </tr>\n",
       "    <tr>\n",
       "      <th>1299</th>\n",
       "      <td>1317</td>\n",
       "      <td>Lenovo</td>\n",
       "      <td>Yoga 900-13ISK</td>\n",
       "      <td>2 in 1 Convertible</td>\n",
       "      <td>13.3</td>\n",
       "      <td>IPS Panel Quad HD+ 3200x1800</td>\n",
       "      <td>Intel Core i7 6500U 2.5GHz</td>\n",
       "      <td>16</td>\n",
       "      <td>512GB SSD</td>\n",
       "      <td>Intel HD Graphics 520</td>\n",
       "      <td>Windows 10</td>\n",
       "      <td>1.30</td>\n",
       "      <td>1499.0</td>\n",
       "      <td>Yes</td>\n",
       "    </tr>\n",
       "    <tr>\n",
       "      <th>1300</th>\n",
       "      <td>1318</td>\n",
       "      <td>Lenovo</td>\n",
       "      <td>IdeaPad 100S-14IBR</td>\n",
       "      <td>Notebook</td>\n",
       "      <td>14.0</td>\n",
       "      <td>1366x768</td>\n",
       "      <td>Intel Celeron Dual Core N3050 1.6GHz</td>\n",
       "      <td>2</td>\n",
       "      <td>64GB Flash Storage</td>\n",
       "      <td>Intel HD Graphics</td>\n",
       "      <td>Windows 10</td>\n",
       "      <td>1.50</td>\n",
       "      <td>229.0</td>\n",
       "      <td>No</td>\n",
       "    </tr>\n",
       "    <tr>\n",
       "      <th>1301</th>\n",
       "      <td>1319</td>\n",
       "      <td>HP</td>\n",
       "      <td>15-AC110nv (i7-6500U/6GB/1TB/Radeon</td>\n",
       "      <td>Notebook</td>\n",
       "      <td>15.6</td>\n",
       "      <td>1366x768</td>\n",
       "      <td>Intel Core i7 6500U 2.5GHz</td>\n",
       "      <td>6</td>\n",
       "      <td>1TB HDD</td>\n",
       "      <td>AMD Radeon R5 M330</td>\n",
       "      <td>Windows 10</td>\n",
       "      <td>2.19</td>\n",
       "      <td>764.0</td>\n",
       "      <td>No</td>\n",
       "    </tr>\n",
       "    <tr>\n",
       "      <th>1302</th>\n",
       "      <td>1320</td>\n",
       "      <td>Asus</td>\n",
       "      <td>X553SA-XX031T (N3050/4GB/500GB/W10)</td>\n",
       "      <td>Notebook</td>\n",
       "      <td>15.6</td>\n",
       "      <td>1366x768</td>\n",
       "      <td>Intel Celeron Dual Core N3050 1.6GHz</td>\n",
       "      <td>4</td>\n",
       "      <td>500GB HDD</td>\n",
       "      <td>Intel HD Graphics</td>\n",
       "      <td>Windows 10</td>\n",
       "      <td>2.20</td>\n",
       "      <td>369.0</td>\n",
       "      <td>No</td>\n",
       "    </tr>\n",
       "  </tbody>\n",
       "</table>\n",
       "</div>"
      ],
      "text/plain": [
       "      laptop_ID Company                              Product  \\\n",
       "1298       1316  Lenovo                       Yoga 500-14ISK   \n",
       "1299       1317  Lenovo                       Yoga 900-13ISK   \n",
       "1300       1318  Lenovo                   IdeaPad 100S-14IBR   \n",
       "1301       1319      HP  15-AC110nv (i7-6500U/6GB/1TB/Radeon   \n",
       "1302       1320    Asus  X553SA-XX031T (N3050/4GB/500GB/W10)   \n",
       "\n",
       "                TypeName  Inches              ScreenResolution  \\\n",
       "1298  2 in 1 Convertible    14.0   IPS Panel Full HD 1920x1080   \n",
       "1299  2 in 1 Convertible    13.3  IPS Panel Quad HD+ 3200x1800   \n",
       "1300            Notebook    14.0                      1366x768   \n",
       "1301            Notebook    15.6                      1366x768   \n",
       "1302            Notebook    15.6                      1366x768   \n",
       "\n",
       "                                       Cpu  Ram (GB)              Memory  \\\n",
       "1298            Intel Core i7 6500U 2.5GHz         4           128GB SSD   \n",
       "1299            Intel Core i7 6500U 2.5GHz        16           512GB SSD   \n",
       "1300  Intel Celeron Dual Core N3050 1.6GHz         2  64GB Flash Storage   \n",
       "1301            Intel Core i7 6500U 2.5GHz         6             1TB HDD   \n",
       "1302  Intel Celeron Dual Core N3050 1.6GHz         4           500GB HDD   \n",
       "\n",
       "                        Gpu       OpSys  Weight (kg)  Price_euros TouchScreen  \n",
       "1298  Intel HD Graphics 520  Windows 10         1.80        638.0         Yes  \n",
       "1299  Intel HD Graphics 520  Windows 10         1.30       1499.0         Yes  \n",
       "1300      Intel HD Graphics  Windows 10         1.50        229.0          No  \n",
       "1301     AMD Radeon R5 M330  Windows 10         2.19        764.0          No  \n",
       "1302      Intel HD Graphics  Windows 10         2.20        369.0          No  "
      ]
     },
     "execution_count": 116,
     "metadata": {},
     "output_type": "execute_result"
    }
   ],
   "source": [
    "df[\"TouchScreen\"]=df['ScreenResolution'].apply(lambda x:'Yes' if 'Touchscreen' in x else 'No')\n",
    "df['ScreenResolution']=df['ScreenResolution'].replace(regex={r\"/* *Touchscreen /*\":\"\"})\n",
    "df.tail()"
   ]
  },
  {
   "cell_type": "code",
   "execution_count": 117,
   "metadata": {},
   "outputs": [
    {
     "data": {
      "text/plain": [
       "<AxesSubplot:xlabel='TouchScreen', ylabel='count'>"
      ]
     },
     "execution_count": 117,
     "metadata": {},
     "output_type": "execute_result"
    },
    {
     "data": {
      "image/png": "[encoded data removed]",
      "text/plain": [
       "<Figure size 432x288 with 1 Axes>"
      ]
     },
     "metadata": {
      "needs_background": "light"
     },
     "output_type": "display_data"
    }
   ],
   "source": [
    "sn.countplot(x='TouchScreen',data=df)"
   ]
  },
  {
   "cell_type": "markdown",
   "metadata": {},
   "source": [
    "As we can see most laptops in this dataset don't have a TouchScreen, just 192 have this functionality"
   ]
  },
  {
   "cell_type": "code",
   "execution_count": 118,
   "metadata": {},
   "outputs": [
    {
     "data": {
      "text/plain": [
       "<AxesSubplot:xlabel='TouchScreen', ylabel='Price_euros'>"
      ]
     },
     "execution_count": 118,
     "metadata": {},
     "output_type": "execute_result"
    },
    {
     "data": {
      "image/png": "[encoded data removed]",
      "text/plain": [
       "<Figure size 432x288 with 1 Axes>"
      ]
     },
     "metadata": {
      "needs_background": "light"
     },
     "output_type": "display_data"
    }
   ],
   "source": [
    "sn.barplot(x = 'TouchScreen',y= 'Price_euros',data=df)"
   ]
  },
  {
   "cell_type": "markdown",
   "metadata": {},
   "source": [
    "Price of laptops with touchscreen is subjected to alot of variation avreging at 10009.37, in contrast to normal ones that have an average price of about 7753.11"
   ]
  },
  {
   "cell_type": "markdown",
   "metadata": {},
   "source": [
    "let see how each type of df "
   ]
  },
  {
   "cell_type": "code",
   "execution_count": 119,
   "metadata": {},
   "outputs": [
    {
     "data": {
      "text/plain": [
       "(array([0, 1, 2, 3, 4, 5]),\n",
       " [Text(0, 0, 'Ultrabook'),\n",
       "  Text(1, 0, 'Notebook'),\n",
       "  Text(2, 0, 'Netbook'),\n",
       "  Text(3, 0, 'Gaming'),\n",
       "  Text(4, 0, '2 in 1 Convertible'),\n",
       "  Text(5, 0, 'Workstation')])"
      ]
     },
     "execution_count": 119,
     "metadata": {},
     "output_type": "execute_result"
    },
    {
     "data": {
      "image/png": "[encoded data removed]",
      "text/plain": [
       "<Figure size 432x288 with 1 Axes>"
      ]
     },
     "metadata": {
      "needs_background": "light"
     },
     "output_type": "display_data"
    }
   ],
   "source": [
    "sn.countplot(x=\"TypeName\", hue=\"TouchScreen\", data=df)\n",
    "plt.xticks(rotation=20)"
   ]
  },
  {
   "cell_type": "code",
   "execution_count": 120,
   "metadata": {},
   "outputs": [
    {
     "data": {
      "text/html": [
       "<div>\n",
       "<style scoped>\n",
       "    .dataframe tbody tr th:only-of-type {\n",
       "        vertical-align: middle;\n",
       "    }\n",
       "\n",
       "    .dataframe tbody tr th {\n",
       "        vertical-align: top;\n",
       "    }\n",
       "\n",
       "    .dataframe thead th {\n",
       "        text-align: right;\n",
       "    }\n",
       "</style>\n",
       "<table border=\"1\" class=\"dataframe\">\n",
       "  <thead>\n",
       "    <tr style=\"text-align: right;\">\n",
       "      <th>TypeName</th>\n",
       "      <th>2 in 1 Convertible</th>\n",
       "      <th>Gaming</th>\n",
       "      <th>Netbook</th>\n",
       "      <th>Notebook</th>\n",
       "      <th>Ultrabook</th>\n",
       "      <th>Workstation</th>\n",
       "    </tr>\n",
       "    <tr>\n",
       "      <th>TouchScreen</th>\n",
       "      <th></th>\n",
       "      <th></th>\n",
       "      <th></th>\n",
       "      <th></th>\n",
       "      <th></th>\n",
       "      <th></th>\n",
       "    </tr>\n",
       "  </thead>\n",
       "  <tbody>\n",
       "    <tr>\n",
       "      <th>No</th>\n",
       "      <td>2</td>\n",
       "      <td>200</td>\n",
       "      <td>23</td>\n",
       "      <td>708</td>\n",
       "      <td>151</td>\n",
       "      <td>27</td>\n",
       "    </tr>\n",
       "    <tr>\n",
       "      <th>Yes</th>\n",
       "      <td>119</td>\n",
       "      <td>5</td>\n",
       "      <td>2</td>\n",
       "      <td>19</td>\n",
       "      <td>45</td>\n",
       "      <td>2</td>\n",
       "    </tr>\n",
       "  </tbody>\n",
       "</table>\n",
       "</div>"
      ],
      "text/plain": [
       "TypeName     2 in 1 Convertible  Gaming  Netbook  Notebook  Ultrabook  \\\n",
       "TouchScreen                                                             \n",
       "No                            2     200       23       708        151   \n",
       "Yes                         119       5        2        19         45   \n",
       "\n",
       "TypeName     Workstation  \n",
       "TouchScreen               \n",
       "No                    27  \n",
       "Yes                    2  "
      ]
     },
     "execution_count": 120,
     "metadata": {},
     "output_type": "execute_result"
    }
   ],
   "source": [
    "pd.crosstab(index=df['TouchScreen'], columns=df['TypeName'])"
   ]
  },
  {
   "cell_type": "markdown",
   "metadata": {},
   "source": [
    "As we can see most of the laptops that have a Touchscreen are 2 in 1 Convertible, we can also see the most popular laptop type don't usual come with touch screen.\n",
    "\n",
    "We could say that Touchscreen are mostly a luxury for laptop users"
   ]
  },
  {
   "cell_type": "markdown",
   "metadata": {},
   "source": [
    "##### Display panel"
   ]
  },
  {
   "cell_type": "markdown",
   "metadata": {},
   "source": [
    "For the display panel we will asign 1 to observations with IPS panles and 0 to TN panels we can flip them it doesn't matter."
   ]
  },
  {
   "cell_type": "code",
   "execution_count": 121,
   "metadata": {},
   "outputs": [
    {
     "data": {
      "text/html": [
       "<div>\n",
       "<style scoped>\n",
       "    .dataframe tbody tr th:only-of-type {\n",
       "        vertical-align: middle;\n",
       "    }\n",
       "\n",
       "    .dataframe tbody tr th {\n",
       "        vertical-align: top;\n",
       "    }\n",
       "\n",
       "    .dataframe thead th {\n",
       "        text-align: right;\n",
       "    }\n",
       "</style>\n",
       "<table border=\"1\" class=\"dataframe\">\n",
       "  <thead>\n",
       "    <tr style=\"text-align: right;\">\n",
       "      <th></th>\n",
       "      <th>laptop_ID</th>\n",
       "      <th>Company</th>\n",
       "      <th>Product</th>\n",
       "      <th>TypeName</th>\n",
       "      <th>Inches</th>\n",
       "      <th>ScreenResolution</th>\n",
       "      <th>Cpu</th>\n",
       "      <th>Ram (GB)</th>\n",
       "      <th>Memory</th>\n",
       "      <th>Gpu</th>\n",
       "      <th>OpSys</th>\n",
       "      <th>Weight (kg)</th>\n",
       "      <th>Price_euros</th>\n",
       "      <th>TouchScreen</th>\n",
       "      <th>Display panel</th>\n",
       "    </tr>\n",
       "  </thead>\n",
       "  <tbody>\n",
       "    <tr>\n",
       "      <th>1298</th>\n",
       "      <td>1316</td>\n",
       "      <td>Lenovo</td>\n",
       "      <td>Yoga 500-14ISK</td>\n",
       "      <td>2 in 1 Convertible</td>\n",
       "      <td>14.0</td>\n",
       "      <td>Full HD 1920x1080</td>\n",
       "      <td>Intel Core i7 6500U 2.5GHz</td>\n",
       "      <td>4</td>\n",
       "      <td>128GB SSD</td>\n",
       "      <td>Intel HD Graphics 520</td>\n",
       "      <td>Windows 10</td>\n",
       "      <td>1.80</td>\n",
       "      <td>638.0</td>\n",
       "      <td>Yes</td>\n",
       "      <td>IPS</td>\n",
       "    </tr>\n",
       "    <tr>\n",
       "      <th>1299</th>\n",
       "      <td>1317</td>\n",
       "      <td>Lenovo</td>\n",
       "      <td>Yoga 900-13ISK</td>\n",
       "      <td>2 in 1 Convertible</td>\n",
       "      <td>13.3</td>\n",
       "      <td>Quad HD+ 3200x1800</td>\n",
       "      <td>Intel Core i7 6500U 2.5GHz</td>\n",
       "      <td>16</td>\n",
       "      <td>512GB SSD</td>\n",
       "      <td>Intel HD Graphics 520</td>\n",
       "      <td>Windows 10</td>\n",
       "      <td>1.30</td>\n",
       "      <td>1499.0</td>\n",
       "      <td>Yes</td>\n",
       "      <td>IPS</td>\n",
       "    </tr>\n",
       "    <tr>\n",
       "      <th>1300</th>\n",
       "      <td>1318</td>\n",
       "      <td>Lenovo</td>\n",
       "      <td>IdeaPad 100S-14IBR</td>\n",
       "      <td>Notebook</td>\n",
       "      <td>14.0</td>\n",
       "      <td>1366x768</td>\n",
       "      <td>Intel Celeron Dual Core N3050 1.6GHz</td>\n",
       "      <td>2</td>\n",
       "      <td>64GB Flash Storage</td>\n",
       "      <td>Intel HD Graphics</td>\n",
       "      <td>Windows 10</td>\n",
       "      <td>1.50</td>\n",
       "      <td>229.0</td>\n",
       "      <td>No</td>\n",
       "      <td>TN</td>\n",
       "    </tr>\n",
       "    <tr>\n",
       "      <th>1301</th>\n",
       "      <td>1319</td>\n",
       "      <td>HP</td>\n",
       "      <td>15-AC110nv (i7-6500U/6GB/1TB/Radeon</td>\n",
       "      <td>Notebook</td>\n",
       "      <td>15.6</td>\n",
       "      <td>1366x768</td>\n",
       "      <td>Intel Core i7 6500U 2.5GHz</td>\n",
       "      <td>6</td>\n",
       "      <td>1TB HDD</td>\n",
       "      <td>AMD Radeon R5 M330</td>\n",
       "      <td>Windows 10</td>\n",
       "      <td>2.19</td>\n",
       "      <td>764.0</td>\n",
       "      <td>No</td>\n",
       "      <td>TN</td>\n",
       "    </tr>\n",
       "    <tr>\n",
       "      <th>1302</th>\n",
       "      <td>1320</td>\n",
       "      <td>Asus</td>\n",
       "      <td>X553SA-XX031T (N3050/4GB/500GB/W10)</td>\n",
       "      <td>Notebook</td>\n",
       "      <td>15.6</td>\n",
       "      <td>1366x768</td>\n",
       "      <td>Intel Celeron Dual Core N3050 1.6GHz</td>\n",
       "      <td>4</td>\n",
       "      <td>500GB HDD</td>\n",
       "      <td>Intel HD Graphics</td>\n",
       "      <td>Windows 10</td>\n",
       "      <td>2.20</td>\n",
       "      <td>369.0</td>\n",
       "      <td>No</td>\n",
       "      <td>TN</td>\n",
       "    </tr>\n",
       "  </tbody>\n",
       "</table>\n",
       "</div>"
      ],
      "text/plain": [
       "      laptop_ID Company                              Product  \\\n",
       "1298       1316  Lenovo                       Yoga 500-14ISK   \n",
       "1299       1317  Lenovo                       Yoga 900-13ISK   \n",
       "1300       1318  Lenovo                   IdeaPad 100S-14IBR   \n",
       "1301       1319      HP  15-AC110nv (i7-6500U/6GB/1TB/Radeon   \n",
       "1302       1320    Asus  X553SA-XX031T (N3050/4GB/500GB/W10)   \n",
       "\n",
       "                TypeName  Inches    ScreenResolution  \\\n",
       "1298  2 in 1 Convertible    14.0   Full HD 1920x1080   \n",
       "1299  2 in 1 Convertible    13.3  Quad HD+ 3200x1800   \n",
       "1300            Notebook    14.0            1366x768   \n",
       "1301            Notebook    15.6            1366x768   \n",
       "1302            Notebook    15.6            1366x768   \n",
       "\n",
       "                                       Cpu  Ram (GB)              Memory  \\\n",
       "1298            Intel Core i7 6500U 2.5GHz         4           128GB SSD   \n",
       "1299            Intel Core i7 6500U 2.5GHz        16           512GB SSD   \n",
       "1300  Intel Celeron Dual Core N3050 1.6GHz         2  64GB Flash Storage   \n",
       "1301            Intel Core i7 6500U 2.5GHz         6             1TB HDD   \n",
       "1302  Intel Celeron Dual Core N3050 1.6GHz         4           500GB HDD   \n",
       "\n",
       "                        Gpu       OpSys  Weight (kg)  Price_euros TouchScreen  \\\n",
       "1298  Intel HD Graphics 520  Windows 10         1.80        638.0         Yes   \n",
       "1299  Intel HD Graphics 520  Windows 10         1.30       1499.0         Yes   \n",
       "1300      Intel HD Graphics  Windows 10         1.50        229.0          No   \n",
       "1301     AMD Radeon R5 M330  Windows 10         2.19        764.0          No   \n",
       "1302      Intel HD Graphics  Windows 10         2.20        369.0          No   \n",
       "\n",
       "     Display panel  \n",
       "1298           IPS  \n",
       "1299           IPS  \n",
       "1300            TN  \n",
       "1301            TN  \n",
       "1302            TN  "
      ]
     },
     "execution_count": 121,
     "metadata": {},
     "output_type": "execute_result"
    }
   ],
   "source": [
    "df[\"Display panel\"]=df['ScreenResolution'].apply(lambda x:'IPS' if 'IPS' in x else 'TN')\n",
    "df['ScreenResolution']=df['ScreenResolution'].replace(regex={r\"IPS Panel.[Retina Display ]*\":\"\"})\n",
    "df.tail()"
   ]
  },
  {
   "cell_type": "markdown",
   "metadata": {},
   "source": [
    "While we at it lets also clean the `ScreenResolution`"
   ]
  },
  {
   "cell_type": "code",
   "execution_count": 122,
   "metadata": {},
   "outputs": [],
   "source": [
    "df['ScreenResolution']=df['ScreenResolution'].replace(regex={r\"(4K)?[^0-9^x]*\":\"\"})"
   ]
  },
  {
   "cell_type": "code",
   "execution_count": 123,
   "metadata": {},
   "outputs": [
    {
     "data": {
      "text/plain": [
       "<AxesSubplot:xlabel='Display panel', ylabel='count'>"
      ]
     },
     "execution_count": 123,
     "metadata": {},
     "output_type": "execute_result"
    },
    {
     "data": {
      "image/png": "[encoded data removed]",
      "text/plain": [
       "<Figure size 432x288 with 1 Axes>"
      ]
     },
     "metadata": {
      "needs_background": "light"
     },
     "output_type": "display_data"
    }
   ],
   "source": [
    "sn.countplot(x='Display panel',data=df)"
   ]
  },
  {
   "cell_type": "markdown",
   "metadata": {},
   "source": [
    "Most laptops in this dataset dont have IPS panel but TN ones insted."
   ]
  },
  {
   "cell_type": "code",
   "execution_count": 124,
   "metadata": {},
   "outputs": [
    {
     "data": {
      "text/plain": [
       "<AxesSubplot:xlabel='Display panel', ylabel='Price_euros'>"
      ]
     },
     "execution_count": 124,
     "metadata": {},
     "output_type": "execute_result"
    },
    {
     "data": {
      "image/png": "[encoded data removed]",
      "text/plain": [
       "<Figure size 432x288 with 1 Axes>"
      ]
     },
     "metadata": {
      "needs_background": "light"
     },
     "output_type": "display_data"
    }
   ],
   "source": [
    "sn.barplot(x = 'Display panel',y= 'Price_euros',data=df)"
   ]
  },
  {
   "cell_type": "markdown",
   "metadata": {},
   "source": [
    "IPS display panels are more expencive than TN panels "
   ]
  },
  {
   "cell_type": "code",
   "execution_count": 125,
   "metadata": {},
   "outputs": [
    {
     "data": {
      "text/plain": [
       "(array([0, 1, 2, 3, 4, 5]),\n",
       " [Text(0, 0, 'Ultrabook'),\n",
       "  Text(1, 0, 'Notebook'),\n",
       "  Text(2, 0, 'Netbook'),\n",
       "  Text(3, 0, 'Gaming'),\n",
       "  Text(4, 0, '2 in 1 Convertible'),\n",
       "  Text(5, 0, 'Workstation')])"
      ]
     },
     "execution_count": 125,
     "metadata": {},
     "output_type": "execute_result"
    },
    {
     "data": {
      "image/png": "[encoded data removed]",
      "text/plain": [
       "<Figure size 432x288 with 1 Axes>"
      ]
     },
     "metadata": {
      "needs_background": "light"
     },
     "output_type": "display_data"
    }
   ],
   "source": [
    "sn.countplot(x=\"TypeName\", hue=\"Display panel\", data=df)\n",
    "plt.xticks(rotation=20)"
   ]
  },
  {
   "cell_type": "code",
   "execution_count": 126,
   "metadata": {},
   "outputs": [
    {
     "data": {
      "text/html": [
       "<div>\n",
       "<style scoped>\n",
       "    .dataframe tbody tr th:only-of-type {\n",
       "        vertical-align: middle;\n",
       "    }\n",
       "\n",
       "    .dataframe tbody tr th {\n",
       "        vertical-align: top;\n",
       "    }\n",
       "\n",
       "    .dataframe thead th {\n",
       "        text-align: right;\n",
       "    }\n",
       "</style>\n",
       "<table border=\"1\" class=\"dataframe\">\n",
       "  <thead>\n",
       "    <tr style=\"text-align: right;\">\n",
       "      <th>TypeName</th>\n",
       "      <th>2 in 1 Convertible</th>\n",
       "      <th>Gaming</th>\n",
       "      <th>Netbook</th>\n",
       "      <th>Notebook</th>\n",
       "      <th>Ultrabook</th>\n",
       "      <th>Workstation</th>\n",
       "    </tr>\n",
       "    <tr>\n",
       "      <th>Display panel</th>\n",
       "      <th></th>\n",
       "      <th></th>\n",
       "      <th></th>\n",
       "      <th></th>\n",
       "      <th></th>\n",
       "      <th></th>\n",
       "    </tr>\n",
       "  </thead>\n",
       "  <tbody>\n",
       "    <tr>\n",
       "      <th>IPS</th>\n",
       "      <td>65</td>\n",
       "      <td>88</td>\n",
       "      <td>4</td>\n",
       "      <td>115</td>\n",
       "      <td>82</td>\n",
       "      <td>11</td>\n",
       "    </tr>\n",
       "    <tr>\n",
       "      <th>TN</th>\n",
       "      <td>56</td>\n",
       "      <td>117</td>\n",
       "      <td>21</td>\n",
       "      <td>612</td>\n",
       "      <td>114</td>\n",
       "      <td>18</td>\n",
       "    </tr>\n",
       "  </tbody>\n",
       "</table>\n",
       "</div>"
      ],
      "text/plain": [
       "TypeName       2 in 1 Convertible  Gaming  Netbook  Notebook  Ultrabook  \\\n",
       "Display panel                                                             \n",
       "IPS                            65      88        4       115         82   \n",
       "TN                             56     117       21       612        114   \n",
       "\n",
       "TypeName       Workstation  \n",
       "Display panel               \n",
       "IPS                     11  \n",
       "TN                      18  "
      ]
     },
     "execution_count": 126,
     "metadata": {},
     "output_type": "execute_result"
    }
   ],
   "source": [
    "pd.crosstab(index=df['Display panel'], columns=df['TypeName'])"
   ]
  },
  {
   "cell_type": "markdown",
   "metadata": {},
   "source": [
    "We can see here that most Notebooks and netbooks laptop types dont use TN panel probably because of the high-price, more than half of 2 in 1 convertible laptops use IPS panels, similarly for workstations, ultrabooks and gaming laptops, close to half of them have IPS, this is logical as these panel provide better view from an angel compared to TN counterpart so they are more of a premium adition."
   ]
  },
  {
   "cell_type": "markdown",
   "metadata": {},
   "source": [
    "##### ScreenResolution"
   ]
  },
  {
   "cell_type": "code",
   "execution_count": 127,
   "metadata": {},
   "outputs": [
    {
     "data": {
      "text/plain": [
       "1920x1080    841\n",
       "1366x768     305\n",
       "3840x2160     43\n",
       "3200x1800     27\n",
       "1600x900      23\n",
       "2560x1440     18\n",
       "2256x1504      6\n",
       "2560x1600      6\n",
       "2304x1440      6\n",
       "560x1440       5\n",
       "920x1200       4\n",
       "1440x900       4\n",
       "2880x1800      4\n",
       "2400x1600      3\n",
       "366x768        3\n",
       "2160x1440      2\n",
       "2736x1824      1\n",
       "1920x1200      1\n",
       "400x1600       1\n",
       "Name: ScreenResolution, dtype: int64"
      ]
     },
     "execution_count": 127,
     "metadata": {},
     "output_type": "execute_result"
    }
   ],
   "source": [
    "df['ScreenResolution'].value_counts()"
   ]
  },
  {
   "cell_type": "code",
   "execution_count": 128,
   "metadata": {},
   "outputs": [
    {
     "data": {
      "text/plain": [
       "(array([ 0,  1,  2,  3,  4,  5,  6,  7,  8,  9, 10, 11, 12, 13, 14, 15, 16,\n",
       "        17, 18]),\n",
       " [Text(0, 0, '1920x1080'),\n",
       "  Text(1, 0, '1366x768'),\n",
       "  Text(2, 0, '3840x2160'),\n",
       "  Text(3, 0, '3200x1800'),\n",
       "  Text(4, 0, '1600x900'),\n",
       "  Text(5, 0, '2560x1440'),\n",
       "  Text(6, 0, '2256x1504'),\n",
       "  Text(7, 0, '2560x1600'),\n",
       "  Text(8, 0, '2304x1440'),\n",
       "  Text(9, 0, '560x1440'),\n",
       "  Text(10, 0, '920x1200'),\n",
       "  Text(11, 0, '1440x900'),\n",
       "  Text(12, 0, '2880x1800'),\n",
       "  Text(13, 0, '2400x1600'),\n",
       "  Text(14, 0, '366x768'),\n",
       "  Text(15, 0, '2160x1440'),\n",
       "  Text(16, 0, '2736x1824'),\n",
       "  Text(17, 0, '1920x1200'),\n",
       "  Text(18, 0, '400x1600')])"
      ]
     },
     "execution_count": 128,
     "metadata": {},
     "output_type": "execute_result"
    },
    {
     "data": {
      "image/png": "[encoded data removed]",
      "text/plain": [
       "<Figure size 1080x504 with 1 Axes>"
      ]
     },
     "metadata": {
      "needs_background": "light"
     },
     "output_type": "display_data"
    }
   ],
   "source": [
    "plt.figure(figsize=(15,7))\n",
    "sn.countplot(x='ScreenResolution',data=df,order=df['ScreenResolution'].value_counts().index)\n",
    "plt.xticks(rotation=20)"
   ]
  },
  {
   "cell_type": "markdown",
   "metadata": {},
   "source": [
    "we observe that 1920x1080 (FHD) is the most popular display resolution across all dfs"
   ]
  },
  {
   "cell_type": "code",
   "execution_count": 129,
   "metadata": {},
   "outputs": [],
   "source": [
    "X=df['ScreenResolution'].str.split(\"x\",expand=True)\n",
    "df['X_res']=X[0]\n",
    "df['Y_res']=X[1]\n",
    "for value in ['X_res','Y_res']:\n",
    "    df[value]=df[value].astype(\"int\")"
   ]
  },
  {
   "cell_type": "markdown",
   "metadata": {},
   "source": [
    "## Feature Engineering"
   ]
  },
  {
   "cell_type": "code",
   "execution_count": 130,
   "metadata": {},
   "outputs": [
    {
     "data": {
      "text/html": [
       "<div>\n",
       "<style scoped>\n",
       "    .dataframe tbody tr th:only-of-type {\n",
       "        vertical-align: middle;\n",
       "    }\n",
       "\n",
       "    .dataframe tbody tr th {\n",
       "        vertical-align: top;\n",
       "    }\n",
       "\n",
       "    .dataframe thead th {\n",
       "        text-align: right;\n",
       "    }\n",
       "</style>\n",
       "<table border=\"1\" class=\"dataframe\">\n",
       "  <thead>\n",
       "    <tr style=\"text-align: right;\">\n",
       "      <th></th>\n",
       "      <th>laptop_ID</th>\n",
       "      <th>Company</th>\n",
       "      <th>Product</th>\n",
       "      <th>TypeName</th>\n",
       "      <th>Inches</th>\n",
       "      <th>ScreenResolution</th>\n",
       "      <th>Cpu</th>\n",
       "      <th>Ram (GB)</th>\n",
       "      <th>Memory</th>\n",
       "      <th>Gpu</th>\n",
       "      <th>OpSys</th>\n",
       "      <th>Weight (kg)</th>\n",
       "      <th>Price_euros</th>\n",
       "      <th>TouchScreen</th>\n",
       "      <th>Display panel</th>\n",
       "      <th>X_res</th>\n",
       "      <th>Y_res</th>\n",
       "    </tr>\n",
       "  </thead>\n",
       "  <tbody>\n",
       "    <tr>\n",
       "      <th>700</th>\n",
       "      <td>708</td>\n",
       "      <td>Dell</td>\n",
       "      <td>Inspiron 5577</td>\n",
       "      <td>Gaming</td>\n",
       "      <td>15.6</td>\n",
       "      <td>1920x1080</td>\n",
       "      <td>Intel Core i5 7300HQ 2.5GHz</td>\n",
       "      <td>8</td>\n",
       "      <td>1TB HDD</td>\n",
       "      <td>Nvidia GeForce GTX 1050</td>\n",
       "      <td>Windows 10</td>\n",
       "      <td>2.56</td>\n",
       "      <td>819.0</td>\n",
       "      <td>No</td>\n",
       "      <td>TN</td>\n",
       "      <td>1920</td>\n",
       "      <td>1080</td>\n",
       "    </tr>\n",
       "    <tr>\n",
       "      <th>752</th>\n",
       "      <td>761</td>\n",
       "      <td>Asus</td>\n",
       "      <td>X550VX-XX015D (i5-6300HQ/4GB/1TB/GeForce</td>\n",
       "      <td>Notebook</td>\n",
       "      <td>15.6</td>\n",
       "      <td>1366x768</td>\n",
       "      <td>Intel Core i5 6300HQ 2.3GHz</td>\n",
       "      <td>4</td>\n",
       "      <td>1TB HDD</td>\n",
       "      <td>Nvidia GeForce GTX 950M</td>\n",
       "      <td>No OS</td>\n",
       "      <td>2.45</td>\n",
       "      <td>579.0</td>\n",
       "      <td>No</td>\n",
       "      <td>TN</td>\n",
       "      <td>1366</td>\n",
       "      <td>768</td>\n",
       "    </tr>\n",
       "    <tr>\n",
       "      <th>805</th>\n",
       "      <td>814</td>\n",
       "      <td>HP</td>\n",
       "      <td>EliteBook 820</td>\n",
       "      <td>Netbook</td>\n",
       "      <td>12.5</td>\n",
       "      <td>1366x768</td>\n",
       "      <td>Intel Core i5 7300U 2.6GHz</td>\n",
       "      <td>8</td>\n",
       "      <td>256GB SSD</td>\n",
       "      <td>Intel HD Graphics 620</td>\n",
       "      <td>Windows 10</td>\n",
       "      <td>1.26</td>\n",
       "      <td>1389.0</td>\n",
       "      <td>No</td>\n",
       "      <td>TN</td>\n",
       "      <td>1366</td>\n",
       "      <td>768</td>\n",
       "    </tr>\n",
       "  </tbody>\n",
       "</table>\n",
       "</div>"
      ],
      "text/plain": [
       "     laptop_ID Company                                   Product  TypeName  \\\n",
       "700        708    Dell                             Inspiron 5577    Gaming   \n",
       "752        761    Asus  X550VX-XX015D (i5-6300HQ/4GB/1TB/GeForce  Notebook   \n",
       "805        814      HP                             EliteBook 820   Netbook   \n",
       "\n",
       "     Inches ScreenResolution                          Cpu  Ram (GB)  \\\n",
       "700    15.6        1920x1080  Intel Core i5 7300HQ 2.5GHz         8   \n",
       "752    15.6         1366x768  Intel Core i5 6300HQ 2.3GHz         4   \n",
       "805    12.5         1366x768   Intel Core i5 7300U 2.6GHz         8   \n",
       "\n",
       "        Memory                      Gpu       OpSys  Weight (kg)  Price_euros  \\\n",
       "700    1TB HDD  Nvidia GeForce GTX 1050  Windows 10         2.56        819.0   \n",
       "752    1TB HDD  Nvidia GeForce GTX 950M       No OS         2.45        579.0   \n",
       "805  256GB SSD    Intel HD Graphics 620  Windows 10         1.26       1389.0   \n",
       "\n",
       "    TouchScreen Display panel  X_res  Y_res  \n",
       "700          No            TN   1920   1080  \n",
       "752          No            TN   1366    768  \n",
       "805          No            TN   1366    768  "
      ]
     },
     "execution_count": 130,
     "metadata": {},
     "output_type": "execute_result"
    }
   ],
   "source": [
    "df.sample(3)"
   ]
  },
  {
   "cell_type": "markdown",
   "metadata": {},
   "source": [
    "### Pixel Per Inch"
   ]
  },
  {
   "cell_type": "markdown",
   "metadata": {},
   "source": [
    "Pixel density indicates how many pixels per inch (PPI) there are on a display. The higher the pixel density, the more detailed and spacious the picture is.\n",
    "\n",
    "In contrast, displays with low pixel density will have less screen space and more pixelated image quality."
   ]
  },
  {
   "cell_type": "markdown",
   "metadata": {},
   "source": [
    "Inches and resolution give almost the same amount of information we can combine them into a single metric PixelPerInch or PPI for short its calculated like the following. At the end of the day, our goal is to improve the performance by having fewer features."
   ]
  },
  {
   "cell_type": "markdown",
   "metadata": {},
   "source": [
    "$$\n",
    "    PPI = \\frac{\\sqrt{X_{resolution}^2+Y_{resolution}^2}}{inches}\n",
    "$$"
   ]
  },
  {
   "cell_type": "code",
   "execution_count": 131,
   "metadata": {},
   "outputs": [],
   "source": [
    "df['ppi'] = (((df['X_res']**2) + (df['Y_res']**2))**0.5/df['Inches']).astype('float')"
   ]
  },
  {
   "cell_type": "code",
   "execution_count": 132,
   "metadata": {},
   "outputs": [],
   "source": [
    "df[\"Res_value\"]=df['X_res']*df['Y_res']\n",
    "df.drop(columns = ['X_res','Y_res'], inplace=True)"
   ]
  },
  {
   "cell_type": "code",
   "execution_count": 133,
   "metadata": {},
   "outputs": [
    {
     "data": {
      "text/plain": [
       "0       2560x1600\n",
       "1        1440x900\n",
       "2       1920x1080\n",
       "3       2880x1800\n",
       "4       2560x1600\n",
       "          ...    \n",
       "1298    1920x1080\n",
       "1299    3200x1800\n",
       "1300     1366x768\n",
       "1301     1366x768\n",
       "1302     1366x768\n",
       "Name: ScreenResolution, Length: 1303, dtype: object"
      ]
     },
     "execution_count": 133,
     "metadata": {},
     "output_type": "execute_result"
    }
   ],
   "source": [
    "Convert=dict(zip(df[\"Res_value\"].value_counts().index, df[\"ScreenResolution\"].value_counts().index))\n",
    "df.pop('ScreenResolution')"
   ]
  },
  {
   "cell_type": "code",
   "execution_count": 134,
   "metadata": {},
   "outputs": [
    {
     "name": "stdout",
     "output_type": "stream",
     "text": [
      "<class 'pandas.core.frame.DataFrame'>\n",
      "RangeIndex: 1303 entries, 0 to 1302\n",
      "Data columns (total 16 columns):\n",
      " #   Column         Non-Null Count  Dtype  \n",
      "---  ------         --------------  -----  \n",
      " 0   laptop_ID      1303 non-null   int64  \n",
      " 1   Company        1303 non-null   object \n",
      " 2   Product        1303 non-null   object \n",
      " 3   TypeName       1303 non-null   object \n",
      " 4   Inches         1303 non-null   float64\n",
      " 5   Cpu            1303 non-null   object \n",
      " 6   Ram (GB)       1303 non-null   int32  \n",
      " 7   Memory         1303 non-null   object \n",
      " 8   Gpu            1303 non-null   object \n",
      " 9   OpSys          1303 non-null   object \n",
      " 10  Weight (kg)    1303 non-null   float64\n",
      " 11  Price_euros    1303 non-null   float64\n",
      " 12  TouchScreen    1303 non-null   object \n",
      " 13  Display panel  1303 non-null   object \n",
      " 14  ppi            1303 non-null   float64\n",
      " 15  Res_value      1303 non-null   int32  \n",
      "dtypes: float64(4), int32(2), int64(1), object(9)\n",
      "memory usage: 152.8+ KB\n"
     ]
    }
   ],
   "source": [
    "df.info()"
   ]
  },
  {
   "cell_type": "code",
   "execution_count": 135,
   "metadata": {},
   "outputs": [
    {
     "data": {
      "text/plain": [
       "<AxesSubplot:xlabel='Inches', ylabel='Price_euros'>"
      ]
     },
     "execution_count": 135,
     "metadata": {},
     "output_type": "execute_result"
    },
    {
     "data": {
      "image/png": "[encoded data removed]",
      "text/plain": [
       "<Figure size 1080x504 with 1 Axes>"
      ]
     },
     "metadata": {
      "needs_background": "light"
     },
     "output_type": "display_data"
    }
   ],
   "source": [
    "plt.figure(figsize=(15,7))\n",
    "sn.boxplot(y='Price_euros',x ='Inches',data=df)"
   ]
  },
  {
   "cell_type": "markdown",
   "metadata": {},
   "source": [
    "df.drop(columns = ['Inches','X_res','Y_res'], inplace=True)"
   ]
  },
  {
   "cell_type": "markdown",
   "metadata": {},
   "source": [
    "### `CPU` column"
   ]
  },
  {
   "cell_type": "markdown",
   "metadata": {},
   "source": [
    "The CPU column also contains lots of information, like CPU manifactuer and model and also it's speed (GHz) with 118 different categories."
   ]
  },
  {
   "cell_type": "code",
   "execution_count": 136,
   "metadata": {},
   "outputs": [
    {
     "data": {
      "text/plain": [
       "Intel Core i5 7200U 2.5GHz       190\n",
       "Intel Core i7 7700HQ 2.8GHz      146\n",
       "Intel Core i7 7500U 2.7GHz       134\n",
       "Intel Core i7 8550U 1.8GHz        73\n",
       "Intel Core i5 8250U 1.6GHz        72\n",
       "                                ... \n",
       "Intel Core M M3-6Y30 0.9GHz        1\n",
       "AMD A9-Series 9420 2.9GHz          1\n",
       "Intel Core i3 6006U 2.2GHz         1\n",
       "AMD A6-Series 7310 2GHz            1\n",
       "Intel Xeon E3-1535M v6 3.1GHz      1\n",
       "Name: Cpu, Length: 118, dtype: int64"
      ]
     },
     "execution_count": 136,
     "metadata": {},
     "output_type": "execute_result"
    }
   ],
   "source": [
    "df['Cpu'].value_counts()"
   ]
  },
  {
   "cell_type": "markdown",
   "metadata": {},
   "source": [
    "we will put the CPU speed in it's own column and change its dtype"
   ]
  },
  {
   "cell_type": "code",
   "execution_count": 137,
   "metadata": {},
   "outputs": [],
   "source": [
    "def get_GHz(CPU):\n",
    "    return re.search(r'\\d?\\.?\\d(?!(?!GHz))',CPU).group()"
   ]
  },
  {
   "cell_type": "code",
   "execution_count": 138,
   "metadata": {},
   "outputs": [],
   "source": [
    "df['GHz']=df['Cpu'].apply(get_GHz)\n"
   ]
  },
  {
   "cell_type": "code",
   "execution_count": 139,
   "metadata": {},
   "outputs": [],
   "source": [
    "df['GHz']=df['GHz'].astype(\"float\")"
   ]
  },
  {
   "cell_type": "markdown",
   "metadata": {},
   "source": [
    "We will be clustering this column, so each df will either have an one of intel processors (Intel Xeon, i3, i5, i7 or Other Intel Processor) or AMD Processor"
   ]
  },
  {
   "cell_type": "code",
   "execution_count": 140,
   "metadata": {},
   "outputs": [],
   "source": [
    "def get_processor(x):\n",
    "    match=re.search(r'Intel Core i[357]',x)\n",
    "    if match:\n",
    "        return match[0]\n",
    "    if 'xeon' in x.lower():\n",
    "        return 'Intel Xeon E3'\n",
    "    if 'intel' in x.lower():\n",
    "        return 'Other Intel Processor'\n",
    "    return 'AMD Processor'\n",
    "        "
   ]
  },
  {
   "cell_type": "code",
   "execution_count": 141,
   "metadata": {},
   "outputs": [],
   "source": [
    "df['Cpu_brand']=df['Cpu'].apply(get_processor)"
   ]
  },
  {
   "cell_type": "markdown",
   "metadata": {},
   "source": [
    "How does the price vary with processors?"
   ]
  },
  {
   "cell_type": "code",
   "execution_count": 142,
   "metadata": {},
   "outputs": [
    {
     "data": {
      "text/plain": [
       "0                       Intel Core i5 2.3GHz\n",
       "1                       Intel Core i5 1.8GHz\n",
       "2                 Intel Core i5 7200U 2.5GHz\n",
       "3                       Intel Core i7 2.7GHz\n",
       "4                       Intel Core i5 3.1GHz\n",
       "                        ...                 \n",
       "1298              Intel Core i7 6500U 2.5GHz\n",
       "1299              Intel Core i7 6500U 2.5GHz\n",
       "1300    Intel Celeron Dual Core N3050 1.6GHz\n",
       "1301              Intel Core i7 6500U 2.5GHz\n",
       "1302    Intel Celeron Dual Core N3050 1.6GHz\n",
       "Name: Cpu, Length: 1303, dtype: object"
      ]
     },
     "execution_count": 142,
     "metadata": {},
     "output_type": "execute_result"
    }
   ],
   "source": [
    "df.pop('Cpu')"
   ]
  },
  {
   "cell_type": "code",
   "execution_count": 143,
   "metadata": {},
   "outputs": [
    {
     "data": {
      "text/plain": [
       "(array([0, 1, 2, 3, 4, 5]),\n",
       " [Text(0, 0, 'Intel Core i7'),\n",
       "  Text(1, 0, 'Intel Core i5'),\n",
       "  Text(2, 0, 'Other Intel Processor'),\n",
       "  Text(3, 0, 'Intel Core i3'),\n",
       "  Text(4, 0, 'AMD Processor'),\n",
       "  Text(5, 0, 'Intel Xeon E3')])"
      ]
     },
     "execution_count": 143,
     "metadata": {},
     "output_type": "execute_result"
    },
    {
     "data": {
      "image/png": "[encoded data removed]",
      "text/plain": [
       "<Figure size 432x288 with 1 Axes>"
      ]
     },
     "metadata": {
      "needs_background": "light"
     },
     "output_type": "display_data"
    }
   ],
   "source": [
    "sn.countplot(x='Cpu_brand',data=df,palette='plasma',order=df['Cpu_brand'].value_counts().index)\n",
    "plt.xticks(rotation=20)"
   ]
  },
  {
   "cell_type": "code",
   "execution_count": 144,
   "metadata": {},
   "outputs": [
    {
     "data": {
      "text/plain": [
       "<AxesSubplot:xlabel='Price_euros', ylabel='Cpu_brand'>"
      ]
     },
     "execution_count": 144,
     "metadata": {},
     "output_type": "execute_result"
    },
    {
     "data": {
      "image/png": "[encoded data removed]",
      "text/plain": [
       "<Figure size 1152x720 with 1 Axes>"
      ]
     },
     "metadata": {
      "needs_background": "light"
     },
     "output_type": "display_data"
    }
   ],
   "source": [
    "plt.subplots(figsize=(16,10))\n",
    "x = df.groupby(['Cpu_brand']).Price_euros.median().sort_values().keys()\n",
    "sn.barplot(x='Price_euros',y='Cpu_brand',data= df,order=x)"
   ]
  },
  {
   "cell_type": "markdown",
   "metadata": {},
   "source": [
    "### Storage"
   ]
  },
  {
   "cell_type": "markdown",
   "metadata": {},
   "source": [
    "Xeon processors are one if the best processors Intel offers which explains their very high price we can also see that i7 and i5 processors are the most popular and better than core i3 and AMD"
   ]
  },
  {
   "cell_type": "code",
   "execution_count": 145,
   "metadata": {},
   "outputs": [
    {
     "data": {
      "text/plain": [
       "256GB SSD                        412\n",
       "1TB HDD                          223\n",
       "500GB HDD                        132\n",
       "512GB SSD                        118\n",
       "128GB SSD +  1TB HDD              94\n",
       "128GB SSD                         76\n",
       "256GB SSD +  1TB HDD              73\n",
       "32GB Flash Storage                38\n",
       "2TB HDD                           16\n",
       "64GB Flash Storage                15\n",
       "512GB SSD +  1TB HDD              14\n",
       "1TB SSD                           14\n",
       "256GB SSD +  2TB HDD              10\n",
       "1.0TB Hybrid                       9\n",
       "256GB Flash Storage                8\n",
       "16GB Flash Storage                 7\n",
       "32GB SSD                           6\n",
       "180GB SSD                          5\n",
       "128GB Flash Storage                4\n",
       "512GB SSD +  2TB HDD               3\n",
       "16GB SSD                           3\n",
       "512GB Flash Storage                2\n",
       "1TB SSD +  1TB HDD                 2\n",
       "256GB SSD +  500GB HDD             2\n",
       "128GB SSD +  2TB HDD               2\n",
       "256GB SSD +  256GB SSD             2\n",
       "512GB SSD +  256GB SSD             1\n",
       "512GB SSD +  512GB SSD             1\n",
       "64GB Flash Storage +  1TB HDD      1\n",
       "1TB HDD +  1TB HDD                 1\n",
       "32GB HDD                           1\n",
       "64GB SSD                           1\n",
       "128GB HDD                          1\n",
       "240GB SSD                          1\n",
       "8GB SSD                            1\n",
       "508GB Hybrid                       1\n",
       "1.0TB HDD                          1\n",
       "512GB SSD +  1.0TB Hybrid          1\n",
       "256GB SSD +  1.0TB Hybrid          1\n",
       "Name: Memory, dtype: int64"
      ]
     },
     "execution_count": 145,
     "metadata": {},
     "output_type": "execute_result"
    }
   ],
   "source": [
    "df['Memory'].value_counts()"
   ]
  },
  {
   "cell_type": "markdown",
   "metadata": {},
   "source": [
    "First of all let's standardize the units and remove the decimal point"
   ]
  },
  {
   "cell_type": "code",
   "execution_count": 146,
   "metadata": {},
   "outputs": [],
   "source": [
    "df['Memory']=df['Memory'].str.replace('.0','',regex=False)\n",
    "df['Memory']=df['Memory'].str.replace('GB','')\n",
    "df['Memory']=df['Memory'].str.replace('TB','000')"
   ]
  },
  {
   "cell_type": "code",
   "execution_count": 147,
   "metadata": {},
   "outputs": [],
   "source": [
    "def get_memory(mem,StorageType='HDD'):\n",
    "  if StorageType in mem.split(' '):\n",
    "    i = mem.split(' ').index(StorageType)\n",
    "    return mem.split(' ')[i-1]\n",
    "  else:\n",
    "    return 0\n"
   ]
  },
  {
   "cell_type": "code",
   "execution_count": 148,
   "metadata": {},
   "outputs": [],
   "source": [
    "for type in ['HDD', 'SSD','Flash','Hybrid']:\n",
    "    df[type]=df['Memory'].apply(lambda x: get_memory(x,StorageType=type))\n",
    "    df[type]=df[type].astype(\"int\")"
   ]
  },
  {
   "cell_type": "code",
   "execution_count": 149,
   "metadata": {},
   "outputs": [
    {
     "data": {
      "text/html": [
       "<div>\n",
       "<style scoped>\n",
       "    .dataframe tbody tr th:only-of-type {\n",
       "        vertical-align: middle;\n",
       "    }\n",
       "\n",
       "    .dataframe tbody tr th {\n",
       "        vertical-align: top;\n",
       "    }\n",
       "\n",
       "    .dataframe thead th {\n",
       "        text-align: right;\n",
       "    }\n",
       "</style>\n",
       "<table border=\"1\" class=\"dataframe\">\n",
       "  <thead>\n",
       "    <tr style=\"text-align: right;\">\n",
       "      <th></th>\n",
       "      <th>laptop_ID</th>\n",
       "      <th>Company</th>\n",
       "      <th>Product</th>\n",
       "      <th>TypeName</th>\n",
       "      <th>Inches</th>\n",
       "      <th>Ram (GB)</th>\n",
       "      <th>Gpu</th>\n",
       "      <th>OpSys</th>\n",
       "      <th>Weight (kg)</th>\n",
       "      <th>Price_euros</th>\n",
       "      <th>TouchScreen</th>\n",
       "      <th>Display panel</th>\n",
       "      <th>ppi</th>\n",
       "      <th>Res_value</th>\n",
       "      <th>GHz</th>\n",
       "      <th>Cpu_brand</th>\n",
       "      <th>HDD</th>\n",
       "      <th>SSD</th>\n",
       "      <th>Flash</th>\n",
       "      <th>Hybrid</th>\n",
       "    </tr>\n",
       "  </thead>\n",
       "  <tbody>\n",
       "    <tr>\n",
       "      <th>0</th>\n",
       "      <td>1</td>\n",
       "      <td>Apple</td>\n",
       "      <td>MacBook Pro</td>\n",
       "      <td>Ultrabook</td>\n",
       "      <td>13.3</td>\n",
       "      <td>8</td>\n",
       "      <td>Intel Iris Plus Graphics 640</td>\n",
       "      <td>macOS</td>\n",
       "      <td>1.37</td>\n",
       "      <td>1339.69</td>\n",
       "      <td>No</td>\n",
       "      <td>IPS</td>\n",
       "      <td>226.983005</td>\n",
       "      <td>4096000</td>\n",
       "      <td>2.3</td>\n",
       "      <td>Intel Core i5</td>\n",
       "      <td>0</td>\n",
       "      <td>128</td>\n",
       "      <td>0</td>\n",
       "      <td>0</td>\n",
       "    </tr>\n",
       "    <tr>\n",
       "      <th>1</th>\n",
       "      <td>2</td>\n",
       "      <td>Apple</td>\n",
       "      <td>Macbook Air</td>\n",
       "      <td>Ultrabook</td>\n",
       "      <td>13.3</td>\n",
       "      <td>8</td>\n",
       "      <td>Intel HD Graphics 6000</td>\n",
       "      <td>macOS</td>\n",
       "      <td>1.34</td>\n",
       "      <td>898.94</td>\n",
       "      <td>No</td>\n",
       "      <td>TN</td>\n",
       "      <td>127.677940</td>\n",
       "      <td>1296000</td>\n",
       "      <td>1.8</td>\n",
       "      <td>Intel Core i5</td>\n",
       "      <td>0</td>\n",
       "      <td>0</td>\n",
       "      <td>128</td>\n",
       "      <td>0</td>\n",
       "    </tr>\n",
       "    <tr>\n",
       "      <th>2</th>\n",
       "      <td>3</td>\n",
       "      <td>HP</td>\n",
       "      <td>250 G6</td>\n",
       "      <td>Notebook</td>\n",
       "      <td>15.6</td>\n",
       "      <td>8</td>\n",
       "      <td>Intel HD Graphics 620</td>\n",
       "      <td>No OS</td>\n",
       "      <td>1.86</td>\n",
       "      <td>575.00</td>\n",
       "      <td>No</td>\n",
       "      <td>TN</td>\n",
       "      <td>141.211998</td>\n",
       "      <td>2073600</td>\n",
       "      <td>2.5</td>\n",
       "      <td>Intel Core i5</td>\n",
       "      <td>0</td>\n",
       "      <td>256</td>\n",
       "      <td>0</td>\n",
       "      <td>0</td>\n",
       "    </tr>\n",
       "    <tr>\n",
       "      <th>3</th>\n",
       "      <td>4</td>\n",
       "      <td>Apple</td>\n",
       "      <td>MacBook Pro</td>\n",
       "      <td>Ultrabook</td>\n",
       "      <td>15.4</td>\n",
       "      <td>16</td>\n",
       "      <td>AMD Radeon Pro 455</td>\n",
       "      <td>macOS</td>\n",
       "      <td>1.83</td>\n",
       "      <td>2537.45</td>\n",
       "      <td>No</td>\n",
       "      <td>IPS</td>\n",
       "      <td>220.534624</td>\n",
       "      <td>5184000</td>\n",
       "      <td>2.7</td>\n",
       "      <td>Intel Core i7</td>\n",
       "      <td>0</td>\n",
       "      <td>512</td>\n",
       "      <td>0</td>\n",
       "      <td>0</td>\n",
       "    </tr>\n",
       "    <tr>\n",
       "      <th>4</th>\n",
       "      <td>5</td>\n",
       "      <td>Apple</td>\n",
       "      <td>MacBook Pro</td>\n",
       "      <td>Ultrabook</td>\n",
       "      <td>13.3</td>\n",
       "      <td>8</td>\n",
       "      <td>Intel Iris Plus Graphics 650</td>\n",
       "      <td>macOS</td>\n",
       "      <td>1.37</td>\n",
       "      <td>1803.60</td>\n",
       "      <td>No</td>\n",
       "      <td>IPS</td>\n",
       "      <td>226.983005</td>\n",
       "      <td>4096000</td>\n",
       "      <td>3.1</td>\n",
       "      <td>Intel Core i5</td>\n",
       "      <td>0</td>\n",
       "      <td>256</td>\n",
       "      <td>0</td>\n",
       "      <td>0</td>\n",
       "    </tr>\n",
       "  </tbody>\n",
       "</table>\n",
       "</div>"
      ],
      "text/plain": [
       "   laptop_ID Company      Product   TypeName  Inches  Ram (GB)  \\\n",
       "0          1   Apple  MacBook Pro  Ultrabook    13.3         8   \n",
       "1          2   Apple  Macbook Air  Ultrabook    13.3         8   \n",
       "2          3      HP       250 G6   Notebook    15.6         8   \n",
       "3          4   Apple  MacBook Pro  Ultrabook    15.4        16   \n",
       "4          5   Apple  MacBook Pro  Ultrabook    13.3         8   \n",
       "\n",
       "                            Gpu  OpSys  Weight (kg)  Price_euros TouchScreen  \\\n",
       "0  Intel Iris Plus Graphics 640  macOS         1.37      1339.69          No   \n",
       "1        Intel HD Graphics 6000  macOS         1.34       898.94          No   \n",
       "2         Intel HD Graphics 620  No OS         1.86       575.00          No   \n",
       "3            AMD Radeon Pro 455  macOS         1.83      2537.45          No   \n",
       "4  Intel Iris Plus Graphics 650  macOS         1.37      1803.60          No   \n",
       "\n",
       "  Display panel         ppi  Res_value  GHz      Cpu_brand  HDD  SSD  Flash  \\\n",
       "0           IPS  226.983005    4096000  2.3  Intel Core i5    0  128      0   \n",
       "1            TN  127.677940    1296000  1.8  Intel Core i5    0    0    128   \n",
       "2            TN  141.211998    2073600  2.5  Intel Core i5    0  256      0   \n",
       "3           IPS  220.534624    5184000  2.7  Intel Core i7    0  512      0   \n",
       "4           IPS  226.983005    4096000  3.1  Intel Core i5    0  256      0   \n",
       "\n",
       "   Hybrid  \n",
       "0       0  \n",
       "1       0  \n",
       "2       0  \n",
       "3       0  \n",
       "4       0  "
      ]
     },
     "execution_count": 149,
     "metadata": {},
     "output_type": "execute_result"
    }
   ],
   "source": [
    "df.pop('Memory')\n",
    "df.head()"
   ]
  },
  {
   "cell_type": "markdown",
   "metadata": {},
   "source": [
    "### Gpu"
   ]
  },
  {
   "cell_type": "code",
   "execution_count": 150,
   "metadata": {},
   "outputs": [
    {
     "data": {
      "text/plain": [
       "Intel HD Graphics 620      281\n",
       "Intel HD Graphics 520      185\n",
       "Intel UHD Graphics 620      68\n",
       "Nvidia GeForce GTX 1050     66\n",
       "Nvidia GeForce GTX 1060     48\n",
       "                          ... \n",
       "AMD Radeon R5 520            1\n",
       "AMD Radeon R7                1\n",
       "Intel HD Graphics 540        1\n",
       "AMD Radeon 540               1\n",
       "ARM Mali T860 MP4            1\n",
       "Name: Gpu, Length: 110, dtype: int64"
      ]
     },
     "execution_count": 150,
     "metadata": {},
     "output_type": "execute_result"
    }
   ],
   "source": [
    "df['Gpu'].value_counts()"
   ]
  },
  {
   "cell_type": "code",
   "execution_count": 151,
   "metadata": {},
   "outputs": [],
   "source": [
    "df.loc[182,'Gpu']='AMD Radeon R7'"
   ]
  },
  {
   "cell_type": "code",
   "execution_count": 152,
   "metadata": {},
   "outputs": [],
   "source": [
    "def get_Gpu(x):\n",
    "    if 'Intel' in x:\n",
    "        return 'Intel Iris Graphics' if 'Iris' in x else \"Intel HD Graphics\"\n",
    "    if  'AMD' in x:\n",
    "        match = re.search(r'R[579X]',x)\n",
    "        if match:\n",
    "            return 'AMD Radeon '+match.group()\n",
    "        if 'FirePro' in x:\n",
    "            return 'AMD FirePro'\n",
    "        else:\n",
    "            return \"Other AMD Radeon\"\n",
    "    # if not AMD or Intel then its Nvidia\n",
    "    if 'Nvidia' in x:\n",
    "        if 'Quadro' in x:\n",
    "            return 'Nvidia Quadro'\n",
    "        if 'GTX' in x:\n",
    "            return 'Nvidia GeForce GTX'\n",
    "        else:\n",
    "            return 'Nvidia GeForce GT'\n",
    "    return 'Other Gpu'\n",
    "    "
   ]
  },
  {
   "cell_type": "code",
   "execution_count": 153,
   "metadata": {},
   "outputs": [],
   "source": [
    "df['Gpu_model']=df['Gpu'].apply(get_Gpu)"
   ]
  },
  {
   "cell_type": "code",
   "execution_count": 154,
   "metadata": {},
   "outputs": [
    {
     "data": {
      "text/plain": [
       "<AxesSubplot:xlabel='Price_euros', ylabel='Gpu_model'>"
      ]
     },
     "execution_count": 154,
     "metadata": {},
     "output_type": "execute_result"
    },
    {
     "data": {
      "image/png": "[encoded data removed]",
      "text/plain": [
       "<Figure size 1152x504 with 1 Axes>"
      ]
     },
     "metadata": {
      "needs_background": "light"
     },
     "output_type": "display_data"
    }
   ],
   "source": [
    "plt.subplots(figsize=(16,7))\n",
    "x = df.groupby(['Gpu_model']).Price_euros.median().sort_values().keys()\n",
    "sn.boxplot(x='Price_euros',y='Gpu_model',data= df,order=x)"
   ]
  },
  {
   "cell_type": "code",
   "execution_count": 155,
   "metadata": {},
   "outputs": [
    {
     "data": {
      "image/png": "[encoded data removed]",
      "text/plain": [
       "<Figure size 1800x1440 with 6 Axes>"
      ]
     },
     "metadata": {},
     "output_type": "display_data"
    }
   ],
   "source": [
    "f, ax = plt.subplots(2,3,figsize=(25,20))\n",
    "companies=df[\"TypeName\"].unique()\n",
    "j=i=0\n",
    "for company in companies[0:12]:\n",
    "  data = df.groupby([\"TypeName\",\"Gpu_model\"]).count()['laptop_ID'][company]   \n",
    "  data.plot.pie (autopct=\"%.1f%%\",ax=ax[i][j])\n",
    "  ax[i][j].set_title(company)\n",
    "  j+=1\n",
    "  if j%3 == 0:\n",
    "    i+=1\n",
    "    j=0"
   ]
  },
  {
   "cell_type": "code",
   "execution_count": 156,
   "metadata": {},
   "outputs": [],
   "source": [
    "df.drop(columns = ['laptop_ID','Product','Inches', 'Gpu'], inplace=True)"
   ]
  },
  {
   "cell_type": "code",
   "execution_count": 157,
   "metadata": {},
   "outputs": [
    {
     "data": {
      "text/html": [
       "<div>\n",
       "<style scoped>\n",
       "    .dataframe tbody tr th:only-of-type {\n",
       "        vertical-align: middle;\n",
       "    }\n",
       "\n",
       "    .dataframe tbody tr th {\n",
       "        vertical-align: top;\n",
       "    }\n",
       "\n",
       "    .dataframe thead th {\n",
       "        text-align: right;\n",
       "    }\n",
       "</style>\n",
       "<table border=\"1\" class=\"dataframe\">\n",
       "  <thead>\n",
       "    <tr style=\"text-align: right;\">\n",
       "      <th></th>\n",
       "      <th>Company</th>\n",
       "      <th>TypeName</th>\n",
       "      <th>Ram (GB)</th>\n",
       "      <th>OpSys</th>\n",
       "      <th>Weight (kg)</th>\n",
       "      <th>Price_euros</th>\n",
       "      <th>TouchScreen</th>\n",
       "      <th>Display panel</th>\n",
       "      <th>ppi</th>\n",
       "      <th>Res_value</th>\n",
       "      <th>GHz</th>\n",
       "      <th>Cpu_brand</th>\n",
       "      <th>HDD</th>\n",
       "      <th>SSD</th>\n",
       "      <th>Flash</th>\n",
       "      <th>Hybrid</th>\n",
       "      <th>Gpu_model</th>\n",
       "    </tr>\n",
       "  </thead>\n",
       "  <tbody>\n",
       "    <tr>\n",
       "      <th>0</th>\n",
       "      <td>Apple</td>\n",
       "      <td>Ultrabook</td>\n",
       "      <td>8</td>\n",
       "      <td>macOS</td>\n",
       "      <td>1.37</td>\n",
       "      <td>1339.69</td>\n",
       "      <td>No</td>\n",
       "      <td>IPS</td>\n",
       "      <td>226.983005</td>\n",
       "      <td>4096000</td>\n",
       "      <td>2.3</td>\n",
       "      <td>Intel Core i5</td>\n",
       "      <td>0</td>\n",
       "      <td>128</td>\n",
       "      <td>0</td>\n",
       "      <td>0</td>\n",
       "      <td>Intel Iris Graphics</td>\n",
       "    </tr>\n",
       "    <tr>\n",
       "      <th>1</th>\n",
       "      <td>Apple</td>\n",
       "      <td>Ultrabook</td>\n",
       "      <td>8</td>\n",
       "      <td>macOS</td>\n",
       "      <td>1.34</td>\n",
       "      <td>898.94</td>\n",
       "      <td>No</td>\n",
       "      <td>TN</td>\n",
       "      <td>127.677940</td>\n",
       "      <td>1296000</td>\n",
       "      <td>1.8</td>\n",
       "      <td>Intel Core i5</td>\n",
       "      <td>0</td>\n",
       "      <td>0</td>\n",
       "      <td>128</td>\n",
       "      <td>0</td>\n",
       "      <td>Intel HD Graphics</td>\n",
       "    </tr>\n",
       "    <tr>\n",
       "      <th>2</th>\n",
       "      <td>HP</td>\n",
       "      <td>Notebook</td>\n",
       "      <td>8</td>\n",
       "      <td>No OS</td>\n",
       "      <td>1.86</td>\n",
       "      <td>575.00</td>\n",
       "      <td>No</td>\n",
       "      <td>TN</td>\n",
       "      <td>141.211998</td>\n",
       "      <td>2073600</td>\n",
       "      <td>2.5</td>\n",
       "      <td>Intel Core i5</td>\n",
       "      <td>0</td>\n",
       "      <td>256</td>\n",
       "      <td>0</td>\n",
       "      <td>0</td>\n",
       "      <td>Intel HD Graphics</td>\n",
       "    </tr>\n",
       "    <tr>\n",
       "      <th>3</th>\n",
       "      <td>Apple</td>\n",
       "      <td>Ultrabook</td>\n",
       "      <td>16</td>\n",
       "      <td>macOS</td>\n",
       "      <td>1.83</td>\n",
       "      <td>2537.45</td>\n",
       "      <td>No</td>\n",
       "      <td>IPS</td>\n",
       "      <td>220.534624</td>\n",
       "      <td>5184000</td>\n",
       "      <td>2.7</td>\n",
       "      <td>Intel Core i7</td>\n",
       "      <td>0</td>\n",
       "      <td>512</td>\n",
       "      <td>0</td>\n",
       "      <td>0</td>\n",
       "      <td>Other AMD Radeon</td>\n",
       "    </tr>\n",
       "    <tr>\n",
       "      <th>4</th>\n",
       "      <td>Apple</td>\n",
       "      <td>Ultrabook</td>\n",
       "      <td>8</td>\n",
       "      <td>macOS</td>\n",
       "      <td>1.37</td>\n",
       "      <td>1803.60</td>\n",
       "      <td>No</td>\n",
       "      <td>IPS</td>\n",
       "      <td>226.983005</td>\n",
       "      <td>4096000</td>\n",
       "      <td>3.1</td>\n",
       "      <td>Intel Core i5</td>\n",
       "      <td>0</td>\n",
       "      <td>256</td>\n",
       "      <td>0</td>\n",
       "      <td>0</td>\n",
       "      <td>Intel Iris Graphics</td>\n",
       "    </tr>\n",
       "  </tbody>\n",
       "</table>\n",
       "</div>"
      ],
      "text/plain": [
       "  Company   TypeName  Ram (GB)  OpSys  Weight (kg)  Price_euros TouchScreen  \\\n",
       "0   Apple  Ultrabook         8  macOS         1.37      1339.69          No   \n",
       "1   Apple  Ultrabook         8  macOS         1.34       898.94          No   \n",
       "2      HP   Notebook         8  No OS         1.86       575.00          No   \n",
       "3   Apple  Ultrabook        16  macOS         1.83      2537.45          No   \n",
       "4   Apple  Ultrabook         8  macOS         1.37      1803.60          No   \n",
       "\n",
       "  Display panel         ppi  Res_value  GHz      Cpu_brand  HDD  SSD  Flash  \\\n",
       "0           IPS  226.983005    4096000  2.3  Intel Core i5    0  128      0   \n",
       "1            TN  127.677940    1296000  1.8  Intel Core i5    0    0    128   \n",
       "2            TN  141.211998    2073600  2.5  Intel Core i5    0  256      0   \n",
       "3           IPS  220.534624    5184000  2.7  Intel Core i7    0  512      0   \n",
       "4           IPS  226.983005    4096000  3.1  Intel Core i5    0  256      0   \n",
       "\n",
       "   Hybrid            Gpu_model  \n",
       "0       0  Intel Iris Graphics  \n",
       "1       0    Intel HD Graphics  \n",
       "2       0    Intel HD Graphics  \n",
       "3       0     Other AMD Radeon  \n",
       "4       0  Intel Iris Graphics  "
      ]
     },
     "execution_count": 157,
     "metadata": {},
     "output_type": "execute_result"
    }
   ],
   "source": [
    "df.head()"
   ]
  },
  {
   "cell_type": "code",
   "execution_count": 158,
   "metadata": {},
   "outputs": [
    {
     "name": "stdout",
     "output_type": "stream",
     "text": [
      "<class 'pandas.core.frame.DataFrame'>\n",
      "RangeIndex: 1303 entries, 0 to 1302\n",
      "Data columns (total 17 columns):\n",
      " #   Column         Non-Null Count  Dtype  \n",
      "---  ------         --------------  -----  \n",
      " 0   Company        1303 non-null   object \n",
      " 1   TypeName       1303 non-null   object \n",
      " 2   Ram (GB)       1303 non-null   int32  \n",
      " 3   OpSys          1303 non-null   object \n",
      " 4   Weight (kg)    1303 non-null   float64\n",
      " 5   Price_euros    1303 non-null   float64\n",
      " 6   TouchScreen    1303 non-null   object \n",
      " 7   Display panel  1303 non-null   object \n",
      " 8   ppi            1303 non-null   float64\n",
      " 9   Res_value      1303 non-null   int32  \n",
      " 10  GHz            1303 non-null   float64\n",
      " 11  Cpu_brand      1303 non-null   object \n",
      " 12  HDD            1303 non-null   int32  \n",
      " 13  SSD            1303 non-null   int32  \n",
      " 14  Flash          1303 non-null   int32  \n",
      " 15  Hybrid         1303 non-null   int32  \n",
      " 16  Gpu_model      1303 non-null   object \n",
      "dtypes: float64(4), int32(6), object(7)\n",
      "memory usage: 142.6+ KB\n"
     ]
    }
   ],
   "source": [
    "df.info()"
   ]
  },
  {
   "cell_type": "markdown",
   "metadata": {},
   "source": [
    "## Model Building"
   ]
  },
  {
   "cell_type": "markdown",
   "metadata": {},
   "source": [
    "### Correlation"
   ]
  },
  {
   "cell_type": "code",
   "execution_count": 159,
   "metadata": {},
   "outputs": [
    {
     "data": {
      "text/plain": [
       "<seaborn.axisgrid.FacetGrid at 0x1486bedc820>"
      ]
     },
     "execution_count": 159,
     "metadata": {},
     "output_type": "execute_result"
    },
    {
     "data": {
      "image/png": "[encoded data removed]",
      "text/plain": [
       "<Figure size 360x360 with 1 Axes>"
      ]
     },
     "metadata": {
      "needs_background": "light"
     },
     "output_type": "display_data"
    }
   ],
   "source": [
    "sn.displot(df['Price_euros'],kind='kde')"
   ]
  },
  {
   "cell_type": "code",
   "execution_count": 160,
   "metadata": {},
   "outputs": [
    {
     "data": {
      "text/plain": [
       "<seaborn.axisgrid.FacetGrid at 0x1486a277d60>"
      ]
     },
     "execution_count": 160,
     "metadata": {},
     "output_type": "execute_result"
    },
    {
     "data": {
      "image/png": "[encoded data removed]",
      "text/plain": [
       "<Figure size 360x360 with 1 Axes>"
      ]
     },
     "metadata": {
      "needs_background": "light"
     },
     "output_type": "display_data"
    }
   ],
   "source": [
    "sn.displot(np.log(df['Price_euros']),kind='kde')"
   ]
  },
  {
   "cell_type": "code",
   "execution_count": 161,
   "metadata": {},
   "outputs": [
    {
     "data": {
      "text/plain": [
       "<AxesSubplot:>"
      ]
     },
     "execution_count": 161,
     "metadata": {},
     "output_type": "execute_result"
    },
    {
     "data": {
      "image/png": "[encoded data removed]",
      "text/plain": [
       "<Figure size 1440x864 with 2 Axes>"
      ]
     },
     "metadata": {
      "needs_background": "light"
     },
     "output_type": "display_data"
    }
   ],
   "source": [
    "df['Price_euros']=df.pop('Price_euros')\n",
    "plt.figure(figsize=(20,12))\n",
    "sn.heatmap(df.corr(),annot=True)"
   ]
  },
  {
   "cell_type": "code",
   "execution_count": 162,
   "metadata": {},
   "outputs": [
    {
     "data": {
      "text/plain": [
       "Price_euros    1.000000\n",
       "Ram (GB)       0.743007\n",
       "SSD            0.676202\n",
       "Res_value      0.508977\n",
       "ppi            0.473927\n",
       "Weight (kg)    0.210370\n",
       "Hybrid         0.007989\n",
       "Flash         -0.040511\n",
       "GHz           -0.053240\n",
       "HDD           -0.095672\n",
       "Name: Price_euros, dtype: float64"
      ]
     },
     "execution_count": 162,
     "metadata": {},
     "output_type": "execute_result"
    }
   ],
   "source": [
    "df.corr()['Price_euros'].sort_values(ascending=False)"
   ]
  },
  {
   "cell_type": "markdown",
   "metadata": {},
   "source": [
    "### Pipeline"
   ]
  },
  {
   "cell_type": "markdown",
   "metadata": {},
   "source": [
    "Now that have prepared our data and hold a better understanding of the dataset. let’s get started with Machine learning modeling! and finding the best algorithm with the best hyperparameters to achieve maximum accuracy"
   ]
  },
  {
   "cell_type": "markdown",
   "metadata": {},
   "source": [
    "let's load the libraries that we will use"
   ]
  },
  {
   "cell_type": "code",
   "execution_count": 163,
   "metadata": {},
   "outputs": [
    {
     "data": {
      "text/html": [
       "<div>\n",
       "<style scoped>\n",
       "    .dataframe tbody tr th:only-of-type {\n",
       "        vertical-align: middle;\n",
       "    }\n",
       "\n",
       "    .dataframe tbody tr th {\n",
       "        vertical-align: top;\n",
       "    }\n",
       "\n",
       "    .dataframe thead th {\n",
       "        text-align: right;\n",
       "    }\n",
       "</style>\n",
       "<table border=\"1\" class=\"dataframe\">\n",
       "  <thead>\n",
       "    <tr style=\"text-align: right;\">\n",
       "      <th></th>\n",
       "      <th>Company</th>\n",
       "      <th>TypeName</th>\n",
       "      <th>Ram (GB)</th>\n",
       "      <th>OpSys</th>\n",
       "      <th>Weight (kg)</th>\n",
       "      <th>TouchScreen</th>\n",
       "      <th>Display panel</th>\n",
       "      <th>ppi</th>\n",
       "      <th>Res_value</th>\n",
       "      <th>GHz</th>\n",
       "      <th>Cpu_brand</th>\n",
       "      <th>HDD</th>\n",
       "      <th>SSD</th>\n",
       "      <th>Flash</th>\n",
       "      <th>Hybrid</th>\n",
       "      <th>Gpu_model</th>\n",
       "      <th>Price_euros</th>\n",
       "    </tr>\n",
       "  </thead>\n",
       "  <tbody>\n",
       "    <tr>\n",
       "      <th>0</th>\n",
       "      <td>Apple</td>\n",
       "      <td>Ultrabook</td>\n",
       "      <td>8</td>\n",
       "      <td>macOS</td>\n",
       "      <td>1.37</td>\n",
       "      <td>No</td>\n",
       "      <td>IPS</td>\n",
       "      <td>226.983005</td>\n",
       "      <td>4096000</td>\n",
       "      <td>2.3</td>\n",
       "      <td>Intel Core i5</td>\n",
       "      <td>0</td>\n",
       "      <td>128</td>\n",
       "      <td>0</td>\n",
       "      <td>0</td>\n",
       "      <td>Intel Iris Graphics</td>\n",
       "      <td>1339.69</td>\n",
       "    </tr>\n",
       "    <tr>\n",
       "      <th>1</th>\n",
       "      <td>Apple</td>\n",
       "      <td>Ultrabook</td>\n",
       "      <td>8</td>\n",
       "      <td>macOS</td>\n",
       "      <td>1.34</td>\n",
       "      <td>No</td>\n",
       "      <td>TN</td>\n",
       "      <td>127.677940</td>\n",
       "      <td>1296000</td>\n",
       "      <td>1.8</td>\n",
       "      <td>Intel Core i5</td>\n",
       "      <td>0</td>\n",
       "      <td>0</td>\n",
       "      <td>128</td>\n",
       "      <td>0</td>\n",
       "      <td>Intel HD Graphics</td>\n",
       "      <td>898.94</td>\n",
       "    </tr>\n",
       "  </tbody>\n",
       "</table>\n",
       "</div>"
      ],
      "text/plain": [
       "  Company   TypeName  Ram (GB)  OpSys  Weight (kg) TouchScreen Display panel  \\\n",
       "0   Apple  Ultrabook         8  macOS         1.37          No           IPS   \n",
       "1   Apple  Ultrabook         8  macOS         1.34          No            TN   \n",
       "\n",
       "          ppi  Res_value  GHz      Cpu_brand  HDD  SSD  Flash  Hybrid  \\\n",
       "0  226.983005    4096000  2.3  Intel Core i5    0  128      0       0   \n",
       "1  127.677940    1296000  1.8  Intel Core i5    0    0    128       0   \n",
       "\n",
       "             Gpu_model  Price_euros  \n",
       "0  Intel Iris Graphics      1339.69  \n",
       "1    Intel HD Graphics       898.94  "
      ]
     },
     "execution_count": 163,
     "metadata": {},
     "output_type": "execute_result"
    }
   ],
   "source": [
    "df.head(2)"
   ]
  },
  {
   "cell_type": "code",
   "execution_count": 164,
   "metadata": {},
   "outputs": [],
   "source": [
    "import sklearn as sl\n",
    "from sklearn.compose import ColumnTransformer,make_column_selector\n",
    "from sklearn.preprocessing import OneHotEncoder\n",
    "from sklearn.preprocessing import StandardScaler\n",
    "from sklearn.pipeline import Pipeline\n",
    "\n",
    "\n",
    "from sklearn.model_selection import train_test_split, GridSearchCV\n",
    "# models\n",
    "from sklearn.linear_model import LinearRegression,Ridge,BayesianRidge,SGDRegressor\n",
    "from lightgbm import LGBMRegressor\n",
    "from xgboost.sklearn import XGBRegressor\n",
    "from catboost import CatBoostRegressor\n",
    "from sklearn.ensemble import GradientBoostingRegressor,RandomForestRegressor,AdaBoostRegressor\n",
    "from sklearn.svm import SVR\n",
    "from sklearn.tree import DecisionTreeRegressor\n",
    "\n",
    "from sklearn.metrics import mean_absolute_error,r2_score,mean_squared_error,max_error\n"
   ]
  },
  {
   "cell_type": "code",
   "execution_count": 165,
   "metadata": {},
   "outputs": [
    {
     "name": "stdout",
     "output_type": "stream",
     "text": [
      "<class 'pandas.core.frame.DataFrame'>\n",
      "RangeIndex: 1303 entries, 0 to 1302\n",
      "Data columns (total 17 columns):\n",
      " #   Column         Non-Null Count  Dtype  \n",
      "---  ------         --------------  -----  \n",
      " 0   Company        1303 non-null   object \n",
      " 1   TypeName       1303 non-null   object \n",
      " 2   Ram (GB)       1303 non-null   int32  \n",
      " 3   OpSys          1303 non-null   object \n",
      " 4   Weight (kg)    1303 non-null   float64\n",
      " 5   TouchScreen    1303 non-null   object \n",
      " 6   Display panel  1303 non-null   object \n",
      " 7   ppi            1303 non-null   float64\n",
      " 8   Res_value      1303 non-null   int32  \n",
      " 9   GHz            1303 non-null   float64\n",
      " 10  Cpu_brand      1303 non-null   object \n",
      " 11  HDD            1303 non-null   int32  \n",
      " 12  SSD            1303 non-null   int32  \n",
      " 13  Flash          1303 non-null   int32  \n",
      " 14  Hybrid         1303 non-null   int32  \n",
      " 15  Gpu_model      1303 non-null   object \n",
      " 16  Price_euros    1303 non-null   float64\n",
      "dtypes: float64(4), int32(6), object(7)\n",
      "memory usage: 142.6+ KB\n"
     ]
    }
   ],
   "source": [
    "df.info()"
   ]
  },
  {
   "cell_type": "code",
   "execution_count": 166,
   "metadata": {},
   "outputs": [],
   "source": [
    "def getName(x):\n",
    "    return re.search(r\"\\w*(?!(?!'>))\",str(x)).group()"
   ]
  },
  {
   "cell_type": "code",
   "execution_count": 167,
   "metadata": {},
   "outputs": [],
   "source": [
    "y=np.log(df['Price_euros'])\n",
    "X=df.loc[:, df.columns != 'Price_euros']\n"
   ]
  },
  {
   "cell_type": "markdown",
   "metadata": {},
   "source": [
    "mapper = {i:value for i,value in enumerate(X_train.columns)}\n",
    "mapper"
   ]
  },
  {
   "cell_type": "markdown",
   "metadata": {},
   "source": [
    "We create the preprocessing pipelines for both numeric and categorical data."
   ]
  },
  {
   "cell_type": "code",
   "execution_count": 168,
   "metadata": {},
   "outputs": [],
   "source": [
    "numerical_features = make_column_selector(dtype_include=np.number)\n",
    "cat_features = make_column_selector(dtype_exclude=np.number)"
   ]
  },
  {
   "cell_type": "code",
   "execution_count": 169,
   "metadata": {},
   "outputs": [],
   "source": [
    "#numeric_features = ['Ram (GB)','Weight (kg)','ppi','Res_value','GHz','HDD','SSD','Flash','Hybrid']\n",
    "numeric_transformer = StandardScaler()\n",
    "\n",
    "#categorical_features = ['Company','TypeName','OpSys','Cpu_brand','Gpu_model']\n",
    "categorical_transformer = OneHotEncoder(sparse=False,drop='first')\n",
    "\n",
    "preprocessor = ColumnTransformer(\n",
    "    transformers=[\n",
    "        (\"num\", numeric_transformer, numerical_features),\n",
    "        (\"cat\", categorical_transformer, cat_features),\n",
    "    ],\n",
    "    remainder='passthrough'\n",
    ")"
   ]
  },
  {
   "cell_type": "code",
   "execution_count": 170,
   "metadata": {},
   "outputs": [],
   "source": [
    "X_train, X_test, y_train, y_test = train_test_split(preprocessor.fit_transform(X),y,test_size=0.15,random_state=2)"
   ]
  },
  {
   "cell_type": "code",
   "execution_count": 171,
   "metadata": {},
   "outputs": [],
   "source": [
    "def Model_pipe(mdl):\n",
    "    return Pipeline(steps=[(\"Reg\", mdl())])"
   ]
  },
  {
   "cell_type": "markdown",
   "metadata": {},
   "source": [
    "After appending a regression model we have a full prediction pipeline."
   ]
  },
  {
   "cell_type": "code",
   "execution_count": 172,
   "metadata": {},
   "outputs": [],
   "source": [
    "models=[LinearRegression,Ridge,SGDRegressor,DecisionTreeRegressor,RandomForestRegressor,GradientBoostingRegressor,\n",
    "        SVR,BayesianRidge,LGBMRegressor,XGBRegressor,AdaBoostRegressor,CatBoostRegressor]"
   ]
  },
  {
   "cell_type": "code",
   "execution_count": 173,
   "metadata": {},
   "outputs": [],
   "source": [
    "def scores(y,y_pred):\n",
    "    print('|            R2 Score: {:.3}%'.format(r2_score(y,y_pred)*100))\n",
    "    print('| Mean Absolute Error: {:.3}'.format(mean_squared_error(y,y_pred)))\n",
    "    print('|           Max Error: {:.3}'.format(max_error(y,y_pred)))"
   ]
  },
  {
   "cell_type": "markdown",
   "metadata": {},
   "source": [
    "### Model parameters"
   ]
  },
  {
   "cell_type": "code",
   "execution_count": 174,
   "metadata": {},
   "outputs": [],
   "source": [
    "params=[]"
   ]
  },
  {
   "cell_type": "code",
   "execution_count": 175,
   "metadata": {},
   "outputs": [],
   "source": [
    "def evaluate(model):\n",
    "    md=Model_pipe(model)\n",
    "    md.fit(X_train,y_train)\n",
    "    print('\\n------ {} ------'.format(getName(model)))\n",
    "    print('+ Training accuracy')\n",
    "    y_pred = md.predict(X_train)\n",
    "    scores(y_train,y_pred)\n",
    "    print('+ Test accuracy')\n",
    "    y_pred = md.predict(X_test)\n",
    "    scores(y_test,y_pred)"
   ]
  },
  {
   "cell_type": "markdown",
   "metadata": {},
   "source": [
    "#### Linear Regression"
   ]
  },
  {
   "cell_type": "markdown",
   "metadata": {},
   "source": [
    "**Ordinary least squares Linear Regression.**\n",
    "\n",
    "$\\mathbf {y}$ is a $n\\times 1$, ($1303\\times 1$ in our case), vectors of the response variables, and ${\\mathrm  {X}}$ is an $n\\times p$, ($1303\\times 16$), matrix of regressors, whose $i$ th row is $\\mathbf {x} _{i}$ and contains the $i-th$ observations on all the explanatory variables. In a linear regression model, the response variable, $y_{i}$, is a linear function of the regressors:\n",
    "$$\n",
    "{\\displaystyle \\mathbf {y} =\\mathrm {X} {\\boldsymbol {\\beta }}+{\\boldsymbol {\\varepsilon }},\\,}\n",
    "$$\n",
    "where ${\\boldsymbol {\\beta }}$ is a $16\\times 1$ vector of unknown parameters and $\\boldsymbol{\\varepsilon}$ is a $1303\\times 1$ vectors of the errors of the $n$ observations.\n",
    "\n",
    "`LinearRegression` fits a linear model with coefficients $ \\boldsymbol {\\beta } = ({\\beta }_1, …, {\\beta }_p) $ to minimize the residual sum of squares between the observed targets in the dataset, and the targets predicted by the linear approximation.\n",
    "$$\n",
    "\\sum _{i=1}^{1303}{\\biggl |}y_{i}-\\sum _{j=1}^{16}X_{ij}\\beta _{j}{\\biggr |}^{2}={\\bigl \\|}\\mathbf {y} -\\mathrm {X} {\\boldsymbol {\\beta }}{\\bigr \\|}^{2}_2.\n",
    "$$"
   ]
  },
  {
   "cell_type": "code",
   "execution_count": 176,
   "metadata": {},
   "outputs": [
    {
     "name": "stdout",
     "output_type": "stream",
     "text": [
      "\n",
      "------ LinearRegression ------\n",
      "+ Training accuracy\n",
      "|            R2 Score: 85.5%\n",
      "| Mean Absolute Error: 0.0565\n",
      "|           Max Error: 1.16\n",
      "+ Test accuracy\n",
      "|            R2 Score: 85.1%\n",
      "| Mean Absolute Error: 0.057\n",
      "|           Max Error: 0.732\n"
     ]
    }
   ],
   "source": [
    "evaluate(LinearRegression)"
   ]
  },
  {
   "cell_type": "markdown",
   "metadata": {},
   "source": [
    "#### GradientBoostingRegressor"
   ]
  },
  {
   "cell_type": "markdown",
   "metadata": {},
   "source": [
    "hel"
   ]
  },
  {
   "cell_type": "code",
   "execution_count": 177,
   "metadata": {},
   "outputs": [
    {
     "name": "stdout",
     "output_type": "stream",
     "text": [
      "\n",
      "------ GradientBoostingRegressor ------\n",
      "+ Training accuracy\n",
      "|            R2 Score: 91.6%\n",
      "| Mean Absolute Error: 0.0326\n",
      "|           Max Error: 0.736\n",
      "+ Test accuracy\n",
      "|            R2 Score: 88.8%\n",
      "| Mean Absolute Error: 0.0427\n",
      "|           Max Error: 0.549\n"
     ]
    }
   ],
   "source": [
    "evaluate(GradientBoostingRegressor)"
   ]
  },
  {
   "cell_type": "code",
   "execution_count": 178,
   "metadata": {},
   "outputs": [],
   "source": [
    "GBR = Model_pipe(GradientBoostingRegressor)"
   ]
  },
  {
   "cell_type": "code",
   "execution_count": 179,
   "metadata": {},
   "outputs": [],
   "source": [
    "param_GBR = {\n",
    "    'Reg__learning_rate': [0.01,0.02,0.03,0.04],\n",
    "    'Reg__subsample'    : [0.9, 0.5, 0.2, 0.1],\n",
    "    'Reg__n_estimators' : [100,500,1000, 1500],\n",
    "    'Reg__max_depth'    : [2,4,6,8,10],\n",
    "    'Reg' : [GradientBoostingRegressor()]\n",
    "}"
   ]
  },
  {
   "cell_type": "code",
   "execution_count": 180,
   "metadata": {},
   "outputs": [],
   "source": [
    "param_GBR_t = {\n",
    "    'learning_rate': [0.01,0.02,0.03,0.04],\n",
    "    'subsample'    : [0.9, 0.5, 0.2, 0.1],\n",
    "    'n_estimators' : [100,500,1000, 1500],\n",
    "    'max_depth'    : [2,4,6,8,10],\n",
    "}"
   ]
  },
  {
   "cell_type": "code",
   "execution_count": 183,
   "metadata": {},
   "outputs": [],
   "source": [
    "grid_GBR = GridSearchCV(GBR,param_GBR,n_jobs=60,error_score='raise')\n"
   ]
  },
  {
   "cell_type": "code",
   "execution_count": 184,
   "metadata": {},
   "outputs": [
    {
     "data": {
      "text/html": [
       "<style>#sk-container-id-2 {color: black;background-color: white;}#sk-container-id-2 pre{padding: 0;}#sk-container-id-2 div.sk-toggleable {background-color: white;}#sk-container-id-2 label.sk-toggleable__label {cursor: pointer;display: block;width: 100%;margin-bottom: 0;padding: 0.3em;box-sizing: border-box;text-align: center;}#sk-container-id-2 label.sk-toggleable__label-arrow:before {content: \"▸\";float: left;margin-right: 0.25em;color: #696969;}#sk-container-id-2 label.sk-toggleable__label-arrow:hover:before {color: black;}#sk-container-id-2 div.sk-estimator:hover label.sk-toggleable__label-arrow:before {color: black;}#sk-container-id-2 div.sk-toggleable__content {max-height: 0;max-width: 0;overflow: hidden;text-align: left;background-color: #f0f8ff;}#sk-container-id-2 div.sk-toggleable__content pre {margin: 0.2em;color: black;border-radius: 0.25em;background-color: #f0f8ff;}#sk-container-id-2 input.sk-toggleable__control:checked~div.sk-toggleable__content {max-height: 200px;max-width: 100%;overflow: auto;}#sk-container-id-2 input.sk-toggleable__control:checked~label.sk-toggleable__label-arrow:before {content: \"▾\";}#sk-container-id-2 div.sk-estimator input.sk-toggleable__control:checked~label.sk-toggleable__label {background-color: #d4ebff;}#sk-container-id-2 div.sk-label input.sk-toggleable__control:checked~label.sk-toggleable__label {background-color: #d4ebff;}#sk-container-id-2 input.sk-hidden--visually {border: 0;clip: rect(1px 1px 1px 1px);clip: rect(1px, 1px, 1px, 1px);height: 1px;margin: -1px;overflow: hidden;padding: 0;position: absolute;width: 1px;}#sk-container-id-2 div.sk-estimator {font-family: monospace;background-color: #f0f8ff;border: 1px dotted black;border-radius: 0.25em;box-sizing: border-box;margin-bottom: 0.5em;}#sk-container-id-2 div.sk-estimator:hover {background-color: #d4ebff;}#sk-container-id-2 div.sk-parallel-item::after {content: \"\";width: 100%;border-bottom: 1px solid gray;flex-grow: 1;}#sk-container-id-2 div.sk-label:hover label.sk-toggleable__label {background-color: #d4ebff;}#sk-container-id-2 div.sk-serial::before {content: \"\";position: absolute;border-left: 1px solid gray;box-sizing: border-box;top: 0;bottom: 0;left: 50%;z-index: 0;}#sk-container-id-2 div.sk-serial {display: flex;flex-direction: column;align-items: center;background-color: white;padding-right: 0.2em;padding-left: 0.2em;position: relative;}#sk-container-id-2 div.sk-item {position: relative;z-index: 1;}#sk-container-id-2 div.sk-parallel {display: flex;align-items: stretch;justify-content: center;background-color: white;position: relative;}#sk-container-id-2 div.sk-item::before, #sk-container-id-2 div.sk-parallel-item::before {content: \"\";position: absolute;border-left: 1px solid gray;box-sizing: border-box;top: 0;bottom: 0;left: 50%;z-index: -1;}#sk-container-id-2 div.sk-parallel-item {display: flex;flex-direction: column;z-index: 1;position: relative;background-color: white;}#sk-container-id-2 div.sk-parallel-item:first-child::after {align-self: flex-end;width: 50%;}#sk-container-id-2 div.sk-parallel-item:last-child::after {align-self: flex-start;width: 50%;}#sk-container-id-2 div.sk-parallel-item:only-child::after {width: 0;}#sk-container-id-2 div.sk-dashed-wrapped {border: 1px dashed gray;margin: 0 0.4em 0.5em 0.4em;box-sizing: border-box;padding-bottom: 0.4em;background-color: white;}#sk-container-id-2 div.sk-label label {font-family: monospace;font-weight: bold;display: inline-block;line-height: 1.2em;}#sk-container-id-2 div.sk-label-container {text-align: center;}#sk-container-id-2 div.sk-container {/* jupyter's `normalize.less` sets `[hidden] { display: none; }` but bootstrap.min.css set `[hidden] { display: none !important; }` so we also need the `!important` here to be able to override the default hidden behavior on the sphinx rendered scikit-learn.org. See: https://github.com/scikit-learn/scikit-learn/issues/21755 */display: inline-block !important;position: relative;}#sk-container-id-2 div.sk-text-repr-fallback {display: none;}</style><div id=\"sk-container-id-2\" class=\"sk-top-container\"><div class=\"sk-text-repr-fallback\"><pre>GridSearchCV(error_score=&#x27;raise&#x27;,\n",
       "             estimator=Pipeline(steps=[(&#x27;Reg&#x27;, GradientBoostingRegressor())]),\n",
       "             n_jobs=60,\n",
       "             param_grid={&#x27;Reg&#x27;: [GradientBoostingRegressor(learning_rate=0.01,\n",
       "                                                           max_depth=8,\n",
       "                                                           n_estimators=1500,\n",
       "                                                           subsample=0.1)],\n",
       "                         &#x27;Reg__learning_rate&#x27;: [0.01, 0.02, 0.03, 0.04],\n",
       "                         &#x27;Reg__max_depth&#x27;: [2, 4, 6, 8, 10],\n",
       "                         &#x27;Reg__n_estimators&#x27;: [100, 500, 1000, 1500],\n",
       "                         &#x27;Reg__subsample&#x27;: [0.9, 0.5, 0.2, 0.1]})</pre><b>In a Jupyter environment, please rerun this cell to show the HTML representation or trust the notebook. <br />On GitHub, the HTML representation is unable to render, please try loading this page with nbviewer.org.</b></div><div class=\"sk-container\" hidden><div class=\"sk-item sk-dashed-wrapped\"><div class=\"sk-label-container\"><div class=\"sk-label sk-toggleable\"><input class=\"sk-toggleable__control sk-hidden--visually\" id=\"sk-estimator-id-4\" type=\"checkbox\" ><label for=\"sk-estimator-id-4\" class=\"sk-toggleable__label sk-toggleable__label-arrow\">GridSearchCV</label><div class=\"sk-toggleable__content\"><pre>GridSearchCV(error_score=&#x27;raise&#x27;,\n",
       "             estimator=Pipeline(steps=[(&#x27;Reg&#x27;, GradientBoostingRegressor())]),\n",
       "             n_jobs=60,\n",
       "             param_grid={&#x27;Reg&#x27;: [GradientBoostingRegressor(learning_rate=0.01,\n",
       "                                                           max_depth=8,\n",
       "                                                           n_estimators=1500,\n",
       "                                                           subsample=0.1)],\n",
       "                         &#x27;Reg__learning_rate&#x27;: [0.01, 0.02, 0.03, 0.04],\n",
       "                         &#x27;Reg__max_depth&#x27;: [2, 4, 6, 8, 10],\n",
       "                         &#x27;Reg__n_estimators&#x27;: [100, 500, 1000, 1500],\n",
       "                         &#x27;Reg__subsample&#x27;: [0.9, 0.5, 0.2, 0.1]})</pre></div></div></div><div class=\"sk-parallel\"><div class=\"sk-parallel-item\"><div class=\"sk-item\"><div class=\"sk-label-container\"><div class=\"sk-label sk-toggleable\"><input class=\"sk-toggleable__control sk-hidden--visually\" id=\"sk-estimator-id-5\" type=\"checkbox\" ><label for=\"sk-estimator-id-5\" class=\"sk-toggleable__label sk-toggleable__label-arrow\">estimator: Pipeline</label><div class=\"sk-toggleable__content\"><pre>Pipeline(steps=[(&#x27;Reg&#x27;, GradientBoostingRegressor())])</pre></div></div></div><div class=\"sk-serial\"><div class=\"sk-item\"><div class=\"sk-serial\"><div class=\"sk-item\"><div class=\"sk-estimator sk-toggleable\"><input class=\"sk-toggleable__control sk-hidden--visually\" id=\"sk-estimator-id-6\" type=\"checkbox\" ><label for=\"sk-estimator-id-6\" class=\"sk-toggleable__label sk-toggleable__label-arrow\">GradientBoostingRegressor</label><div class=\"sk-toggleable__content\"><pre>GradientBoostingRegressor()</pre></div></div></div></div></div></div></div></div></div></div></div></div>"
      ],
      "text/plain": [
       "GridSearchCV(error_score='raise',\n",
       "             estimator=Pipeline(steps=[('Reg', GradientBoostingRegressor())]),\n",
       "             n_jobs=60,\n",
       "             param_grid={'Reg': [GradientBoostingRegressor(learning_rate=0.01,\n",
       "                                                           max_depth=8,\n",
       "                                                           n_estimators=1500,\n",
       "                                                           subsample=0.1)],\n",
       "                         'Reg__learning_rate': [0.01, 0.02, 0.03, 0.04],\n",
       "                         'Reg__max_depth': [2, 4, 6, 8, 10],\n",
       "                         'Reg__n_estimators': [100, 500, 1000, 1500],\n",
       "                         'Reg__subsample': [0.9, 0.5, 0.2, 0.1]})"
      ]
     },
     "execution_count": 184,
     "metadata": {},
     "output_type": "execute_result"
    }
   ],
   "source": [
    "grid_GBR.fit(X_train, y_train)"
   ]
  },
  {
   "cell_type": "code",
   "execution_count": 95,
   "metadata": {},
   "outputs": [
    {
     "data": {
      "text/plain": [
       "{'memory': None,\n",
       " 'steps': [('preprocessor',\n",
       "   ColumnTransformer(transformers=[('num', StandardScaler(),\n",
       "                                    <sklearn.compose._column_transformer.make_column_selector object at 0x00000148601AC790>),\n",
       "                                   ('cat',\n",
       "                                    OneHotEncoder(drop='first', sparse=False),\n",
       "                                    <sklearn.compose._column_transformer.make_column_selector object at 0x0000014860B82190>)])),\n",
       "  ('Reg', GradientBoostingRegressor())],\n",
       " 'verbose': False,\n",
       " 'preprocessor': ColumnTransformer(transformers=[('num', StandardScaler(),\n",
       "                                  <sklearn.compose._column_transformer.make_column_selector object at 0x00000148601AC790>),\n",
       "                                 ('cat',\n",
       "                                  OneHotEncoder(drop='first', sparse=False),\n",
       "                                  <sklearn.compose._column_transformer.make_column_selector object at 0x0000014860B82190>)]),\n",
       " 'Reg': GradientBoostingRegressor(),\n",
       " 'preprocessor__n_jobs': None,\n",
       " 'preprocessor__remainder': 'drop',\n",
       " 'preprocessor__sparse_threshold': 0.3,\n",
       " 'preprocessor__transformer_weights': None,\n",
       " 'preprocessor__transformers': [('num',\n",
       "   StandardScaler(),\n",
       "   <sklearn.compose._column_transformer.make_column_selector at 0x148601ac790>),\n",
       "  ('cat',\n",
       "   OneHotEncoder(drop='first', sparse=False),\n",
       "   <sklearn.compose._column_transformer.make_column_selector at 0x14860b82190>)],\n",
       " 'preprocessor__verbose': False,\n",
       " 'preprocessor__verbose_feature_names_out': True,\n",
       " 'preprocessor__num': StandardScaler(),\n",
       " 'preprocessor__cat': OneHotEncoder(drop='first', sparse=False),\n",
       " 'preprocessor__num__copy': True,\n",
       " 'preprocessor__num__with_mean': True,\n",
       " 'preprocessor__num__with_std': True,\n",
       " 'preprocessor__cat__categories': 'auto',\n",
       " 'preprocessor__cat__drop': 'first',\n",
       " 'preprocessor__cat__dtype': numpy.float64,\n",
       " 'preprocessor__cat__handle_unknown': 'error',\n",
       " 'preprocessor__cat__max_categories': None,\n",
       " 'preprocessor__cat__min_frequency': None,\n",
       " 'preprocessor__cat__sparse': False,\n",
       " 'Reg__alpha': 0.9,\n",
       " 'Reg__ccp_alpha': 0.0,\n",
       " 'Reg__criterion': 'friedman_mse',\n",
       " 'Reg__init': None,\n",
       " 'Reg__learning_rate': 0.1,\n",
       " 'Reg__loss': 'squared_error',\n",
       " 'Reg__max_depth': 3,\n",
       " 'Reg__max_features': None,\n",
       " 'Reg__max_leaf_nodes': None,\n",
       " 'Reg__min_impurity_decrease': 0.0,\n",
       " 'Reg__min_samples_leaf': 1,\n",
       " 'Reg__min_samples_split': 2,\n",
       " 'Reg__min_weight_fraction_leaf': 0.0,\n",
       " 'Reg__n_estimators': 100,\n",
       " 'Reg__n_iter_no_change': None,\n",
       " 'Reg__random_state': None,\n",
       " 'Reg__subsample': 1.0,\n",
       " 'Reg__tol': 0.0001,\n",
       " 'Reg__validation_fraction': 0.1,\n",
       " 'Reg__verbose': 0,\n",
       " 'Reg__warm_start': False}"
      ]
     },
     "execution_count": 95,
     "metadata": {},
     "output_type": "execute_result"
    }
   ],
   "source": [
    "GBR.get_params()"
   ]
  },
  {
   "cell_type": "code",
   "execution_count": 89,
   "metadata": {},
   "outputs": [
    {
     "name": "stdout",
     "output_type": "stream",
     "text": [
      "Best parameter (CV score=0.905):\n",
      "{'learning_rate': 0.01, 'max_depth': 10, 'n_estimators': 1000, 'subsample': 0.1}\n"
     ]
    }
   ],
   "source": [
    "print(\"Best parameter (CV score=%0.3f):\" % grid_GBR.best_score_)\n",
    "print(grid_GBR.best_params_)"
   ]
  },
  {
   "cell_type": "markdown",
   "metadata": {},
   "source": [
    "Best parameter (CV score=0.903):\n",
    "{'learning_rate': 0.01, 'max_depth': 10, 'n_estimators': 1000, 'subsample': 0.2}"
   ]
  },
  {
   "cell_type": "code",
   "execution_count": 185,
   "metadata": {},
   "outputs": [
    {
     "name": "stdout",
     "output_type": "stream",
     "text": [
      "+ Training accuracy\n",
      "|            R2 Score: 97.2%\n",
      "| Mean Absolute Error: 0.0109\n",
      "|           Max Error: 0.379\n",
      "+ Test accuracy\n",
      "|            R2 Score: 91.4%\n",
      "| Mean Absolute Error: 0.0327\n",
      "|           Max Error: 0.571\n"
     ]
    }
   ],
   "source": [
    "print('+ Training accuracy')\n",
    "y_pred = grid_GBR.predict(X_train)\n",
    "scores(y_train,y_pred)\n",
    "print('+ Test accuracy')\n",
    "y_pred = grid_GBR.predict(X_test)\n",
    "scores(y_test,y_pred)"
   ]
  },
  {
   "cell_type": "markdown",
   "metadata": {},
   "source": [
    "#### SGDRegressor"
   ]
  },
  {
   "cell_type": "markdown",
   "metadata": {},
   "source": [
    "**SGD** stands for Stochastic Gradient Descent: the gradient of the loss is estimated each sample at a time and the model is updated along the way with a decreasing strength schedule (aka learning rate).\n",
    "\n",
    "The regularizer is a penalty added to the loss function that shrinks model parameters towards the zero vector using either the squared euclidean norm L2 or the absolute norm L1 or a combination of both (Elastic Net). If the parameter update crosses the 0.0 value because of the regularizer, the update is truncated to 0.0 to allow for learning sparse models and achieve online feature selection."
   ]
  },
  {
   "cell_type": "code",
   "execution_count": null,
   "metadata": {},
   "outputs": [],
   "source": [
    "SGDRegressor().get_params()"
   ]
  },
  {
   "cell_type": "code",
   "execution_count": null,
   "metadata": {},
   "outputs": [],
   "source": [
    "param_SGDR = {\n",
    "    'Regressor__loss': ['squared_error', 'huber', 'epsilon_insensitive','squared_epsilon_insensitive'],\n",
    "    'Regressor__penalty': ['elasticnet'],\n",
    "    'Regressor__alpha': 10.0 ** -np.arange(1, 7),\n",
    "    'Regressor__l1_ratio': [*np.arange(0,1,.01)] ,\n",
    "    'Regressor__learning_rate': ['constant', 'optimal', 'invscaling'],\n",
    "    'Regressor' : [SGDRegressor()]\n",
    "}\n"
   ]
  },
  {
   "cell_type": "code",
   "execution_count": null,
   "metadata": {},
   "outputs": [],
   "source": [
    "params.append(param_SGDR)"
   ]
  },
  {
   "cell_type": "code",
   "execution_count": null,
   "metadata": {},
   "outputs": [],
   "source": [
    "pipe=Pipeline(steps=[(\"preprocessor\", preprocessor), (\"Regressor\", SGDRegressor())])\n",
    "reg = GridSearchCV(pipe, param_SGDR,scoring='r2')"
   ]
  },
  {
   "cell_type": "code",
   "execution_count": null,
   "metadata": {},
   "outputs": [],
   "source": [
    "reg.fit(X_train, y_train)"
   ]
  },
  {
   "cell_type": "markdown",
   "metadata": {},
   "source": []
  },
  {
   "cell_type": "markdown",
   "metadata": {},
   "source": [
    "This model doesn't have Hyperparameters to tune."
   ]
  },
  {
   "cell_type": "markdown",
   "metadata": {},
   "source": [
    "#### Support vector machines"
   ]
  },
  {
   "cell_type": "code",
   "execution_count": null,
   "metadata": {},
   "outputs": [],
   "source": [
    "SVM_regression=Model_pipe(SVR)"
   ]
  },
  {
   "cell_type": "code",
   "execution_count": null,
   "metadata": {},
   "outputs": [],
   "source": [
    "SVM_regression.fit(X_train,y_train)"
   ]
  },
  {
   "cell_type": "markdown",
   "metadata": {},
   "source": [
    "#### Decision Tree"
   ]
  },
  {
   "cell_type": "code",
   "execution_count": null,
   "metadata": {},
   "outputs": [],
   "source": [
    "DecisionTree_regression=Model_pipe(DecisionTreeRegressor)"
   ]
  },
  {
   "cell_type": "code",
   "execution_count": null,
   "metadata": {},
   "outputs": [],
   "source": [
    "DecisionTree_regression.fit(X_train,y_train)"
   ]
  },
  {
   "cell_type": "markdown",
   "metadata": {},
   "source": [
    "#### Random Forest"
   ]
  },
  {
   "cell_type": "code",
   "execution_count": null,
   "metadata": {},
   "outputs": [],
   "source": [
    "RandomForest_regression=Model_pipe(Ridge)"
   ]
  },
  {
   "cell_type": "code",
   "execution_count": null,
   "metadata": {},
   "outputs": [],
   "source": [
    "RandomForest_regression.fit(X_train,y_train)"
   ]
  },
  {
   "cell_type": "markdown",
   "metadata": {},
   "source": [
    "### Performance\n"
   ]
  },
  {
   "cell_type": "markdown",
   "metadata": {},
   "source": [
    "the next step is to know how well our models performes for making predictions on the unknown test set. There are various metrics to check that. However, mean absolute error, mean squared error, and root mean squared error are three of the most common metrics."
   ]
  },
  {
   "cell_type": "code",
   "execution_count": 186,
   "metadata": {},
   "outputs": [
    {
     "ename": "AttributeError",
     "evalue": "'NoneType' object has no attribute 'group'",
     "output_type": "error",
     "traceback": [
      "\u001b[1;31m---------------------------------------------------------------------------\u001b[0m",
      "\u001b[1;31mAttributeError\u001b[0m                            Traceback (most recent call last)",
      "\u001b[1;32mc:\\Users\\amine\\OneDrive\\Documents\\GitHub\\Laptop_Price_predection\\LPP.ipynb Cell 176\u001b[0m in \u001b[0;36m<cell line: 3>\u001b[1;34m()\u001b[0m\n\u001b[0;32m      <a href='vscode-notebook-cell:/c%3A/Users/amine/OneDrive/Documents/GitHub/Laptop_Price_predection/LPP.ipynb#ch0000175?line=0'>1</a>\u001b[0m md\u001b[39m=\u001b[39mModel_pipe(LinearRegression)\n\u001b[0;32m      <a href='vscode-notebook-cell:/c%3A/Users/amine/OneDrive/Documents/GitHub/Laptop_Price_predection/LPP.ipynb#ch0000175?line=1'>2</a>\u001b[0m md\u001b[39m.\u001b[39mfit(X_train,y_train)\n\u001b[1;32m----> <a href='vscode-notebook-cell:/c%3A/Users/amine/OneDrive/Documents/GitHub/Laptop_Price_predection/LPP.ipynb#ch0000175?line=2'>3</a>\u001b[0m \u001b[39mprint\u001b[39m(\u001b[39m'\u001b[39m\u001b[39m\\n\u001b[39;00m\u001b[39m------ \u001b[39m\u001b[39m{}\u001b[39;00m\u001b[39m ------\u001b[39m\u001b[39m'\u001b[39m\u001b[39m.\u001b[39mformat(getName(md)))\n",
      "\u001b[1;32mc:\\Users\\amine\\OneDrive\\Documents\\GitHub\\Laptop_Price_predection\\LPP.ipynb Cell 176\u001b[0m in \u001b[0;36mgetName\u001b[1;34m(x)\u001b[0m\n\u001b[0;32m      <a href='vscode-notebook-cell:/c%3A/Users/amine/OneDrive/Documents/GitHub/Laptop_Price_predection/LPP.ipynb#ch0000175?line=0'>1</a>\u001b[0m \u001b[39mdef\u001b[39;00m \u001b[39mgetName\u001b[39m(x):\n\u001b[1;32m----> <a href='vscode-notebook-cell:/c%3A/Users/amine/OneDrive/Documents/GitHub/Laptop_Price_predection/LPP.ipynb#ch0000175?line=1'>2</a>\u001b[0m     \u001b[39mreturn\u001b[39;00m re\u001b[39m.\u001b[39;49msearch(\u001b[39mr\u001b[39;49m\u001b[39m\"\u001b[39;49m\u001b[39m\\\u001b[39;49m\u001b[39mw*(?!(?!\u001b[39;49m\u001b[39m'\u001b[39;49m\u001b[39m>))\u001b[39;49m\u001b[39m\"\u001b[39;49m,\u001b[39mstr\u001b[39;49m(x))\u001b[39m.\u001b[39;49mgroup()\n",
      "\u001b[1;31mAttributeError\u001b[0m: 'NoneType' object has no attribute 'group'"
     ]
    }
   ],
   "source": [
    "md=Model_pipe(LinearRegression)\n",
    "md.fit(X_train,y_train)\n",
    "print('\\n------ {} ------'.format(getName(md)))"
   ]
  },
  {
   "cell_type": "code",
   "execution_count": 187,
   "metadata": {},
   "outputs": [
    {
     "name": "stdout",
     "output_type": "stream",
     "text": [
      "\n",
      " evaluating 12 models\n",
      "\n",
      "------ LinearRegression ------\n",
      "+ Training accuracy\n",
      "|            R2 Score: 85.5%\n",
      "| Mean Absolute Error: 0.0565\n",
      "|           Max Error: 1.16\n",
      "+ Test accuracy\n",
      "|            R2 Score: 85.1%\n",
      "| Mean Absolute Error: 0.057\n",
      "|           Max Error: 0.732\n",
      "\n",
      "------ Ridge ------\n",
      "+ Training accuracy\n",
      "|            R2 Score: 85.3%\n",
      "| Mean Absolute Error: 0.0572\n",
      "|           Max Error: 1.15\n",
      "+ Test accuracy\n",
      "|            R2 Score: 85.5%\n",
      "| Mean Absolute Error: 0.0555\n",
      "|           Max Error: 0.737\n",
      "\n",
      "------ SGDRegressor ------\n",
      "+ Training accuracy\n",
      "|            R2 Score: 73.9%\n",
      "| Mean Absolute Error: 0.102\n",
      "|           Max Error: 1.41\n",
      "+ Test accuracy\n",
      "|            R2 Score: 75.0%\n",
      "| Mean Absolute Error: 0.0953\n",
      "|           Max Error: 0.998\n",
      "\n",
      "------ DecisionTreeRegressor ------\n",
      "+ Training accuracy\n",
      "|            R2 Score: 99.8%\n",
      "| Mean Absolute Error: 0.000847\n",
      "|           Max Error: 0.272\n",
      "+ Test accuracy\n",
      "|            R2 Score: 80.6%\n",
      "| Mean Absolute Error: 0.0742\n",
      "|           Max Error: 1.19\n",
      "\n",
      "------ RandomForestRegressor ------\n",
      "+ Training accuracy\n",
      "|            R2 Score: 98.2%\n",
      "| Mean Absolute Error: 0.00695\n",
      "|           Max Error: 0.382\n",
      "+ Test accuracy\n",
      "|            R2 Score: 89.6%\n",
      "| Mean Absolute Error: 0.0397\n",
      "|           Max Error: 0.755\n",
      "\n",
      "------ GradientBoostingRegressor ------\n",
      "+ Training accuracy\n",
      "|            R2 Score: 91.6%\n",
      "| Mean Absolute Error: 0.0326\n",
      "|           Max Error: 0.736\n",
      "+ Test accuracy\n",
      "|            R2 Score: 88.8%\n",
      "| Mean Absolute Error: 0.0427\n",
      "|           Max Error: 0.549\n",
      "\n",
      "------ SVR ------\n",
      "+ Training accuracy\n",
      "|            R2 Score: 93.4%\n",
      "| Mean Absolute Error: 0.0257\n",
      "|           Max Error: 0.645\n",
      "+ Test accuracy\n",
      "|            R2 Score: 88.2%\n",
      "| Mean Absolute Error: 0.0449\n",
      "|           Max Error: 1.14\n",
      "\n",
      "------ BayesianRidge ------\n",
      "+ Training accuracy\n",
      "|            R2 Score: 85.2%\n",
      "| Mean Absolute Error: 0.0575\n",
      "|           Max Error: 1.15\n",
      "+ Test accuracy\n",
      "|            R2 Score: 85.5%\n",
      "| Mean Absolute Error: 0.0555\n",
      "|           Max Error: 0.738\n",
      "\n",
      "------ LGBMRegressor ------\n",
      "+ Training accuracy\n",
      "|            R2 Score: 96.5%\n",
      "| Mean Absolute Error: 0.0137\n",
      "|           Max Error: 0.537\n",
      "+ Test accuracy\n",
      "|            R2 Score: 91.6%\n",
      "| Mean Absolute Error: 0.032\n",
      "|           Max Error: 0.566\n",
      "\n",
      "------ XGBRegressor ------\n",
      "+ Training accuracy\n",
      "|            R2 Score: 99.0%\n",
      "| Mean Absolute Error: 0.00396\n",
      "|           Max Error: 0.301\n",
      "+ Test accuracy\n",
      "|            R2 Score: 91.3%\n",
      "| Mean Absolute Error: 0.033\n",
      "|           Max Error: 0.53\n",
      "\n",
      "------ AdaBoostRegressor ------\n",
      "+ Training accuracy\n",
      "|            R2 Score: 82.7%\n",
      "| Mean Absolute Error: 0.0674\n",
      "|           Max Error: 0.702\n",
      "+ Test accuracy\n",
      "|            R2 Score: 82.3%\n",
      "| Mean Absolute Error: 0.0677\n",
      "|           Max Error: 0.592\n",
      "Learning rate set to 0.041606\n",
      "0:\tlearn: 0.6064657\ttotal: 158ms\tremaining: 2m 37s\n",
      "1:\tlearn: 0.5906092\ttotal: 160ms\tremaining: 1m 19s\n",
      "2:\tlearn: 0.5743812\ttotal: 162ms\tremaining: 53.8s\n",
      "3:\tlearn: 0.5599455\ttotal: 163ms\tremaining: 40.7s\n",
      "4:\tlearn: 0.5465449\ttotal: 165ms\tremaining: 32.8s\n",
      "5:\tlearn: 0.5329086\ttotal: 167ms\tremaining: 27.6s\n",
      "6:\tlearn: 0.5188722\ttotal: 168ms\tremaining: 23.9s\n",
      "7:\tlearn: 0.5067457\ttotal: 172ms\tremaining: 21.3s\n",
      "8:\tlearn: 0.4941419\ttotal: 174ms\tremaining: 19.2s\n",
      "9:\tlearn: 0.4814905\ttotal: 176ms\tremaining: 17.4s\n",
      "10:\tlearn: 0.4697995\ttotal: 177ms\tremaining: 16s\n",
      "11:\tlearn: 0.4599337\ttotal: 179ms\tremaining: 14.8s\n",
      "12:\tlearn: 0.4504757\ttotal: 181ms\tremaining: 13.7s\n",
      "13:\tlearn: 0.4412639\ttotal: 182ms\tremaining: 12.8s\n",
      "14:\tlearn: 0.4317937\ttotal: 184ms\tremaining: 12.1s\n",
      "15:\tlearn: 0.4228464\ttotal: 186ms\tremaining: 11.4s\n",
      "16:\tlearn: 0.4141191\ttotal: 188ms\tremaining: 10.9s\n",
      "17:\tlearn: 0.4056637\ttotal: 190ms\tremaining: 10.3s\n",
      "18:\tlearn: 0.3982914\ttotal: 191ms\tremaining: 9.88s\n",
      "19:\tlearn: 0.3910449\ttotal: 193ms\tremaining: 9.45s\n",
      "20:\tlearn: 0.3838815\ttotal: 194ms\tremaining: 9.07s\n",
      "21:\tlearn: 0.3770125\ttotal: 196ms\tremaining: 8.72s\n",
      "22:\tlearn: 0.3708416\ttotal: 198ms\tremaining: 8.42s\n",
      "23:\tlearn: 0.3650611\ttotal: 200ms\tremaining: 8.14s\n",
      "24:\tlearn: 0.3587434\ttotal: 202ms\tremaining: 7.88s\n",
      "25:\tlearn: 0.3529339\ttotal: 204ms\tremaining: 7.63s\n",
      "26:\tlearn: 0.3474757\ttotal: 205ms\tremaining: 7.39s\n",
      "27:\tlearn: 0.3427761\ttotal: 207ms\tremaining: 7.17s\n",
      "28:\tlearn: 0.3375324\ttotal: 208ms\tremaining: 6.97s\n",
      "29:\tlearn: 0.3332928\ttotal: 210ms\tremaining: 6.78s\n",
      "30:\tlearn: 0.3285719\ttotal: 211ms\tremaining: 6.61s\n",
      "31:\tlearn: 0.3236756\ttotal: 213ms\tremaining: 6.45s\n",
      "32:\tlearn: 0.3193196\ttotal: 215ms\tremaining: 6.3s\n",
      "33:\tlearn: 0.3153489\ttotal: 216ms\tremaining: 6.15s\n",
      "34:\tlearn: 0.3116839\ttotal: 218ms\tremaining: 6.01s\n",
      "35:\tlearn: 0.3075963\ttotal: 221ms\tremaining: 5.91s\n",
      "36:\tlearn: 0.3036296\ttotal: 222ms\tremaining: 5.78s\n",
      "37:\tlearn: 0.3006825\ttotal: 224ms\tremaining: 5.67s\n",
      "38:\tlearn: 0.2974301\ttotal: 226ms\tremaining: 5.56s\n",
      "39:\tlearn: 0.2940574\ttotal: 228ms\tremaining: 5.47s\n",
      "40:\tlearn: 0.2910530\ttotal: 230ms\tremaining: 5.37s\n",
      "41:\tlearn: 0.2891121\ttotal: 231ms\tremaining: 5.26s\n",
      "42:\tlearn: 0.2865788\ttotal: 232ms\tremaining: 5.17s\n",
      "43:\tlearn: 0.2841486\ttotal: 234ms\tremaining: 5.09s\n",
      "44:\tlearn: 0.2812263\ttotal: 236ms\tremaining: 5s\n",
      "45:\tlearn: 0.2784843\ttotal: 237ms\tremaining: 4.92s\n",
      "46:\tlearn: 0.2761554\ttotal: 239ms\tremaining: 4.85s\n",
      "47:\tlearn: 0.2739286\ttotal: 242ms\tremaining: 4.79s\n",
      "48:\tlearn: 0.2714521\ttotal: 243ms\tremaining: 4.72s\n",
      "49:\tlearn: 0.2696510\ttotal: 245ms\tremaining: 4.66s\n",
      "50:\tlearn: 0.2680035\ttotal: 247ms\tremaining: 4.6s\n",
      "51:\tlearn: 0.2662574\ttotal: 249ms\tremaining: 4.53s\n",
      "52:\tlearn: 0.2641395\ttotal: 250ms\tremaining: 4.47s\n",
      "53:\tlearn: 0.2623237\ttotal: 252ms\tremaining: 4.42s\n",
      "54:\tlearn: 0.2606821\ttotal: 254ms\tremaining: 4.36s\n",
      "55:\tlearn: 0.2590917\ttotal: 256ms\tremaining: 4.31s\n",
      "56:\tlearn: 0.2575219\ttotal: 257ms\tremaining: 4.26s\n",
      "57:\tlearn: 0.2556868\ttotal: 259ms\tremaining: 4.21s\n",
      "58:\tlearn: 0.2541504\ttotal: 261ms\tremaining: 4.16s\n",
      "59:\tlearn: 0.2525188\ttotal: 263ms\tremaining: 4.11s\n",
      "60:\tlearn: 0.2512185\ttotal: 264ms\tremaining: 4.07s\n",
      "61:\tlearn: 0.2499528\ttotal: 266ms\tremaining: 4.02s\n",
      "62:\tlearn: 0.2486733\ttotal: 268ms\tremaining: 3.98s\n",
      "63:\tlearn: 0.2473278\ttotal: 269ms\tremaining: 3.94s\n",
      "64:\tlearn: 0.2462629\ttotal: 271ms\tremaining: 3.9s\n",
      "65:\tlearn: 0.2449577\ttotal: 273ms\tremaining: 3.86s\n",
      "66:\tlearn: 0.2438016\ttotal: 274ms\tremaining: 3.82s\n",
      "67:\tlearn: 0.2427607\ttotal: 276ms\tremaining: 3.78s\n",
      "68:\tlearn: 0.2416782\ttotal: 277ms\tremaining: 3.74s\n",
      "69:\tlearn: 0.2404411\ttotal: 279ms\tremaining: 3.7s\n",
      "70:\tlearn: 0.2392417\ttotal: 280ms\tremaining: 3.67s\n",
      "71:\tlearn: 0.2382993\ttotal: 282ms\tremaining: 3.63s\n",
      "72:\tlearn: 0.2373167\ttotal: 283ms\tremaining: 3.6s\n",
      "73:\tlearn: 0.2365627\ttotal: 285ms\tremaining: 3.57s\n",
      "74:\tlearn: 0.2357283\ttotal: 287ms\tremaining: 3.54s\n",
      "75:\tlearn: 0.2346586\ttotal: 288ms\tremaining: 3.51s\n",
      "76:\tlearn: 0.2337151\ttotal: 290ms\tremaining: 3.48s\n",
      "77:\tlearn: 0.2327737\ttotal: 292ms\tremaining: 3.45s\n",
      "78:\tlearn: 0.2321667\ttotal: 293ms\tremaining: 3.42s\n",
      "79:\tlearn: 0.2312693\ttotal: 295ms\tremaining: 3.39s\n",
      "80:\tlearn: 0.2304929\ttotal: 296ms\tremaining: 3.36s\n",
      "81:\tlearn: 0.2296269\ttotal: 298ms\tremaining: 3.34s\n",
      "82:\tlearn: 0.2288095\ttotal: 300ms\tremaining: 3.31s\n",
      "83:\tlearn: 0.2281189\ttotal: 302ms\tremaining: 3.29s\n",
      "84:\tlearn: 0.2275062\ttotal: 304ms\tremaining: 3.27s\n",
      "85:\tlearn: 0.2268710\ttotal: 305ms\tremaining: 3.24s\n",
      "86:\tlearn: 0.2262125\ttotal: 307ms\tremaining: 3.22s\n",
      "87:\tlearn: 0.2252715\ttotal: 309ms\tremaining: 3.2s\n",
      "88:\tlearn: 0.2247748\ttotal: 310ms\tremaining: 3.18s\n",
      "89:\tlearn: 0.2241947\ttotal: 312ms\tremaining: 3.15s\n",
      "90:\tlearn: 0.2237173\ttotal: 314ms\tremaining: 3.13s\n",
      "91:\tlearn: 0.2232141\ttotal: 318ms\tremaining: 3.13s\n",
      "92:\tlearn: 0.2224982\ttotal: 319ms\tremaining: 3.11s\n",
      "93:\tlearn: 0.2219262\ttotal: 321ms\tremaining: 3.1s\n",
      "94:\tlearn: 0.2214687\ttotal: 323ms\tremaining: 3.08s\n",
      "95:\tlearn: 0.2211393\ttotal: 325ms\tremaining: 3.06s\n",
      "96:\tlearn: 0.2206823\ttotal: 327ms\tremaining: 3.04s\n",
      "97:\tlearn: 0.2201476\ttotal: 329ms\tremaining: 3.02s\n",
      "98:\tlearn: 0.2197156\ttotal: 331ms\tremaining: 3.01s\n",
      "99:\tlearn: 0.2190988\ttotal: 333ms\tremaining: 2.99s\n",
      "100:\tlearn: 0.2187601\ttotal: 334ms\tremaining: 2.98s\n",
      "101:\tlearn: 0.2184157\ttotal: 336ms\tremaining: 2.96s\n",
      "102:\tlearn: 0.2179208\ttotal: 338ms\tremaining: 2.94s\n",
      "103:\tlearn: 0.2175102\ttotal: 341ms\tremaining: 2.94s\n",
      "104:\tlearn: 0.2167624\ttotal: 342ms\tremaining: 2.92s\n",
      "105:\tlearn: 0.2163212\ttotal: 347ms\tremaining: 2.92s\n",
      "106:\tlearn: 0.2158067\ttotal: 349ms\tremaining: 2.92s\n",
      "107:\tlearn: 0.2153260\ttotal: 351ms\tremaining: 2.9s\n",
      "108:\tlearn: 0.2149127\ttotal: 352ms\tremaining: 2.88s\n",
      "109:\tlearn: 0.2144476\ttotal: 355ms\tremaining: 2.87s\n",
      "110:\tlearn: 0.2138702\ttotal: 356ms\tremaining: 2.85s\n",
      "111:\tlearn: 0.2135249\ttotal: 358ms\tremaining: 2.83s\n",
      "112:\tlearn: 0.2130886\ttotal: 360ms\tremaining: 2.82s\n",
      "113:\tlearn: 0.2127699\ttotal: 362ms\tremaining: 2.81s\n",
      "114:\tlearn: 0.2120927\ttotal: 368ms\tremaining: 2.83s\n",
      "115:\tlearn: 0.2117820\ttotal: 371ms\tremaining: 2.83s\n",
      "116:\tlearn: 0.2113494\ttotal: 372ms\tremaining: 2.81s\n",
      "117:\tlearn: 0.2109350\ttotal: 374ms\tremaining: 2.79s\n",
      "118:\tlearn: 0.2106383\ttotal: 376ms\tremaining: 2.79s\n",
      "119:\tlearn: 0.2099824\ttotal: 378ms\tremaining: 2.77s\n",
      "120:\tlearn: 0.2096764\ttotal: 380ms\tremaining: 2.76s\n",
      "121:\tlearn: 0.2093138\ttotal: 381ms\tremaining: 2.74s\n",
      "122:\tlearn: 0.2089225\ttotal: 384ms\tremaining: 2.74s\n",
      "123:\tlearn: 0.2086407\ttotal: 386ms\tremaining: 2.73s\n",
      "124:\tlearn: 0.2081262\ttotal: 388ms\tremaining: 2.72s\n",
      "125:\tlearn: 0.2077773\ttotal: 390ms\tremaining: 2.71s\n",
      "126:\tlearn: 0.2073146\ttotal: 392ms\tremaining: 2.69s\n",
      "127:\tlearn: 0.2067973\ttotal: 394ms\tremaining: 2.68s\n",
      "128:\tlearn: 0.2063497\ttotal: 396ms\tremaining: 2.67s\n",
      "129:\tlearn: 0.2059573\ttotal: 397ms\tremaining: 2.66s\n",
      "130:\tlearn: 0.2056968\ttotal: 399ms\tremaining: 2.65s\n",
      "131:\tlearn: 0.2054483\ttotal: 401ms\tremaining: 2.64s\n",
      "132:\tlearn: 0.2051674\ttotal: 406ms\tremaining: 2.65s\n",
      "133:\tlearn: 0.2049382\ttotal: 408ms\tremaining: 2.64s\n",
      "134:\tlearn: 0.2046966\ttotal: 410ms\tremaining: 2.63s\n",
      "135:\tlearn: 0.2044560\ttotal: 411ms\tremaining: 2.61s\n",
      "136:\tlearn: 0.2042071\ttotal: 413ms\tremaining: 2.6s\n",
      "137:\tlearn: 0.2038640\ttotal: 415ms\tremaining: 2.59s\n",
      "138:\tlearn: 0.2035429\ttotal: 417ms\tremaining: 2.58s\n",
      "139:\tlearn: 0.2031419\ttotal: 421ms\tremaining: 2.58s\n",
      "140:\tlearn: 0.2028159\ttotal: 423ms\tremaining: 2.58s\n",
      "141:\tlearn: 0.2026038\ttotal: 425ms\tremaining: 2.56s\n",
      "142:\tlearn: 0.2022374\ttotal: 427ms\tremaining: 2.56s\n",
      "143:\tlearn: 0.2020117\ttotal: 428ms\tremaining: 2.55s\n",
      "144:\tlearn: 0.2015793\ttotal: 430ms\tremaining: 2.54s\n",
      "145:\tlearn: 0.2010884\ttotal: 432ms\tremaining: 2.53s\n",
      "146:\tlearn: 0.2008938\ttotal: 433ms\tremaining: 2.52s\n",
      "147:\tlearn: 0.2006974\ttotal: 436ms\tremaining: 2.51s\n",
      "148:\tlearn: 0.2003830\ttotal: 437ms\tremaining: 2.5s\n",
      "149:\tlearn: 0.2001506\ttotal: 439ms\tremaining: 2.49s\n",
      "150:\tlearn: 0.1997145\ttotal: 441ms\tremaining: 2.48s\n",
      "151:\tlearn: 0.1994126\ttotal: 443ms\tremaining: 2.47s\n",
      "152:\tlearn: 0.1991796\ttotal: 444ms\tremaining: 2.46s\n",
      "153:\tlearn: 0.1987936\ttotal: 446ms\tremaining: 2.45s\n",
      "154:\tlearn: 0.1984473\ttotal: 448ms\tremaining: 2.44s\n",
      "155:\tlearn: 0.1982399\ttotal: 450ms\tremaining: 2.44s\n",
      "156:\tlearn: 0.1978067\ttotal: 452ms\tremaining: 2.43s\n",
      "157:\tlearn: 0.1976327\ttotal: 453ms\tremaining: 2.42s\n",
      "158:\tlearn: 0.1974039\ttotal: 455ms\tremaining: 2.41s\n",
      "159:\tlearn: 0.1971069\ttotal: 457ms\tremaining: 2.4s\n",
      "160:\tlearn: 0.1968041\ttotal: 459ms\tremaining: 2.39s\n",
      "161:\tlearn: 0.1964881\ttotal: 461ms\tremaining: 2.38s\n",
      "162:\tlearn: 0.1960929\ttotal: 462ms\tremaining: 2.37s\n",
      "163:\tlearn: 0.1957784\ttotal: 464ms\tremaining: 2.37s\n",
      "164:\tlearn: 0.1953900\ttotal: 466ms\tremaining: 2.36s\n",
      "165:\tlearn: 0.1952130\ttotal: 468ms\tremaining: 2.35s\n",
      "166:\tlearn: 0.1947455\ttotal: 470ms\tremaining: 2.34s\n",
      "167:\tlearn: 0.1944737\ttotal: 471ms\tremaining: 2.33s\n",
      "168:\tlearn: 0.1941620\ttotal: 473ms\tremaining: 2.33s\n",
      "169:\tlearn: 0.1939950\ttotal: 475ms\tremaining: 2.32s\n",
      "170:\tlearn: 0.1937096\ttotal: 476ms\tremaining: 2.31s\n",
      "171:\tlearn: 0.1935051\ttotal: 478ms\tremaining: 2.3s\n",
      "172:\tlearn: 0.1932790\ttotal: 481ms\tremaining: 2.3s\n",
      "173:\tlearn: 0.1931155\ttotal: 483ms\tremaining: 2.29s\n",
      "174:\tlearn: 0.1927590\ttotal: 484ms\tremaining: 2.28s\n",
      "175:\tlearn: 0.1924694\ttotal: 486ms\tremaining: 2.28s\n",
      "176:\tlearn: 0.1919191\ttotal: 488ms\tremaining: 2.27s\n",
      "177:\tlearn: 0.1916999\ttotal: 489ms\tremaining: 2.26s\n",
      "178:\tlearn: 0.1914942\ttotal: 491ms\tremaining: 2.25s\n",
      "179:\tlearn: 0.1912924\ttotal: 494ms\tremaining: 2.25s\n",
      "180:\tlearn: 0.1910982\ttotal: 496ms\tremaining: 2.24s\n",
      "181:\tlearn: 0.1908221\ttotal: 498ms\tremaining: 2.24s\n",
      "182:\tlearn: 0.1906289\ttotal: 499ms\tremaining: 2.23s\n",
      "183:\tlearn: 0.1904969\ttotal: 502ms\tremaining: 2.22s\n",
      "184:\tlearn: 0.1903739\ttotal: 503ms\tremaining: 2.22s\n",
      "185:\tlearn: 0.1899754\ttotal: 505ms\tremaining: 2.21s\n",
      "186:\tlearn: 0.1898201\ttotal: 506ms\tremaining: 2.2s\n",
      "187:\tlearn: 0.1896750\ttotal: 509ms\tremaining: 2.2s\n",
      "188:\tlearn: 0.1894345\ttotal: 511ms\tremaining: 2.19s\n",
      "189:\tlearn: 0.1891539\ttotal: 512ms\tremaining: 2.18s\n",
      "190:\tlearn: 0.1890106\ttotal: 514ms\tremaining: 2.18s\n",
      "191:\tlearn: 0.1888768\ttotal: 516ms\tremaining: 2.17s\n",
      "192:\tlearn: 0.1884818\ttotal: 519ms\tremaining: 2.17s\n",
      "193:\tlearn: 0.1881622\ttotal: 521ms\tremaining: 2.16s\n",
      "194:\tlearn: 0.1879589\ttotal: 524ms\tremaining: 2.16s\n",
      "195:\tlearn: 0.1877376\ttotal: 525ms\tremaining: 2.15s\n",
      "196:\tlearn: 0.1875484\ttotal: 527ms\tremaining: 2.15s\n",
      "197:\tlearn: 0.1872970\ttotal: 530ms\tremaining: 2.15s\n",
      "198:\tlearn: 0.1868414\ttotal: 533ms\tremaining: 2.15s\n",
      "199:\tlearn: 0.1866033\ttotal: 536ms\tremaining: 2.14s\n",
      "200:\tlearn: 0.1864789\ttotal: 537ms\tremaining: 2.13s\n",
      "201:\tlearn: 0.1862443\ttotal: 540ms\tremaining: 2.13s\n",
      "202:\tlearn: 0.1858061\ttotal: 541ms\tremaining: 2.12s\n",
      "203:\tlearn: 0.1855046\ttotal: 543ms\tremaining: 2.12s\n",
      "204:\tlearn: 0.1852811\ttotal: 545ms\tremaining: 2.11s\n",
      "205:\tlearn: 0.1849639\ttotal: 546ms\tremaining: 2.1s\n",
      "206:\tlearn: 0.1847668\ttotal: 548ms\tremaining: 2.1s\n",
      "207:\tlearn: 0.1844141\ttotal: 550ms\tremaining: 2.09s\n",
      "208:\tlearn: 0.1842857\ttotal: 551ms\tremaining: 2.08s\n",
      "209:\tlearn: 0.1841497\ttotal: 553ms\tremaining: 2.08s\n",
      "210:\tlearn: 0.1838839\ttotal: 556ms\tremaining: 2.08s\n",
      "211:\tlearn: 0.1835405\ttotal: 557ms\tremaining: 2.07s\n",
      "212:\tlearn: 0.1834116\ttotal: 559ms\tremaining: 2.07s\n",
      "213:\tlearn: 0.1831481\ttotal: 561ms\tremaining: 2.06s\n",
      "214:\tlearn: 0.1829948\ttotal: 563ms\tremaining: 2.06s\n",
      "215:\tlearn: 0.1828618\ttotal: 565ms\tremaining: 2.05s\n",
      "216:\tlearn: 0.1825028\ttotal: 566ms\tremaining: 2.04s\n",
      "217:\tlearn: 0.1823363\ttotal: 569ms\tremaining: 2.04s\n",
      "218:\tlearn: 0.1821364\ttotal: 570ms\tremaining: 2.03s\n",
      "219:\tlearn: 0.1817961\ttotal: 572ms\tremaining: 2.03s\n",
      "220:\tlearn: 0.1816892\ttotal: 574ms\tremaining: 2.02s\n",
      "221:\tlearn: 0.1816055\ttotal: 575ms\tremaining: 2.02s\n",
      "222:\tlearn: 0.1811909\ttotal: 577ms\tremaining: 2.01s\n",
      "223:\tlearn: 0.1810500\ttotal: 579ms\tremaining: 2s\n",
      "224:\tlearn: 0.1807827\ttotal: 581ms\tremaining: 2s\n",
      "225:\tlearn: 0.1806707\ttotal: 584ms\tremaining: 2s\n",
      "226:\tlearn: 0.1804073\ttotal: 586ms\tremaining: 1.99s\n",
      "227:\tlearn: 0.1802830\ttotal: 588ms\tremaining: 1.99s\n",
      "228:\tlearn: 0.1801606\ttotal: 590ms\tremaining: 1.99s\n",
      "229:\tlearn: 0.1797667\ttotal: 591ms\tremaining: 1.98s\n",
      "230:\tlearn: 0.1795167\ttotal: 594ms\tremaining: 1.98s\n",
      "231:\tlearn: 0.1791386\ttotal: 595ms\tremaining: 1.97s\n",
      "232:\tlearn: 0.1790171\ttotal: 597ms\tremaining: 1.97s\n",
      "233:\tlearn: 0.1789551\ttotal: 599ms\tremaining: 1.96s\n",
      "234:\tlearn: 0.1788055\ttotal: 601ms\tremaining: 1.96s\n",
      "235:\tlearn: 0.1784488\ttotal: 602ms\tremaining: 1.95s\n",
      "236:\tlearn: 0.1782171\ttotal: 604ms\tremaining: 1.94s\n",
      "237:\tlearn: 0.1780215\ttotal: 606ms\tremaining: 1.94s\n",
      "238:\tlearn: 0.1779099\ttotal: 607ms\tremaining: 1.93s\n",
      "239:\tlearn: 0.1777511\ttotal: 609ms\tremaining: 1.93s\n",
      "240:\tlearn: 0.1776476\ttotal: 610ms\tremaining: 1.92s\n",
      "241:\tlearn: 0.1774315\ttotal: 614ms\tremaining: 1.92s\n",
      "242:\tlearn: 0.1773082\ttotal: 617ms\tremaining: 1.92s\n",
      "243:\tlearn: 0.1772561\ttotal: 620ms\tremaining: 1.92s\n",
      "244:\tlearn: 0.1769033\ttotal: 622ms\tremaining: 1.92s\n",
      "245:\tlearn: 0.1765582\ttotal: 624ms\tremaining: 1.91s\n",
      "246:\tlearn: 0.1761727\ttotal: 625ms\tremaining: 1.91s\n",
      "247:\tlearn: 0.1757165\ttotal: 628ms\tremaining: 1.9s\n",
      "248:\tlearn: 0.1755812\ttotal: 630ms\tremaining: 1.9s\n",
      "249:\tlearn: 0.1753975\ttotal: 631ms\tremaining: 1.89s\n",
      "250:\tlearn: 0.1751819\ttotal: 633ms\tremaining: 1.89s\n",
      "251:\tlearn: 0.1750993\ttotal: 634ms\tremaining: 1.88s\n",
      "252:\tlearn: 0.1746741\ttotal: 635ms\tremaining: 1.88s\n",
      "253:\tlearn: 0.1746147\ttotal: 637ms\tremaining: 1.87s\n",
      "254:\tlearn: 0.1745725\ttotal: 639ms\tremaining: 1.87s\n",
      "255:\tlearn: 0.1744452\ttotal: 641ms\tremaining: 1.86s\n",
      "256:\tlearn: 0.1744093\ttotal: 644ms\tremaining: 1.86s\n",
      "257:\tlearn: 0.1741198\ttotal: 646ms\tremaining: 1.86s\n",
      "258:\tlearn: 0.1739698\ttotal: 647ms\tremaining: 1.85s\n",
      "259:\tlearn: 0.1736951\ttotal: 649ms\tremaining: 1.85s\n",
      "260:\tlearn: 0.1732976\ttotal: 651ms\tremaining: 1.84s\n",
      "261:\tlearn: 0.1730830\ttotal: 653ms\tremaining: 1.84s\n",
      "262:\tlearn: 0.1729376\ttotal: 655ms\tremaining: 1.83s\n",
      "263:\tlearn: 0.1728938\ttotal: 658ms\tremaining: 1.83s\n",
      "264:\tlearn: 0.1727596\ttotal: 660ms\tremaining: 1.83s\n",
      "265:\tlearn: 0.1726776\ttotal: 662ms\tremaining: 1.82s\n",
      "266:\tlearn: 0.1726538\ttotal: 663ms\tremaining: 1.82s\n",
      "267:\tlearn: 0.1724318\ttotal: 665ms\tremaining: 1.81s\n",
      "268:\tlearn: 0.1722350\ttotal: 666ms\tremaining: 1.81s\n",
      "269:\tlearn: 0.1721994\ttotal: 668ms\tremaining: 1.8s\n",
      "270:\tlearn: 0.1719695\ttotal: 671ms\tremaining: 1.8s\n",
      "271:\tlearn: 0.1716237\ttotal: 672ms\tremaining: 1.8s\n",
      "272:\tlearn: 0.1713894\ttotal: 674ms\tremaining: 1.79s\n",
      "273:\tlearn: 0.1712480\ttotal: 676ms\tremaining: 1.79s\n",
      "274:\tlearn: 0.1711825\ttotal: 677ms\tremaining: 1.79s\n",
      "275:\tlearn: 0.1711528\ttotal: 679ms\tremaining: 1.78s\n",
      "276:\tlearn: 0.1708932\ttotal: 681ms\tremaining: 1.78s\n",
      "277:\tlearn: 0.1706311\ttotal: 683ms\tremaining: 1.77s\n",
      "278:\tlearn: 0.1703583\ttotal: 686ms\tremaining: 1.77s\n",
      "279:\tlearn: 0.1700453\ttotal: 688ms\tremaining: 1.77s\n",
      "280:\tlearn: 0.1700201\ttotal: 689ms\tremaining: 1.76s\n",
      "281:\tlearn: 0.1698882\ttotal: 692ms\tremaining: 1.76s\n",
      "282:\tlearn: 0.1698600\ttotal: 693ms\tremaining: 1.75s\n",
      "283:\tlearn: 0.1698222\ttotal: 695ms\tremaining: 1.75s\n",
      "284:\tlearn: 0.1695960\ttotal: 696ms\tremaining: 1.75s\n",
      "285:\tlearn: 0.1694692\ttotal: 698ms\tremaining: 1.74s\n",
      "286:\tlearn: 0.1694404\ttotal: 700ms\tremaining: 1.74s\n",
      "287:\tlearn: 0.1694177\ttotal: 701ms\tremaining: 1.73s\n",
      "288:\tlearn: 0.1691753\ttotal: 703ms\tremaining: 1.73s\n",
      "289:\tlearn: 0.1691481\ttotal: 704ms\tremaining: 1.72s\n",
      "290:\tlearn: 0.1691251\ttotal: 706ms\tremaining: 1.72s\n",
      "291:\tlearn: 0.1690999\ttotal: 707ms\tremaining: 1.71s\n",
      "292:\tlearn: 0.1690794\ttotal: 709ms\tremaining: 1.71s\n",
      "293:\tlearn: 0.1690596\ttotal: 711ms\tremaining: 1.71s\n",
      "294:\tlearn: 0.1688272\ttotal: 713ms\tremaining: 1.71s\n",
      "295:\tlearn: 0.1687476\ttotal: 716ms\tremaining: 1.7s\n",
      "296:\tlearn: 0.1683429\ttotal: 718ms\tremaining: 1.7s\n",
      "297:\tlearn: 0.1681202\ttotal: 720ms\tremaining: 1.7s\n",
      "298:\tlearn: 0.1678677\ttotal: 722ms\tremaining: 1.69s\n",
      "299:\tlearn: 0.1676067\ttotal: 724ms\tremaining: 1.69s\n",
      "300:\tlearn: 0.1673007\ttotal: 726ms\tremaining: 1.69s\n",
      "301:\tlearn: 0.1668949\ttotal: 730ms\tremaining: 1.69s\n",
      "302:\tlearn: 0.1666989\ttotal: 732ms\tremaining: 1.68s\n",
      "303:\tlearn: 0.1666225\ttotal: 734ms\tremaining: 1.68s\n",
      "304:\tlearn: 0.1664884\ttotal: 736ms\tremaining: 1.68s\n",
      "305:\tlearn: 0.1662599\ttotal: 739ms\tremaining: 1.68s\n",
      "306:\tlearn: 0.1660708\ttotal: 741ms\tremaining: 1.67s\n",
      "307:\tlearn: 0.1660376\ttotal: 743ms\tremaining: 1.67s\n",
      "308:\tlearn: 0.1657207\ttotal: 745ms\tremaining: 1.67s\n",
      "309:\tlearn: 0.1654569\ttotal: 747ms\tremaining: 1.66s\n",
      "310:\tlearn: 0.1651647\ttotal: 749ms\tremaining: 1.66s\n",
      "311:\tlearn: 0.1651458\ttotal: 751ms\tremaining: 1.66s\n",
      "312:\tlearn: 0.1649093\ttotal: 753ms\tremaining: 1.65s\n",
      "313:\tlearn: 0.1647649\ttotal: 754ms\tremaining: 1.65s\n",
      "314:\tlearn: 0.1645303\ttotal: 756ms\tremaining: 1.64s\n",
      "315:\tlearn: 0.1643802\ttotal: 758ms\tremaining: 1.64s\n",
      "316:\tlearn: 0.1641613\ttotal: 761ms\tremaining: 1.64s\n",
      "317:\tlearn: 0.1641089\ttotal: 762ms\tremaining: 1.63s\n",
      "318:\tlearn: 0.1639818\ttotal: 764ms\tremaining: 1.63s\n",
      "319:\tlearn: 0.1637979\ttotal: 765ms\tremaining: 1.63s\n",
      "320:\tlearn: 0.1637730\ttotal: 767ms\tremaining: 1.62s\n",
      "321:\tlearn: 0.1635680\ttotal: 769ms\tremaining: 1.62s\n",
      "322:\tlearn: 0.1633292\ttotal: 771ms\tremaining: 1.62s\n",
      "323:\tlearn: 0.1630274\ttotal: 775ms\tremaining: 1.62s\n",
      "324:\tlearn: 0.1629985\ttotal: 777ms\tremaining: 1.61s\n",
      "325:\tlearn: 0.1629823\ttotal: 778ms\tremaining: 1.61s\n",
      "326:\tlearn: 0.1628306\ttotal: 780ms\tremaining: 1.6s\n",
      "327:\tlearn: 0.1628133\ttotal: 782ms\tremaining: 1.6s\n",
      "328:\tlearn: 0.1626419\ttotal: 783ms\tremaining: 1.6s\n",
      "329:\tlearn: 0.1626269\ttotal: 785ms\tremaining: 1.59s\n",
      "330:\tlearn: 0.1622830\ttotal: 788ms\tremaining: 1.59s\n",
      "331:\tlearn: 0.1622666\ttotal: 790ms\tremaining: 1.59s\n",
      "332:\tlearn: 0.1622522\ttotal: 792ms\tremaining: 1.58s\n",
      "333:\tlearn: 0.1620598\ttotal: 794ms\tremaining: 1.58s\n",
      "334:\tlearn: 0.1620352\ttotal: 796ms\tremaining: 1.58s\n",
      "335:\tlearn: 0.1617629\ttotal: 798ms\tremaining: 1.58s\n",
      "336:\tlearn: 0.1616906\ttotal: 800ms\tremaining: 1.57s\n",
      "337:\tlearn: 0.1614685\ttotal: 801ms\tremaining: 1.57s\n",
      "338:\tlearn: 0.1611749\ttotal: 803ms\tremaining: 1.57s\n",
      "339:\tlearn: 0.1609945\ttotal: 805ms\tremaining: 1.56s\n",
      "340:\tlearn: 0.1609318\ttotal: 807ms\tremaining: 1.56s\n",
      "341:\tlearn: 0.1607057\ttotal: 808ms\tremaining: 1.55s\n",
      "342:\tlearn: 0.1605441\ttotal: 810ms\tremaining: 1.55s\n",
      "343:\tlearn: 0.1603411\ttotal: 811ms\tremaining: 1.55s\n",
      "344:\tlearn: 0.1602335\ttotal: 813ms\tremaining: 1.54s\n",
      "345:\tlearn: 0.1601339\ttotal: 814ms\tremaining: 1.54s\n",
      "346:\tlearn: 0.1599713\ttotal: 816ms\tremaining: 1.54s\n",
      "347:\tlearn: 0.1599574\ttotal: 819ms\tremaining: 1.53s\n",
      "348:\tlearn: 0.1599440\ttotal: 821ms\tremaining: 1.53s\n",
      "349:\tlearn: 0.1598069\ttotal: 822ms\tremaining: 1.53s\n",
      "350:\tlearn: 0.1595984\ttotal: 824ms\tremaining: 1.52s\n",
      "351:\tlearn: 0.1593844\ttotal: 826ms\tremaining: 1.52s\n",
      "352:\tlearn: 0.1590800\ttotal: 828ms\tremaining: 1.52s\n",
      "353:\tlearn: 0.1588253\ttotal: 830ms\tremaining: 1.51s\n",
      "354:\tlearn: 0.1586561\ttotal: 832ms\tremaining: 1.51s\n",
      "355:\tlearn: 0.1584794\ttotal: 835ms\tremaining: 1.51s\n",
      "356:\tlearn: 0.1583190\ttotal: 837ms\tremaining: 1.51s\n",
      "357:\tlearn: 0.1582375\ttotal: 839ms\tremaining: 1.5s\n",
      "358:\tlearn: 0.1580330\ttotal: 841ms\tremaining: 1.5s\n",
      "359:\tlearn: 0.1579353\ttotal: 843ms\tremaining: 1.5s\n",
      "360:\tlearn: 0.1577742\ttotal: 845ms\tremaining: 1.5s\n",
      "361:\tlearn: 0.1575585\ttotal: 847ms\tremaining: 1.49s\n",
      "362:\tlearn: 0.1574256\ttotal: 849ms\tremaining: 1.49s\n",
      "363:\tlearn: 0.1573531\ttotal: 851ms\tremaining: 1.49s\n",
      "364:\tlearn: 0.1571563\ttotal: 853ms\tremaining: 1.48s\n",
      "365:\tlearn: 0.1570595\ttotal: 854ms\tremaining: 1.48s\n",
      "366:\tlearn: 0.1568804\ttotal: 856ms\tremaining: 1.48s\n",
      "367:\tlearn: 0.1567153\ttotal: 858ms\tremaining: 1.47s\n",
      "368:\tlearn: 0.1566232\ttotal: 859ms\tremaining: 1.47s\n",
      "369:\tlearn: 0.1564357\ttotal: 861ms\tremaining: 1.47s\n",
      "370:\tlearn: 0.1562818\ttotal: 864ms\tremaining: 1.46s\n",
      "371:\tlearn: 0.1561098\ttotal: 865ms\tremaining: 1.46s\n",
      "372:\tlearn: 0.1559823\ttotal: 867ms\tremaining: 1.46s\n",
      "373:\tlearn: 0.1557281\ttotal: 869ms\tremaining: 1.45s\n",
      "374:\tlearn: 0.1554304\ttotal: 871ms\tremaining: 1.45s\n",
      "375:\tlearn: 0.1553768\ttotal: 873ms\tremaining: 1.45s\n",
      "376:\tlearn: 0.1553077\ttotal: 875ms\tremaining: 1.45s\n",
      "377:\tlearn: 0.1550986\ttotal: 878ms\tremaining: 1.44s\n",
      "378:\tlearn: 0.1549392\ttotal: 880ms\tremaining: 1.44s\n",
      "379:\tlearn: 0.1547665\ttotal: 882ms\tremaining: 1.44s\n",
      "380:\tlearn: 0.1546321\ttotal: 884ms\tremaining: 1.44s\n",
      "381:\tlearn: 0.1545695\ttotal: 885ms\tremaining: 1.43s\n",
      "382:\tlearn: 0.1543499\ttotal: 887ms\tremaining: 1.43s\n",
      "383:\tlearn: 0.1543070\ttotal: 888ms\tremaining: 1.43s\n",
      "384:\tlearn: 0.1541969\ttotal: 890ms\tremaining: 1.42s\n",
      "385:\tlearn: 0.1541472\ttotal: 891ms\tremaining: 1.42s\n",
      "386:\tlearn: 0.1539910\ttotal: 895ms\tremaining: 1.42s\n",
      "387:\tlearn: 0.1538638\ttotal: 898ms\tremaining: 1.42s\n",
      "388:\tlearn: 0.1536225\ttotal: 900ms\tremaining: 1.41s\n",
      "389:\tlearn: 0.1534012\ttotal: 902ms\tremaining: 1.41s\n",
      "390:\tlearn: 0.1531357\ttotal: 904ms\tremaining: 1.41s\n",
      "391:\tlearn: 0.1529413\ttotal: 909ms\tremaining: 1.41s\n",
      "392:\tlearn: 0.1527291\ttotal: 911ms\tremaining: 1.41s\n",
      "393:\tlearn: 0.1524752\ttotal: 915ms\tremaining: 1.41s\n",
      "394:\tlearn: 0.1523578\ttotal: 918ms\tremaining: 1.41s\n",
      "395:\tlearn: 0.1521964\ttotal: 921ms\tremaining: 1.41s\n",
      "396:\tlearn: 0.1521004\ttotal: 925ms\tremaining: 1.41s\n",
      "397:\tlearn: 0.1519452\ttotal: 930ms\tremaining: 1.41s\n",
      "398:\tlearn: 0.1518425\ttotal: 934ms\tremaining: 1.41s\n",
      "399:\tlearn: 0.1517478\ttotal: 935ms\tremaining: 1.4s\n",
      "400:\tlearn: 0.1516905\ttotal: 939ms\tremaining: 1.4s\n",
      "401:\tlearn: 0.1515049\ttotal: 941ms\tremaining: 1.4s\n",
      "402:\tlearn: 0.1513260\ttotal: 943ms\tremaining: 1.4s\n",
      "403:\tlearn: 0.1512556\ttotal: 945ms\tremaining: 1.39s\n",
      "404:\tlearn: 0.1511843\ttotal: 953ms\tremaining: 1.4s\n",
      "405:\tlearn: 0.1510591\ttotal: 965ms\tremaining: 1.41s\n",
      "406:\tlearn: 0.1508846\ttotal: 967ms\tremaining: 1.41s\n",
      "407:\tlearn: 0.1508119\ttotal: 971ms\tremaining: 1.41s\n",
      "408:\tlearn: 0.1506397\ttotal: 974ms\tremaining: 1.41s\n",
      "409:\tlearn: 0.1503595\ttotal: 975ms\tremaining: 1.4s\n",
      "410:\tlearn: 0.1502632\ttotal: 977ms\tremaining: 1.4s\n",
      "411:\tlearn: 0.1501064\ttotal: 979ms\tremaining: 1.4s\n",
      "412:\tlearn: 0.1499650\ttotal: 981ms\tremaining: 1.39s\n",
      "413:\tlearn: 0.1498139\ttotal: 983ms\tremaining: 1.39s\n",
      "414:\tlearn: 0.1496797\ttotal: 986ms\tremaining: 1.39s\n",
      "415:\tlearn: 0.1496141\ttotal: 989ms\tremaining: 1.39s\n",
      "416:\tlearn: 0.1493949\ttotal: 992ms\tremaining: 1.39s\n",
      "417:\tlearn: 0.1492613\ttotal: 996ms\tremaining: 1.39s\n",
      "418:\tlearn: 0.1491567\ttotal: 998ms\tremaining: 1.38s\n",
      "419:\tlearn: 0.1491106\ttotal: 1s\tremaining: 1.39s\n",
      "420:\tlearn: 0.1489723\ttotal: 1.01s\tremaining: 1.38s\n",
      "421:\tlearn: 0.1489311\ttotal: 1.01s\tremaining: 1.38s\n",
      "422:\tlearn: 0.1487788\ttotal: 1.01s\tremaining: 1.38s\n",
      "423:\tlearn: 0.1486309\ttotal: 1.01s\tremaining: 1.38s\n",
      "424:\tlearn: 0.1485633\ttotal: 1.02s\tremaining: 1.37s\n",
      "425:\tlearn: 0.1485047\ttotal: 1.02s\tremaining: 1.37s\n",
      "426:\tlearn: 0.1484308\ttotal: 1.02s\tremaining: 1.37s\n",
      "427:\tlearn: 0.1482475\ttotal: 1.02s\tremaining: 1.36s\n",
      "428:\tlearn: 0.1479131\ttotal: 1.02s\tremaining: 1.36s\n",
      "429:\tlearn: 0.1477297\ttotal: 1.02s\tremaining: 1.36s\n",
      "430:\tlearn: 0.1476611\ttotal: 1.03s\tremaining: 1.35s\n",
      "431:\tlearn: 0.1475002\ttotal: 1.03s\tremaining: 1.35s\n",
      "432:\tlearn: 0.1474475\ttotal: 1.03s\tremaining: 1.35s\n",
      "433:\tlearn: 0.1471909\ttotal: 1.03s\tremaining: 1.35s\n",
      "434:\tlearn: 0.1471288\ttotal: 1.04s\tremaining: 1.35s\n",
      "435:\tlearn: 0.1469792\ttotal: 1.05s\tremaining: 1.35s\n",
      "436:\tlearn: 0.1468546\ttotal: 1.05s\tremaining: 1.35s\n",
      "437:\tlearn: 0.1467165\ttotal: 1.05s\tremaining: 1.35s\n",
      "438:\tlearn: 0.1466649\ttotal: 1.05s\tremaining: 1.35s\n",
      "439:\tlearn: 0.1465278\ttotal: 1.06s\tremaining: 1.34s\n",
      "440:\tlearn: 0.1464733\ttotal: 1.06s\tremaining: 1.34s\n",
      "441:\tlearn: 0.1462766\ttotal: 1.06s\tremaining: 1.34s\n",
      "442:\tlearn: 0.1461534\ttotal: 1.06s\tremaining: 1.34s\n",
      "443:\tlearn: 0.1460302\ttotal: 1.07s\tremaining: 1.33s\n",
      "444:\tlearn: 0.1458917\ttotal: 1.07s\tremaining: 1.33s\n",
      "445:\tlearn: 0.1456431\ttotal: 1.07s\tremaining: 1.33s\n",
      "446:\tlearn: 0.1455166\ttotal: 1.07s\tremaining: 1.33s\n",
      "447:\tlearn: 0.1454288\ttotal: 1.07s\tremaining: 1.32s\n",
      "448:\tlearn: 0.1452185\ttotal: 1.08s\tremaining: 1.32s\n",
      "449:\tlearn: 0.1450635\ttotal: 1.08s\tremaining: 1.32s\n",
      "450:\tlearn: 0.1449630\ttotal: 1.08s\tremaining: 1.32s\n",
      "451:\tlearn: 0.1448000\ttotal: 1.08s\tremaining: 1.31s\n",
      "452:\tlearn: 0.1446734\ttotal: 1.09s\tremaining: 1.31s\n",
      "453:\tlearn: 0.1445372\ttotal: 1.09s\tremaining: 1.31s\n",
      "454:\tlearn: 0.1444218\ttotal: 1.09s\tremaining: 1.31s\n",
      "455:\tlearn: 0.1442436\ttotal: 1.1s\tremaining: 1.31s\n",
      "456:\tlearn: 0.1441503\ttotal: 1.1s\tremaining: 1.31s\n",
      "457:\tlearn: 0.1439768\ttotal: 1.1s\tremaining: 1.3s\n",
      "458:\tlearn: 0.1439173\ttotal: 1.11s\tremaining: 1.31s\n",
      "459:\tlearn: 0.1437770\ttotal: 1.11s\tremaining: 1.3s\n",
      "460:\tlearn: 0.1436515\ttotal: 1.11s\tremaining: 1.3s\n",
      "461:\tlearn: 0.1435031\ttotal: 1.11s\tremaining: 1.3s\n",
      "462:\tlearn: 0.1434078\ttotal: 1.12s\tremaining: 1.29s\n",
      "463:\tlearn: 0.1432633\ttotal: 1.12s\tremaining: 1.29s\n",
      "464:\tlearn: 0.1431373\ttotal: 1.12s\tremaining: 1.29s\n",
      "465:\tlearn: 0.1430130\ttotal: 1.12s\tremaining: 1.29s\n",
      "466:\tlearn: 0.1429348\ttotal: 1.13s\tremaining: 1.28s\n",
      "467:\tlearn: 0.1428358\ttotal: 1.13s\tremaining: 1.28s\n",
      "468:\tlearn: 0.1427125\ttotal: 1.13s\tremaining: 1.28s\n",
      "469:\tlearn: 0.1426021\ttotal: 1.13s\tremaining: 1.27s\n",
      "470:\tlearn: 0.1424418\ttotal: 1.13s\tremaining: 1.27s\n",
      "471:\tlearn: 0.1422947\ttotal: 1.14s\tremaining: 1.27s\n",
      "472:\tlearn: 0.1421745\ttotal: 1.14s\tremaining: 1.27s\n",
      "473:\tlearn: 0.1419956\ttotal: 1.14s\tremaining: 1.27s\n",
      "474:\tlearn: 0.1419009\ttotal: 1.15s\tremaining: 1.27s\n",
      "475:\tlearn: 0.1417953\ttotal: 1.15s\tremaining: 1.27s\n",
      "476:\tlearn: 0.1417043\ttotal: 1.16s\tremaining: 1.27s\n",
      "477:\tlearn: 0.1415668\ttotal: 1.16s\tremaining: 1.27s\n",
      "478:\tlearn: 0.1414449\ttotal: 1.16s\tremaining: 1.26s\n",
      "479:\tlearn: 0.1413708\ttotal: 1.16s\tremaining: 1.26s\n",
      "480:\tlearn: 0.1412512\ttotal: 1.17s\tremaining: 1.26s\n",
      "481:\tlearn: 0.1410611\ttotal: 1.17s\tremaining: 1.26s\n",
      "482:\tlearn: 0.1408394\ttotal: 1.17s\tremaining: 1.25s\n",
      "483:\tlearn: 0.1407474\ttotal: 1.17s\tremaining: 1.25s\n",
      "484:\tlearn: 0.1405606\ttotal: 1.17s\tremaining: 1.25s\n",
      "485:\tlearn: 0.1403027\ttotal: 1.18s\tremaining: 1.24s\n",
      "486:\tlearn: 0.1401967\ttotal: 1.18s\tremaining: 1.24s\n",
      "487:\tlearn: 0.1400913\ttotal: 1.18s\tremaining: 1.24s\n",
      "488:\tlearn: 0.1399561\ttotal: 1.18s\tremaining: 1.24s\n",
      "489:\tlearn: 0.1398850\ttotal: 1.19s\tremaining: 1.23s\n",
      "490:\tlearn: 0.1397177\ttotal: 1.19s\tremaining: 1.23s\n",
      "491:\tlearn: 0.1394997\ttotal: 1.19s\tremaining: 1.23s\n",
      "492:\tlearn: 0.1393565\ttotal: 1.19s\tremaining: 1.23s\n",
      "493:\tlearn: 0.1392932\ttotal: 1.2s\tremaining: 1.23s\n",
      "494:\tlearn: 0.1390580\ttotal: 1.2s\tremaining: 1.22s\n",
      "495:\tlearn: 0.1389687\ttotal: 1.2s\tremaining: 1.22s\n",
      "496:\tlearn: 0.1388760\ttotal: 1.2s\tremaining: 1.22s\n",
      "497:\tlearn: 0.1387793\ttotal: 1.2s\tremaining: 1.21s\n",
      "498:\tlearn: 0.1385574\ttotal: 1.21s\tremaining: 1.21s\n",
      "499:\tlearn: 0.1384218\ttotal: 1.21s\tremaining: 1.21s\n",
      "500:\tlearn: 0.1383158\ttotal: 1.21s\tremaining: 1.2s\n",
      "501:\tlearn: 0.1382145\ttotal: 1.21s\tremaining: 1.2s\n",
      "502:\tlearn: 0.1380880\ttotal: 1.21s\tremaining: 1.2s\n",
      "503:\tlearn: 0.1379723\ttotal: 1.22s\tremaining: 1.2s\n",
      "504:\tlearn: 0.1378543\ttotal: 1.22s\tremaining: 1.19s\n",
      "505:\tlearn: 0.1377453\ttotal: 1.22s\tremaining: 1.19s\n",
      "506:\tlearn: 0.1376424\ttotal: 1.22s\tremaining: 1.19s\n",
      "507:\tlearn: 0.1375467\ttotal: 1.22s\tremaining: 1.18s\n",
      "508:\tlearn: 0.1374664\ttotal: 1.22s\tremaining: 1.18s\n",
      "509:\tlearn: 0.1372955\ttotal: 1.23s\tremaining: 1.18s\n",
      "510:\tlearn: 0.1372235\ttotal: 1.23s\tremaining: 1.18s\n",
      "511:\tlearn: 0.1371007\ttotal: 1.23s\tremaining: 1.17s\n",
      "512:\tlearn: 0.1370033\ttotal: 1.23s\tremaining: 1.17s\n",
      "513:\tlearn: 0.1368209\ttotal: 1.23s\tremaining: 1.17s\n",
      "514:\tlearn: 0.1368103\ttotal: 1.23s\tremaining: 1.16s\n",
      "515:\tlearn: 0.1367900\ttotal: 1.24s\tremaining: 1.16s\n",
      "516:\tlearn: 0.1367564\ttotal: 1.24s\tremaining: 1.16s\n",
      "517:\tlearn: 0.1366692\ttotal: 1.24s\tremaining: 1.15s\n",
      "518:\tlearn: 0.1365571\ttotal: 1.24s\tremaining: 1.15s\n",
      "519:\tlearn: 0.1364038\ttotal: 1.24s\tremaining: 1.15s\n",
      "520:\tlearn: 0.1363484\ttotal: 1.24s\tremaining: 1.14s\n",
      "521:\tlearn: 0.1363265\ttotal: 1.25s\tremaining: 1.14s\n",
      "522:\tlearn: 0.1362708\ttotal: 1.25s\tremaining: 1.14s\n",
      "523:\tlearn: 0.1362214\ttotal: 1.25s\tremaining: 1.14s\n",
      "524:\tlearn: 0.1361746\ttotal: 1.25s\tremaining: 1.13s\n",
      "525:\tlearn: 0.1359733\ttotal: 1.26s\tremaining: 1.13s\n",
      "526:\tlearn: 0.1359589\ttotal: 1.26s\tremaining: 1.13s\n",
      "527:\tlearn: 0.1357534\ttotal: 1.26s\tremaining: 1.13s\n",
      "528:\tlearn: 0.1356176\ttotal: 1.26s\tremaining: 1.12s\n",
      "529:\tlearn: 0.1355805\ttotal: 1.26s\tremaining: 1.12s\n",
      "530:\tlearn: 0.1355514\ttotal: 1.27s\tremaining: 1.12s\n",
      "531:\tlearn: 0.1354761\ttotal: 1.27s\tremaining: 1.12s\n",
      "532:\tlearn: 0.1353580\ttotal: 1.27s\tremaining: 1.12s\n",
      "533:\tlearn: 0.1352911\ttotal: 1.28s\tremaining: 1.11s\n",
      "534:\tlearn: 0.1351260\ttotal: 1.28s\tremaining: 1.11s\n",
      "535:\tlearn: 0.1349663\ttotal: 1.28s\tremaining: 1.11s\n",
      "536:\tlearn: 0.1349455\ttotal: 1.29s\tremaining: 1.11s\n",
      "537:\tlearn: 0.1348756\ttotal: 1.29s\tremaining: 1.11s\n",
      "538:\tlearn: 0.1347764\ttotal: 1.29s\tremaining: 1.1s\n",
      "539:\tlearn: 0.1346936\ttotal: 1.29s\tremaining: 1.1s\n",
      "540:\tlearn: 0.1346112\ttotal: 1.3s\tremaining: 1.1s\n",
      "541:\tlearn: 0.1345185\ttotal: 1.3s\tremaining: 1.1s\n",
      "542:\tlearn: 0.1344690\ttotal: 1.31s\tremaining: 1.1s\n",
      "543:\tlearn: 0.1343709\ttotal: 1.31s\tremaining: 1.1s\n",
      "544:\tlearn: 0.1342220\ttotal: 1.31s\tremaining: 1.1s\n",
      "545:\tlearn: 0.1341445\ttotal: 1.32s\tremaining: 1.1s\n",
      "546:\tlearn: 0.1341061\ttotal: 1.33s\tremaining: 1.1s\n",
      "547:\tlearn: 0.1339980\ttotal: 1.33s\tremaining: 1.1s\n",
      "548:\tlearn: 0.1339213\ttotal: 1.33s\tremaining: 1.1s\n",
      "549:\tlearn: 0.1338910\ttotal: 1.34s\tremaining: 1.1s\n",
      "550:\tlearn: 0.1337523\ttotal: 1.35s\tremaining: 1.1s\n",
      "551:\tlearn: 0.1337197\ttotal: 1.35s\tremaining: 1.1s\n",
      "552:\tlearn: 0.1336424\ttotal: 1.36s\tremaining: 1.1s\n",
      "553:\tlearn: 0.1335681\ttotal: 1.36s\tremaining: 1.09s\n",
      "554:\tlearn: 0.1334428\ttotal: 1.36s\tremaining: 1.09s\n",
      "555:\tlearn: 0.1332895\ttotal: 1.36s\tremaining: 1.09s\n",
      "556:\tlearn: 0.1331908\ttotal: 1.36s\tremaining: 1.08s\n",
      "557:\tlearn: 0.1330675\ttotal: 1.36s\tremaining: 1.08s\n",
      "558:\tlearn: 0.1330017\ttotal: 1.37s\tremaining: 1.08s\n",
      "559:\tlearn: 0.1329192\ttotal: 1.37s\tremaining: 1.07s\n",
      "560:\tlearn: 0.1328546\ttotal: 1.37s\tremaining: 1.07s\n",
      "561:\tlearn: 0.1327454\ttotal: 1.37s\tremaining: 1.07s\n",
      "562:\tlearn: 0.1326751\ttotal: 1.37s\tremaining: 1.07s\n",
      "563:\tlearn: 0.1326555\ttotal: 1.38s\tremaining: 1.06s\n",
      "564:\tlearn: 0.1325654\ttotal: 1.38s\tremaining: 1.06s\n",
      "565:\tlearn: 0.1324937\ttotal: 1.38s\tremaining: 1.06s\n",
      "566:\tlearn: 0.1323726\ttotal: 1.38s\tremaining: 1.05s\n",
      "567:\tlearn: 0.1322859\ttotal: 1.38s\tremaining: 1.05s\n",
      "568:\tlearn: 0.1321443\ttotal: 1.39s\tremaining: 1.05s\n",
      "569:\tlearn: 0.1320392\ttotal: 1.39s\tremaining: 1.05s\n",
      "570:\tlearn: 0.1320063\ttotal: 1.39s\tremaining: 1.04s\n",
      "571:\tlearn: 0.1319496\ttotal: 1.39s\tremaining: 1.04s\n",
      "572:\tlearn: 0.1318064\ttotal: 1.39s\tremaining: 1.04s\n",
      "573:\tlearn: 0.1316766\ttotal: 1.39s\tremaining: 1.03s\n",
      "574:\tlearn: 0.1316091\ttotal: 1.4s\tremaining: 1.03s\n",
      "575:\tlearn: 0.1314809\ttotal: 1.4s\tremaining: 1.03s\n",
      "576:\tlearn: 0.1314764\ttotal: 1.4s\tremaining: 1.03s\n",
      "577:\tlearn: 0.1314468\ttotal: 1.4s\tremaining: 1.02s\n",
      "578:\tlearn: 0.1313957\ttotal: 1.41s\tremaining: 1.02s\n",
      "579:\tlearn: 0.1313335\ttotal: 1.41s\tremaining: 1.02s\n",
      "580:\tlearn: 0.1312673\ttotal: 1.41s\tremaining: 1.01s\n",
      "581:\tlearn: 0.1312124\ttotal: 1.41s\tremaining: 1.01s\n",
      "582:\tlearn: 0.1311520\ttotal: 1.41s\tremaining: 1.01s\n",
      "583:\tlearn: 0.1310701\ttotal: 1.41s\tremaining: 1.01s\n",
      "584:\tlearn: 0.1309938\ttotal: 1.42s\tremaining: 1s\n",
      "585:\tlearn: 0.1308525\ttotal: 1.42s\tremaining: 1s\n",
      "586:\tlearn: 0.1308180\ttotal: 1.42s\tremaining: 998ms\n",
      "587:\tlearn: 0.1306956\ttotal: 1.42s\tremaining: 995ms\n",
      "588:\tlearn: 0.1306514\ttotal: 1.42s\tremaining: 992ms\n",
      "589:\tlearn: 0.1306426\ttotal: 1.42s\tremaining: 989ms\n",
      "590:\tlearn: 0.1305207\ttotal: 1.43s\tremaining: 986ms\n",
      "591:\tlearn: 0.1304362\ttotal: 1.43s\tremaining: 983ms\n",
      "592:\tlearn: 0.1303637\ttotal: 1.43s\tremaining: 980ms\n",
      "593:\tlearn: 0.1302461\ttotal: 1.43s\tremaining: 978ms\n",
      "594:\tlearn: 0.1302369\ttotal: 1.43s\tremaining: 975ms\n",
      "595:\tlearn: 0.1301067\ttotal: 1.43s\tremaining: 972ms\n",
      "596:\tlearn: 0.1300610\ttotal: 1.44s\tremaining: 969ms\n",
      "597:\tlearn: 0.1300070\ttotal: 1.44s\tremaining: 966ms\n",
      "598:\tlearn: 0.1299059\ttotal: 1.44s\tremaining: 963ms\n",
      "599:\tlearn: 0.1297471\ttotal: 1.44s\tremaining: 960ms\n",
      "600:\tlearn: 0.1296928\ttotal: 1.44s\tremaining: 957ms\n",
      "601:\tlearn: 0.1295401\ttotal: 1.44s\tremaining: 955ms\n",
      "602:\tlearn: 0.1294626\ttotal: 1.45s\tremaining: 952ms\n",
      "603:\tlearn: 0.1293942\ttotal: 1.45s\tremaining: 950ms\n",
      "604:\tlearn: 0.1293121\ttotal: 1.45s\tremaining: 947ms\n",
      "605:\tlearn: 0.1292961\ttotal: 1.45s\tremaining: 944ms\n",
      "606:\tlearn: 0.1292436\ttotal: 1.45s\tremaining: 941ms\n",
      "607:\tlearn: 0.1292282\ttotal: 1.45s\tremaining: 938ms\n",
      "608:\tlearn: 0.1291494\ttotal: 1.46s\tremaining: 935ms\n",
      "609:\tlearn: 0.1290687\ttotal: 1.46s\tremaining: 933ms\n",
      "610:\tlearn: 0.1289709\ttotal: 1.46s\tremaining: 931ms\n",
      "611:\tlearn: 0.1289083\ttotal: 1.46s\tremaining: 928ms\n",
      "612:\tlearn: 0.1288478\ttotal: 1.47s\tremaining: 926ms\n",
      "613:\tlearn: 0.1287773\ttotal: 1.47s\tremaining: 923ms\n",
      "614:\tlearn: 0.1287240\ttotal: 1.47s\tremaining: 920ms\n",
      "615:\tlearn: 0.1286636\ttotal: 1.47s\tremaining: 917ms\n",
      "616:\tlearn: 0.1285863\ttotal: 1.47s\tremaining: 914ms\n",
      "617:\tlearn: 0.1284648\ttotal: 1.48s\tremaining: 913ms\n",
      "618:\tlearn: 0.1283228\ttotal: 1.48s\tremaining: 910ms\n",
      "619:\tlearn: 0.1282550\ttotal: 1.48s\tremaining: 908ms\n",
      "620:\tlearn: 0.1281785\ttotal: 1.48s\tremaining: 906ms\n",
      "621:\tlearn: 0.1280892\ttotal: 1.49s\tremaining: 904ms\n",
      "622:\tlearn: 0.1279305\ttotal: 1.49s\tremaining: 901ms\n",
      "623:\tlearn: 0.1278867\ttotal: 1.49s\tremaining: 898ms\n",
      "624:\tlearn: 0.1277787\ttotal: 1.49s\tremaining: 896ms\n",
      "625:\tlearn: 0.1277125\ttotal: 1.49s\tremaining: 893ms\n",
      "626:\tlearn: 0.1276489\ttotal: 1.5s\tremaining: 890ms\n",
      "627:\tlearn: 0.1275037\ttotal: 1.5s\tremaining: 888ms\n",
      "628:\tlearn: 0.1274557\ttotal: 1.5s\tremaining: 885ms\n",
      "629:\tlearn: 0.1273987\ttotal: 1.5s\tremaining: 882ms\n",
      "630:\tlearn: 0.1273436\ttotal: 1.5s\tremaining: 879ms\n",
      "631:\tlearn: 0.1273047\ttotal: 1.5s\tremaining: 876ms\n",
      "632:\tlearn: 0.1272314\ttotal: 1.51s\tremaining: 873ms\n",
      "633:\tlearn: 0.1271383\ttotal: 1.51s\tremaining: 870ms\n",
      "634:\tlearn: 0.1270953\ttotal: 1.51s\tremaining: 868ms\n",
      "635:\tlearn: 0.1270576\ttotal: 1.51s\tremaining: 866ms\n",
      "636:\tlearn: 0.1269874\ttotal: 1.51s\tremaining: 863ms\n",
      "637:\tlearn: 0.1268737\ttotal: 1.51s\tremaining: 860ms\n",
      "638:\tlearn: 0.1268223\ttotal: 1.52s\tremaining: 857ms\n",
      "639:\tlearn: 0.1266768\ttotal: 1.52s\tremaining: 855ms\n",
      "640:\tlearn: 0.1266276\ttotal: 1.52s\tremaining: 852ms\n",
      "641:\tlearn: 0.1266198\ttotal: 1.52s\tremaining: 849ms\n",
      "642:\tlearn: 0.1265622\ttotal: 1.52s\tremaining: 847ms\n",
      "643:\tlearn: 0.1264713\ttotal: 1.53s\tremaining: 844ms\n",
      "644:\tlearn: 0.1263029\ttotal: 1.53s\tremaining: 841ms\n",
      "645:\tlearn: 0.1262693\ttotal: 1.53s\tremaining: 838ms\n",
      "646:\tlearn: 0.1261301\ttotal: 1.53s\tremaining: 835ms\n",
      "647:\tlearn: 0.1260664\ttotal: 1.53s\tremaining: 833ms\n",
      "648:\tlearn: 0.1259697\ttotal: 1.53s\tremaining: 830ms\n",
      "649:\tlearn: 0.1259327\ttotal: 1.53s\tremaining: 827ms\n",
      "650:\tlearn: 0.1258710\ttotal: 1.54s\tremaining: 824ms\n",
      "651:\tlearn: 0.1258347\ttotal: 1.54s\tremaining: 822ms\n",
      "652:\tlearn: 0.1257349\ttotal: 1.54s\tremaining: 820ms\n",
      "653:\tlearn: 0.1256537\ttotal: 1.54s\tremaining: 817ms\n",
      "654:\tlearn: 0.1255782\ttotal: 1.54s\tremaining: 814ms\n",
      "655:\tlearn: 0.1254400\ttotal: 1.55s\tremaining: 812ms\n",
      "656:\tlearn: 0.1254089\ttotal: 1.55s\tremaining: 809ms\n",
      "657:\tlearn: 0.1253862\ttotal: 1.55s\tremaining: 806ms\n",
      "658:\tlearn: 0.1253060\ttotal: 1.55s\tremaining: 803ms\n",
      "659:\tlearn: 0.1252492\ttotal: 1.55s\tremaining: 801ms\n",
      "660:\tlearn: 0.1251789\ttotal: 1.56s\tremaining: 799ms\n",
      "661:\tlearn: 0.1250707\ttotal: 1.56s\tremaining: 796ms\n",
      "662:\tlearn: 0.1250361\ttotal: 1.56s\tremaining: 793ms\n",
      "663:\tlearn: 0.1249263\ttotal: 1.56s\tremaining: 790ms\n",
      "664:\tlearn: 0.1248375\ttotal: 1.56s\tremaining: 788ms\n",
      "665:\tlearn: 0.1247437\ttotal: 1.56s\tremaining: 785ms\n",
      "666:\tlearn: 0.1246880\ttotal: 1.57s\tremaining: 782ms\n",
      "667:\tlearn: 0.1245380\ttotal: 1.57s\tremaining: 779ms\n",
      "668:\tlearn: 0.1244250\ttotal: 1.57s\tremaining: 777ms\n",
      "669:\tlearn: 0.1243137\ttotal: 1.57s\tremaining: 774ms\n",
      "670:\tlearn: 0.1241278\ttotal: 1.57s\tremaining: 772ms\n",
      "671:\tlearn: 0.1240001\ttotal: 1.57s\tremaining: 769ms\n",
      "672:\tlearn: 0.1238707\ttotal: 1.58s\tremaining: 767ms\n",
      "673:\tlearn: 0.1238263\ttotal: 1.58s\tremaining: 764ms\n",
      "674:\tlearn: 0.1237397\ttotal: 1.58s\tremaining: 761ms\n",
      "675:\tlearn: 0.1236899\ttotal: 1.58s\tremaining: 759ms\n",
      "676:\tlearn: 0.1235844\ttotal: 1.58s\tremaining: 756ms\n",
      "677:\tlearn: 0.1234867\ttotal: 1.59s\tremaining: 754ms\n",
      "678:\tlearn: 0.1234340\ttotal: 1.59s\tremaining: 751ms\n",
      "679:\tlearn: 0.1233444\ttotal: 1.59s\tremaining: 748ms\n",
      "680:\tlearn: 0.1232353\ttotal: 1.59s\tremaining: 746ms\n",
      "681:\tlearn: 0.1231422\ttotal: 1.59s\tremaining: 743ms\n",
      "682:\tlearn: 0.1230850\ttotal: 1.59s\tremaining: 741ms\n",
      "683:\tlearn: 0.1229979\ttotal: 1.6s\tremaining: 739ms\n",
      "684:\tlearn: 0.1228717\ttotal: 1.6s\tremaining: 736ms\n",
      "685:\tlearn: 0.1227747\ttotal: 1.6s\tremaining: 734ms\n",
      "686:\tlearn: 0.1227414\ttotal: 1.6s\tremaining: 731ms\n",
      "687:\tlearn: 0.1226633\ttotal: 1.6s\tremaining: 728ms\n",
      "688:\tlearn: 0.1226285\ttotal: 1.61s\tremaining: 725ms\n",
      "689:\tlearn: 0.1225470\ttotal: 1.61s\tremaining: 723ms\n",
      "690:\tlearn: 0.1224392\ttotal: 1.61s\tremaining: 720ms\n",
      "691:\tlearn: 0.1223822\ttotal: 1.61s\tremaining: 717ms\n",
      "692:\tlearn: 0.1222694\ttotal: 1.61s\tremaining: 715ms\n",
      "693:\tlearn: 0.1221681\ttotal: 1.62s\tremaining: 713ms\n",
      "694:\tlearn: 0.1220418\ttotal: 1.62s\tremaining: 710ms\n",
      "695:\tlearn: 0.1219538\ttotal: 1.62s\tremaining: 708ms\n",
      "696:\tlearn: 0.1219380\ttotal: 1.62s\tremaining: 705ms\n",
      "697:\tlearn: 0.1218565\ttotal: 1.62s\tremaining: 703ms\n",
      "698:\tlearn: 0.1218227\ttotal: 1.63s\tremaining: 700ms\n",
      "699:\tlearn: 0.1217689\ttotal: 1.63s\tremaining: 698ms\n",
      "700:\tlearn: 0.1216378\ttotal: 1.63s\tremaining: 696ms\n",
      "701:\tlearn: 0.1215884\ttotal: 1.63s\tremaining: 693ms\n",
      "702:\tlearn: 0.1215614\ttotal: 1.64s\tremaining: 691ms\n",
      "703:\tlearn: 0.1215355\ttotal: 1.64s\tremaining: 689ms\n",
      "704:\tlearn: 0.1214924\ttotal: 1.64s\tremaining: 687ms\n",
      "705:\tlearn: 0.1214482\ttotal: 1.64s\tremaining: 685ms\n",
      "706:\tlearn: 0.1213589\ttotal: 1.65s\tremaining: 683ms\n",
      "707:\tlearn: 0.1212681\ttotal: 1.65s\tremaining: 681ms\n",
      "708:\tlearn: 0.1212163\ttotal: 1.65s\tremaining: 679ms\n",
      "709:\tlearn: 0.1211871\ttotal: 1.66s\tremaining: 676ms\n",
      "710:\tlearn: 0.1210996\ttotal: 1.66s\tremaining: 674ms\n",
      "711:\tlearn: 0.1210781\ttotal: 1.66s\tremaining: 672ms\n",
      "712:\tlearn: 0.1210128\ttotal: 1.66s\tremaining: 669ms\n",
      "713:\tlearn: 0.1209817\ttotal: 1.67s\tremaining: 667ms\n",
      "714:\tlearn: 0.1208546\ttotal: 1.67s\tremaining: 665ms\n",
      "715:\tlearn: 0.1207986\ttotal: 1.67s\tremaining: 662ms\n",
      "716:\tlearn: 0.1207479\ttotal: 1.67s\tremaining: 660ms\n",
      "717:\tlearn: 0.1206272\ttotal: 1.67s\tremaining: 658ms\n",
      "718:\tlearn: 0.1205463\ttotal: 1.68s\tremaining: 655ms\n",
      "719:\tlearn: 0.1204983\ttotal: 1.68s\tremaining: 653ms\n",
      "720:\tlearn: 0.1204668\ttotal: 1.68s\tremaining: 651ms\n",
      "721:\tlearn: 0.1204086\ttotal: 1.68s\tremaining: 648ms\n",
      "722:\tlearn: 0.1202758\ttotal: 1.69s\tremaining: 646ms\n",
      "723:\tlearn: 0.1202306\ttotal: 1.69s\tremaining: 643ms\n",
      "724:\tlearn: 0.1201752\ttotal: 1.69s\tremaining: 641ms\n",
      "725:\tlearn: 0.1201334\ttotal: 1.69s\tremaining: 639ms\n",
      "726:\tlearn: 0.1200352\ttotal: 1.7s\tremaining: 637ms\n",
      "727:\tlearn: 0.1200213\ttotal: 1.7s\tremaining: 635ms\n",
      "728:\tlearn: 0.1199471\ttotal: 1.7s\tremaining: 633ms\n",
      "729:\tlearn: 0.1198858\ttotal: 1.71s\tremaining: 631ms\n",
      "730:\tlearn: 0.1198671\ttotal: 1.71s\tremaining: 630ms\n",
      "731:\tlearn: 0.1197488\ttotal: 1.71s\tremaining: 628ms\n",
      "732:\tlearn: 0.1197230\ttotal: 1.72s\tremaining: 625ms\n",
      "733:\tlearn: 0.1196481\ttotal: 1.72s\tremaining: 624ms\n",
      "734:\tlearn: 0.1195538\ttotal: 1.72s\tremaining: 621ms\n",
      "735:\tlearn: 0.1195293\ttotal: 1.73s\tremaining: 619ms\n",
      "736:\tlearn: 0.1194419\ttotal: 1.73s\tremaining: 617ms\n",
      "737:\tlearn: 0.1194314\ttotal: 1.73s\tremaining: 615ms\n",
      "738:\tlearn: 0.1193870\ttotal: 1.73s\tremaining: 612ms\n",
      "739:\tlearn: 0.1193681\ttotal: 1.74s\tremaining: 610ms\n",
      "740:\tlearn: 0.1192499\ttotal: 1.74s\tremaining: 607ms\n",
      "741:\tlearn: 0.1190308\ttotal: 1.74s\tremaining: 605ms\n",
      "742:\tlearn: 0.1189864\ttotal: 1.74s\tremaining: 602ms\n",
      "743:\tlearn: 0.1189748\ttotal: 1.74s\tremaining: 600ms\n",
      "744:\tlearn: 0.1188942\ttotal: 1.75s\tremaining: 598ms\n",
      "745:\tlearn: 0.1188167\ttotal: 1.75s\tremaining: 596ms\n",
      "746:\tlearn: 0.1187533\ttotal: 1.75s\tremaining: 594ms\n",
      "747:\tlearn: 0.1186417\ttotal: 1.75s\tremaining: 591ms\n",
      "748:\tlearn: 0.1186312\ttotal: 1.76s\tremaining: 589ms\n",
      "749:\tlearn: 0.1185594\ttotal: 1.76s\tremaining: 586ms\n",
      "750:\tlearn: 0.1185112\ttotal: 1.76s\tremaining: 584ms\n",
      "751:\tlearn: 0.1184513\ttotal: 1.76s\tremaining: 582ms\n",
      "752:\tlearn: 0.1183493\ttotal: 1.77s\tremaining: 580ms\n",
      "753:\tlearn: 0.1182848\ttotal: 1.77s\tremaining: 577ms\n",
      "754:\tlearn: 0.1182437\ttotal: 1.77s\tremaining: 575ms\n",
      "755:\tlearn: 0.1181957\ttotal: 1.77s\tremaining: 572ms\n",
      "756:\tlearn: 0.1180897\ttotal: 1.77s\tremaining: 570ms\n",
      "757:\tlearn: 0.1180007\ttotal: 1.78s\tremaining: 568ms\n",
      "758:\tlearn: 0.1179078\ttotal: 1.78s\tremaining: 565ms\n",
      "759:\tlearn: 0.1177846\ttotal: 1.78s\tremaining: 563ms\n",
      "760:\tlearn: 0.1176347\ttotal: 1.78s\tremaining: 560ms\n",
      "761:\tlearn: 0.1175901\ttotal: 1.79s\tremaining: 558ms\n",
      "762:\tlearn: 0.1175623\ttotal: 1.79s\tremaining: 556ms\n",
      "763:\tlearn: 0.1175162\ttotal: 1.79s\tremaining: 553ms\n",
      "764:\tlearn: 0.1174366\ttotal: 1.8s\tremaining: 552ms\n",
      "765:\tlearn: 0.1174259\ttotal: 1.8s\tremaining: 550ms\n",
      "766:\tlearn: 0.1174093\ttotal: 1.8s\tremaining: 547ms\n",
      "767:\tlearn: 0.1173818\ttotal: 1.8s\tremaining: 545ms\n",
      "768:\tlearn: 0.1173067\ttotal: 1.81s\tremaining: 543ms\n",
      "769:\tlearn: 0.1172576\ttotal: 1.81s\tremaining: 541ms\n",
      "770:\tlearn: 0.1171651\ttotal: 1.81s\tremaining: 539ms\n",
      "771:\tlearn: 0.1171029\ttotal: 1.82s\tremaining: 537ms\n",
      "772:\tlearn: 0.1170933\ttotal: 1.82s\tremaining: 534ms\n",
      "773:\tlearn: 0.1170672\ttotal: 1.82s\tremaining: 532ms\n",
      "774:\tlearn: 0.1170330\ttotal: 1.82s\tremaining: 530ms\n",
      "775:\tlearn: 0.1169829\ttotal: 1.83s\tremaining: 527ms\n",
      "776:\tlearn: 0.1169070\ttotal: 1.83s\tremaining: 525ms\n",
      "777:\tlearn: 0.1168953\ttotal: 1.83s\tremaining: 523ms\n",
      "778:\tlearn: 0.1168905\ttotal: 1.84s\tremaining: 521ms\n",
      "779:\tlearn: 0.1168570\ttotal: 1.84s\tremaining: 519ms\n",
      "780:\tlearn: 0.1167175\ttotal: 1.84s\tremaining: 517ms\n",
      "781:\tlearn: 0.1166611\ttotal: 1.84s\tremaining: 514ms\n",
      "782:\tlearn: 0.1166171\ttotal: 1.85s\tremaining: 512ms\n",
      "783:\tlearn: 0.1165581\ttotal: 1.85s\tremaining: 510ms\n",
      "784:\tlearn: 0.1164279\ttotal: 1.85s\tremaining: 507ms\n",
      "785:\tlearn: 0.1163279\ttotal: 1.86s\tremaining: 505ms\n",
      "786:\tlearn: 0.1162463\ttotal: 1.86s\tremaining: 504ms\n",
      "787:\tlearn: 0.1162429\ttotal: 1.86s\tremaining: 502ms\n",
      "788:\tlearn: 0.1162404\ttotal: 1.87s\tremaining: 499ms\n",
      "789:\tlearn: 0.1162130\ttotal: 1.87s\tremaining: 497ms\n",
      "790:\tlearn: 0.1161867\ttotal: 1.87s\tremaining: 495ms\n",
      "791:\tlearn: 0.1161399\ttotal: 1.88s\tremaining: 493ms\n",
      "792:\tlearn: 0.1160633\ttotal: 1.88s\tremaining: 490ms\n",
      "793:\tlearn: 0.1159792\ttotal: 1.88s\tremaining: 488ms\n",
      "794:\tlearn: 0.1159629\ttotal: 1.88s\tremaining: 486ms\n",
      "795:\tlearn: 0.1158958\ttotal: 1.89s\tremaining: 484ms\n",
      "796:\tlearn: 0.1157818\ttotal: 1.89s\tremaining: 481ms\n",
      "797:\tlearn: 0.1157166\ttotal: 1.89s\tremaining: 479ms\n",
      "798:\tlearn: 0.1157107\ttotal: 1.9s\tremaining: 477ms\n",
      "799:\tlearn: 0.1156781\ttotal: 1.9s\tremaining: 474ms\n",
      "800:\tlearn: 0.1156468\ttotal: 1.9s\tremaining: 472ms\n",
      "801:\tlearn: 0.1156382\ttotal: 1.9s\tremaining: 470ms\n",
      "802:\tlearn: 0.1155863\ttotal: 1.91s\tremaining: 468ms\n",
      "803:\tlearn: 0.1155526\ttotal: 1.91s\tremaining: 465ms\n",
      "804:\tlearn: 0.1154699\ttotal: 1.91s\tremaining: 463ms\n",
      "805:\tlearn: 0.1154536\ttotal: 1.91s\tremaining: 461ms\n",
      "806:\tlearn: 0.1154324\ttotal: 1.92s\tremaining: 458ms\n",
      "807:\tlearn: 0.1153823\ttotal: 1.92s\tremaining: 456ms\n",
      "808:\tlearn: 0.1152629\ttotal: 1.92s\tremaining: 453ms\n",
      "809:\tlearn: 0.1152142\ttotal: 1.92s\tremaining: 451ms\n",
      "810:\tlearn: 0.1151505\ttotal: 1.92s\tremaining: 449ms\n",
      "811:\tlearn: 0.1151145\ttotal: 1.93s\tremaining: 446ms\n",
      "812:\tlearn: 0.1150564\ttotal: 1.93s\tremaining: 444ms\n",
      "813:\tlearn: 0.1149770\ttotal: 1.93s\tremaining: 442ms\n",
      "814:\tlearn: 0.1149692\ttotal: 1.94s\tremaining: 439ms\n",
      "815:\tlearn: 0.1148975\ttotal: 1.94s\tremaining: 437ms\n",
      "816:\tlearn: 0.1147876\ttotal: 1.94s\tremaining: 435ms\n",
      "817:\tlearn: 0.1146852\ttotal: 1.94s\tremaining: 432ms\n",
      "818:\tlearn: 0.1146582\ttotal: 1.95s\tremaining: 430ms\n",
      "819:\tlearn: 0.1146180\ttotal: 1.95s\tremaining: 427ms\n",
      "820:\tlearn: 0.1145672\ttotal: 1.95s\tremaining: 425ms\n",
      "821:\tlearn: 0.1145459\ttotal: 1.95s\tremaining: 422ms\n",
      "822:\tlearn: 0.1144991\ttotal: 1.95s\tremaining: 420ms\n",
      "823:\tlearn: 0.1144291\ttotal: 1.95s\tremaining: 417ms\n",
      "824:\tlearn: 0.1143497\ttotal: 1.96s\tremaining: 415ms\n",
      "825:\tlearn: 0.1142770\ttotal: 1.96s\tremaining: 412ms\n",
      "826:\tlearn: 0.1141436\ttotal: 1.96s\tremaining: 410ms\n",
      "827:\tlearn: 0.1140752\ttotal: 1.96s\tremaining: 408ms\n",
      "828:\tlearn: 0.1140132\ttotal: 1.97s\tremaining: 405ms\n",
      "829:\tlearn: 0.1139633\ttotal: 1.97s\tremaining: 403ms\n",
      "830:\tlearn: 0.1138848\ttotal: 1.97s\tremaining: 401ms\n",
      "831:\tlearn: 0.1138682\ttotal: 1.97s\tremaining: 398ms\n",
      "832:\tlearn: 0.1138253\ttotal: 1.97s\tremaining: 395ms\n",
      "833:\tlearn: 0.1138234\ttotal: 1.98s\tremaining: 393ms\n",
      "834:\tlearn: 0.1137850\ttotal: 1.98s\tremaining: 391ms\n",
      "835:\tlearn: 0.1136798\ttotal: 1.98s\tremaining: 388ms\n",
      "836:\tlearn: 0.1136119\ttotal: 2s\tremaining: 389ms\n",
      "837:\tlearn: 0.1135637\ttotal: 2s\tremaining: 386ms\n",
      "838:\tlearn: 0.1135130\ttotal: 2s\tremaining: 384ms\n",
      "839:\tlearn: 0.1135111\ttotal: 2s\tremaining: 381ms\n",
      "840:\tlearn: 0.1135086\ttotal: 2s\tremaining: 379ms\n",
      "841:\tlearn: 0.1134154\ttotal: 2.01s\tremaining: 377ms\n",
      "842:\tlearn: 0.1133620\ttotal: 2.01s\tremaining: 375ms\n",
      "843:\tlearn: 0.1133526\ttotal: 2.01s\tremaining: 372ms\n",
      "844:\tlearn: 0.1132919\ttotal: 2.02s\tremaining: 370ms\n",
      "845:\tlearn: 0.1131267\ttotal: 2.02s\tremaining: 367ms\n",
      "846:\tlearn: 0.1129998\ttotal: 2.02s\tremaining: 365ms\n",
      "847:\tlearn: 0.1129320\ttotal: 2.02s\tremaining: 363ms\n",
      "848:\tlearn: 0.1129086\ttotal: 2.03s\tremaining: 360ms\n",
      "849:\tlearn: 0.1128197\ttotal: 2.03s\tremaining: 358ms\n",
      "850:\tlearn: 0.1127548\ttotal: 2.03s\tremaining: 356ms\n",
      "851:\tlearn: 0.1127177\ttotal: 2.03s\tremaining: 353ms\n",
      "852:\tlearn: 0.1126610\ttotal: 2.04s\tremaining: 351ms\n",
      "853:\tlearn: 0.1126362\ttotal: 2.04s\tremaining: 348ms\n",
      "854:\tlearn: 0.1125609\ttotal: 2.04s\tremaining: 346ms\n",
      "855:\tlearn: 0.1125337\ttotal: 2.04s\tremaining: 344ms\n",
      "856:\tlearn: 0.1124913\ttotal: 2.05s\tremaining: 341ms\n",
      "857:\tlearn: 0.1124055\ttotal: 2.05s\tremaining: 339ms\n",
      "858:\tlearn: 0.1123762\ttotal: 2.06s\tremaining: 337ms\n",
      "859:\tlearn: 0.1122772\ttotal: 2.06s\tremaining: 335ms\n",
      "860:\tlearn: 0.1122463\ttotal: 2.06s\tremaining: 333ms\n",
      "861:\tlearn: 0.1122034\ttotal: 2.06s\tremaining: 330ms\n",
      "862:\tlearn: 0.1121717\ttotal: 2.06s\tremaining: 328ms\n",
      "863:\tlearn: 0.1120432\ttotal: 2.07s\tremaining: 325ms\n",
      "864:\tlearn: 0.1120228\ttotal: 2.07s\tremaining: 323ms\n",
      "865:\tlearn: 0.1119484\ttotal: 2.07s\tremaining: 321ms\n",
      "866:\tlearn: 0.1118705\ttotal: 2.07s\tremaining: 318ms\n",
      "867:\tlearn: 0.1117747\ttotal: 2.08s\tremaining: 316ms\n",
      "868:\tlearn: 0.1117303\ttotal: 2.08s\tremaining: 313ms\n",
      "869:\tlearn: 0.1116357\ttotal: 2.08s\tremaining: 311ms\n",
      "870:\tlearn: 0.1116057\ttotal: 2.08s\tremaining: 309ms\n",
      "871:\tlearn: 0.1115535\ttotal: 2.09s\tremaining: 306ms\n",
      "872:\tlearn: 0.1115032\ttotal: 2.09s\tremaining: 304ms\n",
      "873:\tlearn: 0.1113876\ttotal: 2.09s\tremaining: 301ms\n",
      "874:\tlearn: 0.1113436\ttotal: 2.09s\tremaining: 299ms\n",
      "875:\tlearn: 0.1113241\ttotal: 2.09s\tremaining: 296ms\n",
      "876:\tlearn: 0.1112913\ttotal: 2.1s\tremaining: 294ms\n",
      "877:\tlearn: 0.1112456\ttotal: 2.1s\tremaining: 292ms\n",
      "878:\tlearn: 0.1111738\ttotal: 2.1s\tremaining: 290ms\n",
      "879:\tlearn: 0.1111054\ttotal: 2.11s\tremaining: 287ms\n",
      "880:\tlearn: 0.1110764\ttotal: 2.11s\tremaining: 285ms\n",
      "881:\tlearn: 0.1110345\ttotal: 2.11s\tremaining: 282ms\n",
      "882:\tlearn: 0.1110079\ttotal: 2.11s\tremaining: 280ms\n",
      "883:\tlearn: 0.1109682\ttotal: 2.12s\tremaining: 278ms\n",
      "884:\tlearn: 0.1108758\ttotal: 2.12s\tremaining: 275ms\n",
      "885:\tlearn: 0.1108177\ttotal: 2.12s\tremaining: 273ms\n",
      "886:\tlearn: 0.1107799\ttotal: 2.12s\tremaining: 270ms\n",
      "887:\tlearn: 0.1107776\ttotal: 2.12s\tremaining: 268ms\n",
      "888:\tlearn: 0.1107365\ttotal: 2.13s\tremaining: 266ms\n",
      "889:\tlearn: 0.1107079\ttotal: 2.13s\tremaining: 263ms\n",
      "890:\tlearn: 0.1106352\ttotal: 2.13s\tremaining: 261ms\n",
      "891:\tlearn: 0.1105592\ttotal: 2.13s\tremaining: 258ms\n",
      "892:\tlearn: 0.1105211\ttotal: 2.13s\tremaining: 256ms\n",
      "893:\tlearn: 0.1105037\ttotal: 2.14s\tremaining: 253ms\n",
      "894:\tlearn: 0.1104276\ttotal: 2.14s\tremaining: 251ms\n",
      "895:\tlearn: 0.1103250\ttotal: 2.14s\tremaining: 248ms\n",
      "896:\tlearn: 0.1102307\ttotal: 2.14s\tremaining: 246ms\n",
      "897:\tlearn: 0.1101541\ttotal: 2.14s\tremaining: 244ms\n",
      "898:\tlearn: 0.1101471\ttotal: 2.15s\tremaining: 241ms\n",
      "899:\tlearn: 0.1101136\ttotal: 2.15s\tremaining: 239ms\n",
      "900:\tlearn: 0.1100424\ttotal: 2.15s\tremaining: 236ms\n",
      "901:\tlearn: 0.1099604\ttotal: 2.15s\tremaining: 234ms\n",
      "902:\tlearn: 0.1099288\ttotal: 2.15s\tremaining: 231ms\n",
      "903:\tlearn: 0.1098910\ttotal: 2.16s\tremaining: 229ms\n",
      "904:\tlearn: 0.1098561\ttotal: 2.16s\tremaining: 227ms\n",
      "905:\tlearn: 0.1098200\ttotal: 2.16s\tremaining: 224ms\n",
      "906:\tlearn: 0.1097893\ttotal: 2.17s\tremaining: 222ms\n",
      "907:\tlearn: 0.1097098\ttotal: 2.17s\tremaining: 220ms\n",
      "908:\tlearn: 0.1097000\ttotal: 2.17s\tremaining: 217ms\n",
      "909:\tlearn: 0.1096203\ttotal: 2.17s\tremaining: 215ms\n",
      "910:\tlearn: 0.1095676\ttotal: 2.17s\tremaining: 212ms\n",
      "911:\tlearn: 0.1095412\ttotal: 2.18s\tremaining: 210ms\n",
      "912:\tlearn: 0.1094276\ttotal: 2.18s\tremaining: 208ms\n",
      "913:\tlearn: 0.1093667\ttotal: 2.18s\tremaining: 206ms\n",
      "914:\tlearn: 0.1093652\ttotal: 2.19s\tremaining: 203ms\n",
      "915:\tlearn: 0.1092892\ttotal: 2.19s\tremaining: 201ms\n",
      "916:\tlearn: 0.1092331\ttotal: 2.19s\tremaining: 198ms\n",
      "917:\tlearn: 0.1091882\ttotal: 2.19s\tremaining: 196ms\n",
      "918:\tlearn: 0.1091022\ttotal: 2.19s\tremaining: 193ms\n",
      "919:\tlearn: 0.1090581\ttotal: 2.2s\tremaining: 191ms\n",
      "920:\tlearn: 0.1089696\ttotal: 2.2s\tremaining: 189ms\n",
      "921:\tlearn: 0.1088761\ttotal: 2.2s\tremaining: 186ms\n",
      "922:\tlearn: 0.1088084\ttotal: 2.2s\tremaining: 184ms\n",
      "923:\tlearn: 0.1087858\ttotal: 2.21s\tremaining: 181ms\n",
      "924:\tlearn: 0.1087100\ttotal: 2.21s\tremaining: 179ms\n",
      "925:\tlearn: 0.1086609\ttotal: 2.21s\tremaining: 177ms\n",
      "926:\tlearn: 0.1085825\ttotal: 2.22s\tremaining: 175ms\n",
      "927:\tlearn: 0.1085075\ttotal: 2.23s\tremaining: 173ms\n",
      "928:\tlearn: 0.1084658\ttotal: 2.23s\tremaining: 170ms\n",
      "929:\tlearn: 0.1084538\ttotal: 2.23s\tremaining: 168ms\n",
      "930:\tlearn: 0.1083991\ttotal: 2.23s\tremaining: 166ms\n",
      "931:\tlearn: 0.1083476\ttotal: 2.24s\tremaining: 163ms\n",
      "932:\tlearn: 0.1083451\ttotal: 2.24s\tremaining: 161ms\n",
      "933:\tlearn: 0.1082969\ttotal: 2.24s\tremaining: 158ms\n",
      "934:\tlearn: 0.1082821\ttotal: 2.24s\tremaining: 156ms\n",
      "935:\tlearn: 0.1082286\ttotal: 2.25s\tremaining: 154ms\n",
      "936:\tlearn: 0.1081812\ttotal: 2.25s\tremaining: 151ms\n",
      "937:\tlearn: 0.1081615\ttotal: 2.25s\tremaining: 149ms\n",
      "938:\tlearn: 0.1080857\ttotal: 2.25s\tremaining: 146ms\n",
      "939:\tlearn: 0.1079983\ttotal: 2.26s\tremaining: 144ms\n",
      "940:\tlearn: 0.1079483\ttotal: 2.26s\tremaining: 142ms\n",
      "941:\tlearn: 0.1079057\ttotal: 2.26s\tremaining: 139ms\n",
      "942:\tlearn: 0.1078299\ttotal: 2.26s\tremaining: 137ms\n",
      "943:\tlearn: 0.1078074\ttotal: 2.26s\tremaining: 134ms\n",
      "944:\tlearn: 0.1078051\ttotal: 2.27s\tremaining: 132ms\n",
      "945:\tlearn: 0.1077689\ttotal: 2.27s\tremaining: 129ms\n",
      "946:\tlearn: 0.1077020\ttotal: 2.27s\tremaining: 127ms\n",
      "947:\tlearn: 0.1076905\ttotal: 2.27s\tremaining: 125ms\n",
      "948:\tlearn: 0.1076490\ttotal: 2.27s\tremaining: 122ms\n",
      "949:\tlearn: 0.1075956\ttotal: 2.27s\tremaining: 120ms\n",
      "950:\tlearn: 0.1075315\ttotal: 2.28s\tremaining: 117ms\n",
      "951:\tlearn: 0.1075295\ttotal: 2.28s\tremaining: 115ms\n",
      "952:\tlearn: 0.1074200\ttotal: 2.28s\tremaining: 113ms\n",
      "953:\tlearn: 0.1073508\ttotal: 2.28s\tremaining: 110ms\n",
      "954:\tlearn: 0.1073490\ttotal: 2.29s\tremaining: 108ms\n",
      "955:\tlearn: 0.1072879\ttotal: 2.29s\tremaining: 105ms\n",
      "956:\tlearn: 0.1071918\ttotal: 2.29s\tremaining: 103ms\n",
      "957:\tlearn: 0.1071485\ttotal: 2.29s\tremaining: 100ms\n",
      "958:\tlearn: 0.1070769\ttotal: 2.29s\tremaining: 98.1ms\n",
      "959:\tlearn: 0.1070493\ttotal: 2.3s\tremaining: 95.8ms\n",
      "960:\tlearn: 0.1070056\ttotal: 2.3s\tremaining: 93.4ms\n",
      "961:\tlearn: 0.1069956\ttotal: 2.3s\tremaining: 91ms\n",
      "962:\tlearn: 0.1069465\ttotal: 2.31s\tremaining: 88.6ms\n",
      "963:\tlearn: 0.1069308\ttotal: 2.31s\tremaining: 86.2ms\n",
      "964:\tlearn: 0.1068886\ttotal: 2.31s\tremaining: 83.8ms\n",
      "965:\tlearn: 0.1068226\ttotal: 2.31s\tremaining: 81.4ms\n",
      "966:\tlearn: 0.1068069\ttotal: 2.31s\tremaining: 79ms\n",
      "967:\tlearn: 0.1067417\ttotal: 2.32s\tremaining: 76.7ms\n",
      "968:\tlearn: 0.1066689\ttotal: 2.33s\tremaining: 74.4ms\n",
      "969:\tlearn: 0.1066328\ttotal: 2.33s\tremaining: 72.1ms\n",
      "970:\tlearn: 0.1066110\ttotal: 2.33s\tremaining: 69.7ms\n",
      "971:\tlearn: 0.1065844\ttotal: 2.34s\tremaining: 67.4ms\n",
      "972:\tlearn: 0.1064975\ttotal: 2.34s\tremaining: 65.1ms\n",
      "973:\tlearn: 0.1063998\ttotal: 2.35s\tremaining: 62.7ms\n",
      "974:\tlearn: 0.1063360\ttotal: 2.35s\tremaining: 60.2ms\n",
      "975:\tlearn: 0.1062685\ttotal: 2.35s\tremaining: 57.8ms\n",
      "976:\tlearn: 0.1061985\ttotal: 2.36s\tremaining: 55.5ms\n",
      "977:\tlearn: 0.1061946\ttotal: 2.36s\tremaining: 53.1ms\n",
      "978:\tlearn: 0.1061672\ttotal: 2.36s\tremaining: 50.7ms\n",
      "979:\tlearn: 0.1061121\ttotal: 2.37s\tremaining: 48.3ms\n",
      "980:\tlearn: 0.1061077\ttotal: 2.37s\tremaining: 45.9ms\n",
      "981:\tlearn: 0.1060750\ttotal: 2.37s\tremaining: 43.5ms\n",
      "982:\tlearn: 0.1060730\ttotal: 2.38s\tremaining: 41.1ms\n",
      "983:\tlearn: 0.1060369\ttotal: 2.38s\tremaining: 38.7ms\n",
      "984:\tlearn: 0.1059821\ttotal: 2.38s\tremaining: 36.3ms\n",
      "985:\tlearn: 0.1059195\ttotal: 2.38s\tremaining: 33.9ms\n",
      "986:\tlearn: 0.1059034\ttotal: 2.39s\tremaining: 31.5ms\n",
      "987:\tlearn: 0.1058754\ttotal: 2.39s\tremaining: 29ms\n",
      "988:\tlearn: 0.1058078\ttotal: 2.39s\tremaining: 26.6ms\n",
      "989:\tlearn: 0.1056599\ttotal: 2.4s\tremaining: 24.2ms\n",
      "990:\tlearn: 0.1055754\ttotal: 2.4s\tremaining: 21.8ms\n",
      "991:\tlearn: 0.1055189\ttotal: 2.4s\tremaining: 19.4ms\n",
      "992:\tlearn: 0.1054936\ttotal: 2.4s\tremaining: 16.9ms\n",
      "993:\tlearn: 0.1054304\ttotal: 2.41s\tremaining: 14.5ms\n",
      "994:\tlearn: 0.1053731\ttotal: 2.41s\tremaining: 12.1ms\n",
      "995:\tlearn: 0.1053620\ttotal: 2.41s\tremaining: 9.7ms\n",
      "996:\tlearn: 0.1052839\ttotal: 2.42s\tremaining: 7.28ms\n",
      "997:\tlearn: 0.1052613\ttotal: 2.42s\tremaining: 4.85ms\n",
      "998:\tlearn: 0.1052311\ttotal: 2.42s\tremaining: 2.42ms\n",
      "999:\tlearn: 0.1051456\ttotal: 2.42s\tremaining: 0us\n",
      "\n",
      "------ CatBoostRegressor ------\n",
      "+ Training accuracy\n",
      "|            R2 Score: 97.2%\n",
      "| Mean Absolute Error: 0.0111\n",
      "|           Max Error: 0.408\n",
      "+ Test accuracy\n",
      "|            R2 Score: 91.7%\n",
      "| Mean Absolute Error: 0.0318\n",
      "|           Max Error: 0.56\n"
     ]
    }
   ],
   "source": [
    "print(f'\\n evaluating {len(models)} models')\n",
    "for model in models:\n",
    "        evaluate(model)"
   ]
  },
  {
   "cell_type": "code",
   "execution_count": null,
   "metadata": {},
   "outputs": [],
   "source": []
  }
 ],
 "metadata": {
  "kernelspec": {
   "display_name": "Python 3.9.6 ('.venv': venv)",
   "language": "python",
   "name": "python3"
  },
  "language_info": {
   "codemirror_mode": {
    "name": "ipython",
    "version": 3
   },
   "file_extension": ".py",
   "mimetype": "text/x-python",
   "name": "python",
   "nbconvert_exporter": "python",
   "pygments_lexer": "ipython3",
   "version": "3.9.6"
  },
  "orig_nbformat": 4,
  "vscode": {
   "interpreter": {
    "hash": "81d2be80a4c93ee76e2bb36b6ce35058c08a327440cff29ca620ef59d1824cbb"
   }
  }
 },
 "nbformat": 4,
 "nbformat_minor": 2
}
